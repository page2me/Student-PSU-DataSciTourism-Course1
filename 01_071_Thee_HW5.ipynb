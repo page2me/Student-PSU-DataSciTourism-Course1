{
  "cells": [
    {
      "cell_type": "code",
      "source": [
        "!apt-get install openjdk-8-jdk-headless -qq > /dev/null\n",
        "!wget -q https://archive.apache.org/dist/spark/spark-2.4.1/spark-2.4.1-bin-hadoop2.7.tgz\n",
        "!tar xf spark-2.4.1-bin-hadoop2.7.tgz\n",
        "!pip install -q findspark"
      ],
      "metadata": {
        "id": "QfBCq_R_rYDH"
      },
      "execution_count": 1,
      "outputs": []
    },
    {
      "cell_type": "code",
      "source": [
        "import os\n",
        "os.environ[\"JAVA_HOME\"] = \"/usr/lib/jvm/java-8-openjdk-amd64\"\n",
        "os.environ[\"SPARK_HOME\"] = \"/content/spark-2.4.1-bin-hadoop2.7\""
      ],
      "metadata": {
        "id": "_dWC-3HkrX6p"
      },
      "execution_count": 2,
      "outputs": []
    },
    {
      "cell_type": "code",
      "source": [
        "import findspark\n",
        "findspark.init()\n",
        "from pyspark.sql import SparkSession\n",
        "spark = SparkSession.builder.master(\"local[*]\").getOrCreate()"
      ],
      "metadata": {
        "id": "ECapI5dcrXvX"
      },
      "execution_count": 3,
      "outputs": []
    },
    {
      "cell_type": "code",
      "source": [
        "from pyspark.sql import SparkSession"
      ],
      "metadata": {
        "id": "yZVyVZ4qrXma"
      },
      "execution_count": 4,
      "outputs": []
    },
    {
      "cell_type": "code",
      "source": [
        "spark = SparkSession.builder \\\n",
        "   .appName(\"Neural Network Model\") \\\n",
        "   .config(\"spark.executor.memory\", \"3gb\") \\\n",
        "   .getOrCreate()\n",
        "   \n",
        "sc = spark.sparkContext"
      ],
      "metadata": {
        "id": "B7wSO8TIrXJt"
      },
      "execution_count": 5,
      "outputs": []
    },
    {
      "cell_type": "code",
      "execution_count": 6,
      "metadata": {
        "colab": {
          "base_uri": "https://localhost:8080/",
          "height": 196
        },
        "id": "MjoDgjaja2Kv",
        "outputId": "17ac00c4-b2e8-4dae-e2ca-982658d88c67"
      },
      "outputs": [
        {
          "output_type": "execute_result",
          "data": {
            "text/html": [
              "\n",
              "        <div>\n",
              "            <p><b>SparkContext</b></p>\n",
              "\n",
              "            <p><a href=\"http://2405af8dcce9:4040\">Spark UI</a></p>\n",
              "\n",
              "            <dl>\n",
              "              <dt>Version</dt>\n",
              "                <dd><code>v2.4.1</code></dd>\n",
              "              <dt>Master</dt>\n",
              "                <dd><code>local[*]</code></dd>\n",
              "              <dt>AppName</dt>\n",
              "                <dd><code>pyspark-shell</code></dd>\n",
              "            </dl>\n",
              "        </div>\n",
              "        "
            ],
            "text/plain": [
              "<SparkContext master=local[*] appName=pyspark-shell>"
            ]
          },
          "metadata": {},
          "execution_count": 6
        }
      ],
      "source": [
        "sc"
      ]
    },
    {
      "cell_type": "code",
      "execution_count": 7,
      "metadata": {
        "colab": {
          "base_uri": "https://localhost:8080/"
        },
        "id": "I7c5vxPNAPVi",
        "outputId": "b486ad88-ffba-4504-c4e3-d90e2cfa8063"
      },
      "outputs": [
        {
          "output_type": "stream",
          "name": "stdout",
          "text": [
            "--2022-02-12 23:44:41--  https://storage.googleapis.com/class25jan2022/share/2008.csv\n",
            "Resolving storage.googleapis.com (storage.googleapis.com)... 172.253.117.128, 74.125.199.128, 74.125.142.128, ...\n",
            "Connecting to storage.googleapis.com (storage.googleapis.com)|172.253.117.128|:443... connected.\n",
            "HTTP request sent, awaiting response... 200 OK\n",
            "Length: 689413344 (657M) [text/csv]\n",
            "Saving to: ‘2008.csv’\n",
            "\n",
            "2008.csv            100%[===================>] 657.48M   235MB/s    in 2.8s    \n",
            "\n",
            "2022-02-12 23:44:44 (235 MB/s) - ‘2008.csv’ saved [689413344/689413344]\n",
            "\n"
          ]
        }
      ],
      "source": [
        "! wget https://storage.googleapis.com/class25jan2022/share/2008.csv"
      ]
    },
    {
      "cell_type": "code",
      "execution_count": 8,
      "metadata": {
        "colab": {
          "base_uri": "https://localhost:8080/"
        },
        "id": "Z2TONFl7VQFq",
        "outputId": "48f7b8ce-5d12-4e07-db51-fcf3aade4a25"
      },
      "outputs": [
        {
          "output_type": "stream",
          "name": "stdout",
          "text": [
            "7009729 ./2008.csv\n"
          ]
        }
      ],
      "source": [
        "! wc -l ./2008.csv"
      ]
    },
    {
      "cell_type": "code",
      "execution_count": 9,
      "metadata": {
        "colab": {
          "base_uri": "https://localhost:8080/"
        },
        "id": "GxyBicNqWNuk",
        "outputId": "847b66a8-6edf-46be-af53-c4a5534aeb9c"
      },
      "outputs": [
        {
          "output_type": "stream",
          "name": "stdout",
          "text": [
            "Year,Month,DayofMonth,DayOfWeek,DepTime,CRSDepTime,ArrTime,CRSArrTime,UniqueCarrier,FlightNum,TailNum,ActualElapsedTime,CRSElapsedTime,AirTime,ArrDelay,DepDelay,Origin,Dest,Distance,TaxiIn,TaxiOut,Cancelled,CancellationCode,Diverted,CarrierDelay,WeatherDelay,NASDelay,SecurityDelay,LateAircraftDelay\n",
            "2008,1,3,4,2003,1955,2211,2225,WN,335,N712SW,128,150,116,-14,8,IAD,TPA,810,4,8,0,,0,NA,NA,NA,NA,NA\n",
            "2008,1,3,4,754,735,1002,1000,WN,3231,N772SW,128,145,113,2,19,IAD,TPA,810,5,10,0,,0,NA,NA,NA,NA,NA\n"
          ]
        }
      ],
      "source": [
        "! head -3 2008.csv"
      ]
    },
    {
      "cell_type": "code",
      "execution_count": 10,
      "metadata": {
        "colab": {
          "base_uri": "https://localhost:8080/"
        },
        "id": "hjQASIW-pLKg",
        "outputId": "37a72cfe-4337-467a-a0ab-5a51100ec4fe"
      },
      "outputs": [
        {
          "output_type": "stream",
          "name": "stdout",
          "text": [
            "/bin/bash: hdfs: command not found\n"
          ]
        }
      ],
      "source": [
        "! hdfs dfs -rm -f /user/cloudera/input/2008.csv"
      ]
    },
    {
      "cell_type": "code",
      "execution_count": 11,
      "metadata": {
        "colab": {
          "base_uri": "https://localhost:8080/"
        },
        "id": "IZ9XrlPHpLKg",
        "outputId": "aebf5414-90f4-4fcc-bf7c-1e0cd01889ca"
      },
      "outputs": [
        {
          "output_type": "stream",
          "name": "stdout",
          "text": [
            "/bin/bash: hdfs: command not found\n"
          ]
        }
      ],
      "source": [
        "! hdfs dfs -mkdir -p /user/cloudera/input"
      ]
    },
    {
      "cell_type": "code",
      "execution_count": 12,
      "metadata": {
        "colab": {
          "base_uri": "https://localhost:8080/"
        },
        "id": "z4wFjQHCpLKh",
        "outputId": "76eebc5d-0944-4b74-df14-fe25fa61a0d8"
      },
      "outputs": [
        {
          "output_type": "stream",
          "name": "stdout",
          "text": [
            "/bin/bash: hadoop: command not found\n"
          ]
        }
      ],
      "source": [
        "! hadoop fs -put 2008.csv /user/cloudera/input"
      ]
    },
    {
      "cell_type": "code",
      "execution_count": 13,
      "metadata": {
        "colab": {
          "base_uri": "https://localhost:8080/"
        },
        "id": "-p9opv8zpLKh",
        "outputId": "bcb5f9f0-cb93-4aba-e13b-89360fc5c17e"
      },
      "outputs": [
        {
          "output_type": "stream",
          "name": "stdout",
          "text": [
            "/bin/bash: hdfs: command not found\n"
          ]
        }
      ],
      "source": [
        "! hdfs dfs -ls /user/cloudera/input"
      ]
    },
    {
      "cell_type": "code",
      "execution_count": 14,
      "metadata": {
        "id": "20CTbNjeWlMA"
      },
      "outputs": [],
      "source": [
        "file_path = '2008.csv'"
      ]
    },
    {
      "cell_type": "code",
      "execution_count": 15,
      "metadata": {
        "id": "oghN21RpXC9b"
      },
      "outputs": [],
      "source": [
        "airline_df = spark.read.format('csv').option('header', 'true').option('mode', 'DROPMALFORMED').load(file_path)"
      ]
    },
    {
      "cell_type": "code",
      "execution_count": 16,
      "metadata": {
        "colab": {
          "base_uri": "https://localhost:8080/"
        },
        "id": "PKPxZVPqXphb",
        "outputId": "d66b16fa-da42-43a8-cdec-8986de9c0fe0"
      },
      "outputs": [
        {
          "output_type": "execute_result",
          "data": {
            "text/plain": [
              "7009728"
            ]
          },
          "metadata": {},
          "execution_count": 16
        }
      ],
      "source": [
        "airline_df.count()"
      ]
    },
    {
      "cell_type": "code",
      "execution_count": 17,
      "metadata": {
        "id": "MTQPAk61Xweo"
      },
      "outputs": [],
      "source": [
        "airline_row_df = airline_df"
      ]
    },
    {
      "cell_type": "code",
      "execution_count": 18,
      "metadata": {
        "colab": {
          "base_uri": "https://localhost:8080/"
        },
        "id": "BGPrCKyUX7lD",
        "outputId": "1e5ff04c-ab36-4602-8891-ecb7c335e8f7"
      },
      "outputs": [
        {
          "output_type": "stream",
          "name": "stdout",
          "text": [
            "root\n",
            " |-- Year: string (nullable = true)\n",
            " |-- Month: string (nullable = true)\n",
            " |-- DayofMonth: string (nullable = true)\n",
            " |-- DayOfWeek: string (nullable = true)\n",
            " |-- DepTime: string (nullable = true)\n",
            " |-- CRSDepTime: string (nullable = true)\n",
            " |-- ArrTime: string (nullable = true)\n",
            " |-- CRSArrTime: string (nullable = true)\n",
            " |-- UniqueCarrier: string (nullable = true)\n",
            " |-- FlightNum: string (nullable = true)\n",
            " |-- TailNum: string (nullable = true)\n",
            " |-- ActualElapsedTime: string (nullable = true)\n",
            " |-- CRSElapsedTime: string (nullable = true)\n",
            " |-- AirTime: string (nullable = true)\n",
            " |-- ArrDelay: string (nullable = true)\n",
            " |-- DepDelay: string (nullable = true)\n",
            " |-- Origin: string (nullable = true)\n",
            " |-- Dest: string (nullable = true)\n",
            " |-- Distance: string (nullable = true)\n",
            " |-- TaxiIn: string (nullable = true)\n",
            " |-- TaxiOut: string (nullable = true)\n",
            " |-- Cancelled: string (nullable = true)\n",
            " |-- CancellationCode: string (nullable = true)\n",
            " |-- Diverted: string (nullable = true)\n",
            " |-- CarrierDelay: string (nullable = true)\n",
            " |-- WeatherDelay: string (nullable = true)\n",
            " |-- NASDelay: string (nullable = true)\n",
            " |-- SecurityDelay: string (nullable = true)\n",
            " |-- LateAircraftDelay: string (nullable = true)\n",
            "\n"
          ]
        }
      ],
      "source": [
        "airline_row_df.printSchema()"
      ]
    },
    {
      "cell_type": "code",
      "execution_count": 19,
      "metadata": {
        "id": "h4-_ei_YYFuF"
      },
      "outputs": [],
      "source": [
        "from pyspark.sql.types import *\n",
        "from pyspark.sql import functions as sparkf"
      ]
    },
    {
      "cell_type": "code",
      "execution_count": 20,
      "metadata": {
        "id": "wtD3rroAYwCA"
      },
      "outputs": [],
      "source": [
        "crunched_df = airline_row_df.\\\n",
        "withColumn('DepTime', sparkf.col('DepTime').cast(DoubleType())).\\\n",
        "withColumn('TaxiOut', sparkf.col('TaxiOut').cast(DoubleType())).\\\n",
        "withColumn('TaxiIn', sparkf.col('TaxiIn').cast(DoubleType())).\\\n",
        "withColumn('DepDelay', sparkf.col('DepDelay').cast(DoubleType())).\\\n",
        "withColumn('DayOfWeek', sparkf.col('DayOfWeek').cast(DoubleType())).\\\n",
        "withColumn('Distance', sparkf.col('Distance').cast(DoubleType())).\\\n",
        "withColumn('ArrDelay', sparkf.col('ArrDelay').cast(DoubleType()))"
      ]
    },
    {
      "cell_type": "code",
      "execution_count": 21,
      "metadata": {
        "colab": {
          "base_uri": "https://localhost:8080/"
        },
        "id": "SuzbQmw3bB0t",
        "outputId": "9f5862bc-8832-415c-dfdf-dc106dc4f72a"
      },
      "outputs": [
        {
          "output_type": "stream",
          "name": "stdout",
          "text": [
            "root\n",
            " |-- Year: string (nullable = true)\n",
            " |-- Month: string (nullable = true)\n",
            " |-- DayofMonth: string (nullable = true)\n",
            " |-- DayOfWeek: double (nullable = true)\n",
            " |-- DepTime: double (nullable = true)\n",
            " |-- CRSDepTime: string (nullable = true)\n",
            " |-- ArrTime: string (nullable = true)\n",
            " |-- CRSArrTime: string (nullable = true)\n",
            " |-- UniqueCarrier: string (nullable = true)\n",
            " |-- FlightNum: string (nullable = true)\n",
            " |-- TailNum: string (nullable = true)\n",
            " |-- ActualElapsedTime: string (nullable = true)\n",
            " |-- CRSElapsedTime: string (nullable = true)\n",
            " |-- AirTime: string (nullable = true)\n",
            " |-- ArrDelay: double (nullable = true)\n",
            " |-- DepDelay: double (nullable = true)\n",
            " |-- Origin: string (nullable = true)\n",
            " |-- Dest: string (nullable = true)\n",
            " |-- Distance: double (nullable = true)\n",
            " |-- TaxiIn: double (nullable = true)\n",
            " |-- TaxiOut: double (nullable = true)\n",
            " |-- Cancelled: string (nullable = true)\n",
            " |-- CancellationCode: string (nullable = true)\n",
            " |-- Diverted: string (nullable = true)\n",
            " |-- CarrierDelay: string (nullable = true)\n",
            " |-- WeatherDelay: string (nullable = true)\n",
            " |-- NASDelay: string (nullable = true)\n",
            " |-- SecurityDelay: string (nullable = true)\n",
            " |-- LateAircraftDelay: string (nullable = true)\n",
            "\n"
          ]
        }
      ],
      "source": [
        "crunched_df.printSchema()"
      ]
    },
    {
      "cell_type": "code",
      "execution_count": 22,
      "metadata": {
        "colab": {
          "base_uri": "https://localhost:8080/"
        },
        "id": "0fZSALK7bNj1",
        "outputId": "7b9fe09f-b060-4227-f34d-29ff2ac4c50d"
      },
      "outputs": [
        {
          "output_type": "stream",
          "name": "stdout",
          "text": [
            "Requirement already satisfied: pandas in /usr/local/lib/python3.7/dist-packages (1.3.5)\n",
            "Requirement already satisfied: pytz>=2017.3 in /usr/local/lib/python3.7/dist-packages (from pandas) (2018.9)\n",
            "Requirement already satisfied: numpy>=1.17.3 in /usr/local/lib/python3.7/dist-packages (from pandas) (1.19.5)\n",
            "Requirement already satisfied: python-dateutil>=2.7.3 in /usr/local/lib/python3.7/dist-packages (from pandas) (2.8.2)\n",
            "Requirement already satisfied: six>=1.5 in /usr/local/lib/python3.7/dist-packages (from python-dateutil>=2.7.3->pandas) (1.15.0)\n"
          ]
        }
      ],
      "source": [
        "! pip install pandas"
      ]
    },
    {
      "cell_type": "code",
      "execution_count": 23,
      "metadata": {
        "colab": {
          "base_uri": "https://localhost:8080/",
          "height": 269
        },
        "id": "ABvglBX_bS0p",
        "outputId": "7e76a00c-229c-43e1-a15d-6b02f010ae86"
      },
      "outputs": [
        {
          "output_type": "execute_result",
          "data": {
            "text/html": [
              "\n",
              "  <div id=\"df-e077644c-0a50-4231-b190-2f62fc1c609d\">\n",
              "    <div class=\"colab-df-container\">\n",
              "      <div>\n",
              "<style scoped>\n",
              "    .dataframe tbody tr th:only-of-type {\n",
              "        vertical-align: middle;\n",
              "    }\n",
              "\n",
              "    .dataframe tbody tr th {\n",
              "        vertical-align: top;\n",
              "    }\n",
              "\n",
              "    .dataframe thead th {\n",
              "        text-align: right;\n",
              "    }\n",
              "</style>\n",
              "<table border=\"1\" class=\"dataframe\">\n",
              "  <thead>\n",
              "    <tr style=\"text-align: right;\">\n",
              "      <th></th>\n",
              "      <th>0</th>\n",
              "      <th>1</th>\n",
              "      <th>2</th>\n",
              "      <th>3</th>\n",
              "      <th>4</th>\n",
              "    </tr>\n",
              "  </thead>\n",
              "  <tbody>\n",
              "    <tr>\n",
              "      <th>summary</th>\n",
              "      <td>count</td>\n",
              "      <td>mean</td>\n",
              "      <td>stddev</td>\n",
              "      <td>min</td>\n",
              "      <td>max</td>\n",
              "    </tr>\n",
              "    <tr>\n",
              "      <th>DepTime</th>\n",
              "      <td>6873482</td>\n",
              "      <td>1333.8300461105448</td>\n",
              "      <td>478.06889486629836</td>\n",
              "      <td>1.0</td>\n",
              "      <td>2400.0</td>\n",
              "    </tr>\n",
              "    <tr>\n",
              "      <th>TaxiOut</th>\n",
              "      <td>6872670</td>\n",
              "      <td>16.453045177492882</td>\n",
              "      <td>11.332798654232155</td>\n",
              "      <td>0.0</td>\n",
              "      <td>429.0</td>\n",
              "    </tr>\n",
              "    <tr>\n",
              "      <th>TaxiIn</th>\n",
              "      <td>6858079</td>\n",
              "      <td>6.860851704974527</td>\n",
              "      <td>4.933649371300466</td>\n",
              "      <td>0.0</td>\n",
              "      <td>308.0</td>\n",
              "    </tr>\n",
              "    <tr>\n",
              "      <th>DayOfWeek</th>\n",
              "      <td>7009728</td>\n",
              "      <td>3.9241815088973495</td>\n",
              "      <td>1.9882589459851212</td>\n",
              "      <td>1.0</td>\n",
              "      <td>7.0</td>\n",
              "    </tr>\n",
              "    <tr>\n",
              "      <th>Distance</th>\n",
              "      <td>7009728</td>\n",
              "      <td>726.3870294253928</td>\n",
              "      <td>562.1018034840403</td>\n",
              "      <td>11.0</td>\n",
              "      <td>4962.0</td>\n",
              "    </tr>\n",
              "    <tr>\n",
              "      <th>ArrDelay</th>\n",
              "      <td>6855029</td>\n",
              "      <td>8.16845238729114</td>\n",
              "      <td>38.50193694882867</td>\n",
              "      <td>-519.0</td>\n",
              "      <td>2461.0</td>\n",
              "    </tr>\n",
              "  </tbody>\n",
              "</table>\n",
              "</div>\n",
              "      <button class=\"colab-df-convert\" onclick=\"convertToInteractive('df-e077644c-0a50-4231-b190-2f62fc1c609d')\"\n",
              "              title=\"Convert this dataframe to an interactive table.\"\n",
              "              style=\"display:none;\">\n",
              "        \n",
              "  <svg xmlns=\"http://www.w3.org/2000/svg\" height=\"24px\"viewBox=\"0 0 24 24\"\n",
              "       width=\"24px\">\n",
              "    <path d=\"M0 0h24v24H0V0z\" fill=\"none\"/>\n",
              "    <path d=\"M18.56 5.44l.94 2.06.94-2.06 2.06-.94-2.06-.94-.94-2.06-.94 2.06-2.06.94zm-11 1L8.5 8.5l.94-2.06 2.06-.94-2.06-.94L8.5 2.5l-.94 2.06-2.06.94zm10 10l.94 2.06.94-2.06 2.06-.94-2.06-.94-.94-2.06-.94 2.06-2.06.94z\"/><path d=\"M17.41 7.96l-1.37-1.37c-.4-.4-.92-.59-1.43-.59-.52 0-1.04.2-1.43.59L10.3 9.45l-7.72 7.72c-.78.78-.78 2.05 0 2.83L4 21.41c.39.39.9.59 1.41.59.51 0 1.02-.2 1.41-.59l7.78-7.78 2.81-2.81c.8-.78.8-2.07 0-2.86zM5.41 20L4 18.59l7.72-7.72 1.47 1.35L5.41 20z\"/>\n",
              "  </svg>\n",
              "      </button>\n",
              "      \n",
              "  <style>\n",
              "    .colab-df-container {\n",
              "      display:flex;\n",
              "      flex-wrap:wrap;\n",
              "      gap: 12px;\n",
              "    }\n",
              "\n",
              "    .colab-df-convert {\n",
              "      background-color: #E8F0FE;\n",
              "      border: none;\n",
              "      border-radius: 50%;\n",
              "      cursor: pointer;\n",
              "      display: none;\n",
              "      fill: #1967D2;\n",
              "      height: 32px;\n",
              "      padding: 0 0 0 0;\n",
              "      width: 32px;\n",
              "    }\n",
              "\n",
              "    .colab-df-convert:hover {\n",
              "      background-color: #E2EBFA;\n",
              "      box-shadow: 0px 1px 2px rgba(60, 64, 67, 0.3), 0px 1px 3px 1px rgba(60, 64, 67, 0.15);\n",
              "      fill: #174EA6;\n",
              "    }\n",
              "\n",
              "    [theme=dark] .colab-df-convert {\n",
              "      background-color: #3B4455;\n",
              "      fill: #D2E3FC;\n",
              "    }\n",
              "\n",
              "    [theme=dark] .colab-df-convert:hover {\n",
              "      background-color: #434B5C;\n",
              "      box-shadow: 0px 1px 3px 1px rgba(0, 0, 0, 0.15);\n",
              "      filter: drop-shadow(0px 1px 2px rgba(0, 0, 0, 0.3));\n",
              "      fill: #FFFFFF;\n",
              "    }\n",
              "  </style>\n",
              "\n",
              "      <script>\n",
              "        const buttonEl =\n",
              "          document.querySelector('#df-e077644c-0a50-4231-b190-2f62fc1c609d button.colab-df-convert');\n",
              "        buttonEl.style.display =\n",
              "          google.colab.kernel.accessAllowed ? 'block' : 'none';\n",
              "\n",
              "        async function convertToInteractive(key) {\n",
              "          const element = document.querySelector('#df-e077644c-0a50-4231-b190-2f62fc1c609d');\n",
              "          const dataTable =\n",
              "            await google.colab.kernel.invokeFunction('convertToInteractive',\n",
              "                                                     [key], {});\n",
              "          if (!dataTable) return;\n",
              "\n",
              "          const docLinkHtml = 'Like what you see? Visit the ' +\n",
              "            '<a target=\"_blank\" href=https://colab.research.google.com/notebooks/data_table.ipynb>data table notebook</a>'\n",
              "            + ' to learn more about interactive tables.';\n",
              "          element.innerHTML = '';\n",
              "          dataTable['output_type'] = 'display_data';\n",
              "          await google.colab.output.renderOutput(dataTable, element);\n",
              "          const docLink = document.createElement('div');\n",
              "          docLink.innerHTML = docLinkHtml;\n",
              "          element.appendChild(docLink);\n",
              "        }\n",
              "      </script>\n",
              "    </div>\n",
              "  </div>\n",
              "  "
            ],
            "text/plain": [
              "                 0                   1                   2       3       4\n",
              "summary      count                mean              stddev     min     max\n",
              "DepTime    6873482  1333.8300461105448  478.06889486629836     1.0  2400.0\n",
              "TaxiOut    6872670  16.453045177492882  11.332798654232155     0.0   429.0\n",
              "TaxiIn     6858079   6.860851704974527   4.933649371300466     0.0   308.0\n",
              "DayOfWeek  7009728  3.9241815088973495  1.9882589459851212     1.0     7.0\n",
              "Distance   7009728   726.3870294253928   562.1018034840403    11.0  4962.0\n",
              "ArrDelay   6855029    8.16845238729114   38.50193694882867  -519.0  2461.0"
            ]
          },
          "metadata": {},
          "execution_count": 23
        }
      ],
      "source": [
        "import pandas as pd\n",
        "crunched_df.select(['DepTime', 'TaxiOut', 'TaxiIn', 'DayOfWeek', 'Distance', 'ArrDelay']).describe().toPandas().transpose()"
      ]
    },
    {
      "cell_type": "code",
      "execution_count": 24,
      "metadata": {
        "id": "9wSo_g-gbdVZ"
      },
      "outputs": [],
      "source": [
        "def t_timeperiod(origin):\n",
        "  if origin is None:\n",
        "    period = None\n",
        "  elif origin > 0 and origin < 600:\n",
        "    period = '00.01-05.59'\n",
        "  elif origin >= 600 and origin < 1200:\n",
        "    period = '06.01-11.59'\n",
        "  elif origin >= 1200 and origin < 1800:\n",
        "    period = '12.00-17.59'\n",
        "  elif origin >= 1800 and origin <= 2400:\n",
        "    period = '18.00-24.00'\n",
        "  else:\n",
        "    period = 'NA'\n",
        "  return period"
      ]
    },
    {
      "cell_type": "code",
      "execution_count": 25,
      "metadata": {
        "id": "LwepcTvFdCwc"
      },
      "outputs": [],
      "source": [
        "timeperiod = sparkf.udf(lambda x: t_timeperiod(x), StringType())"
      ]
    },
    {
      "cell_type": "code",
      "execution_count": 26,
      "metadata": {
        "id": "Zk3C-dnCeBES"
      },
      "outputs": [],
      "source": [
        "discretized_df = crunched_df.withColumn('DepTime', timeperiod(sparkf.col('DepTime')))"
      ]
    },
    {
      "cell_type": "code",
      "execution_count": 27,
      "metadata": {
        "id": "QDM8Az2YeZfb"
      },
      "outputs": [],
      "source": [
        "max_distance = discretized_df.select(sparkf.max('Distance')).collect()[0][0]\n",
        "min_distance = discretized_df.select(sparkf.min('Distance')).collect()[0][0]"
      ]
    },
    {
      "cell_type": "code",
      "execution_count": 28,
      "metadata": {
        "id": "yZHMLksIe-hu"
      },
      "outputs": [],
      "source": [
        "max_ArrDelay = discretized_df.select(sparkf.max('ArrDelay')).collect()[0][0]\n",
        "min_ArrDelay = discretized_df.select(sparkf.min('ArrDelay')).collect()[0][0]"
      ]
    },
    {
      "cell_type": "code",
      "execution_count": 29,
      "metadata": {
        "id": "hrtQcWyBf0Iz"
      },
      "outputs": [],
      "source": [
        "def t_normalized_distance(origin):\n",
        "  if origin is None:\n",
        "    return None\n",
        "  else:\n",
        "    return((origin - min_distance) / (max_ArrDelay - min_distance))"
      ]
    },
    {
      "cell_type": "code",
      "execution_count": 30,
      "metadata": {
        "id": "Q2oCjmFMgc41"
      },
      "outputs": [],
      "source": [
        "def t_normalized_ArrDelay(origin):\n",
        "  if origin is None:\n",
        "    return None\n",
        "  else:\n",
        "    return((origin - min_ArrDelay) / (max_ArrDelay - min_ArrDelay))"
      ]
    },
    {
      "cell_type": "code",
      "execution_count": 31,
      "metadata": {
        "id": "YcqHiYPvgoqO"
      },
      "outputs": [],
      "source": [
        "normalized_distance = sparkf.udf(lambda x: t_normalized_distance(x), DoubleType())"
      ]
    },
    {
      "cell_type": "code",
      "execution_count": 32,
      "metadata": {
        "id": "_LyZfqahg7Gs"
      },
      "outputs": [],
      "source": [
        "normalized_ArrDelay = sparkf.udf(lambda x: t_normalized_ArrDelay(x), DoubleType())"
      ]
    },
    {
      "cell_type": "code",
      "execution_count": 33,
      "metadata": {
        "id": "lUi5d302ifDc"
      },
      "outputs": [],
      "source": [
        "normalized_df = discretized_df.\\\n",
        "withColumn('Distance', normalized_distance(sparkf.col('Distance'))).\\\n",
        "withColumn('ArrDelay', normalized_distance(sparkf.col('ArrDelay')))"
      ]
    },
    {
      "cell_type": "code",
      "execution_count": 34,
      "metadata": {
        "id": "heNaWnADi_2v"
      },
      "outputs": [],
      "source": [
        "features_df = normalized_df.\\\n",
        "select(['UniqueCarrier', 'Origin', 'Dest',\\\n",
        "        'DepTime', 'TaxiOut', 'TaxiIn', 'DepDelay',\\\n",
        "        'DayOfWeek', 'Distance', 'ArrDelay'])"
      ]
    },
    {
      "cell_type": "code",
      "execution_count": 35,
      "metadata": {
        "id": "3hITOjQcjnKh"
      },
      "outputs": [],
      "source": [
        "final_df = features_df.dropna()"
      ]
    },
    {
      "cell_type": "code",
      "execution_count": 36,
      "metadata": {
        "colab": {
          "base_uri": "https://localhost:8080/"
        },
        "id": "BARZC2p6jteD",
        "outputId": "a6262efb-5471-4304-dda8-74eee1a50b8e"
      },
      "outputs": [
        {
          "output_type": "execute_result",
          "data": {
            "text/plain": [
              "6855029"
            ]
          },
          "metadata": {},
          "execution_count": 36
        }
      ],
      "source": [
        "final_df.count()"
      ]
    },
    {
      "cell_type": "code",
      "execution_count": 37,
      "metadata": {
        "colab": {
          "base_uri": "https://localhost:8080/"
        },
        "id": "zP3YpAY6jw2y",
        "outputId": "67bb5195-a754-4785-d368-fa013868325b"
      },
      "outputs": [
        {
          "output_type": "stream",
          "name": "stdout",
          "text": [
            "+-------------+------+----+-----------+-------+------+--------+---------+--------------------+--------------------+\n",
            "|UniqueCarrier|Origin|Dest|    DepTime|TaxiOut|TaxiIn|DepDelay|DayOfWeek|            Distance|            ArrDelay|\n",
            "+-------------+------+----+-----------+-------+------+--------+---------+--------------------+--------------------+\n",
            "|           WN|   IAD| TPA|18.00-24.00|    8.0|   4.0|     8.0|      4.0| 0.32612244897959186|-0.01020408163265306|\n",
            "|           WN|   IAD| TPA|06.01-11.59|   10.0|   5.0|    19.0|      4.0| 0.32612244897959186|-0.00367346938775...|\n",
            "|           WN|   IND| BWI|06.01-11.59|   17.0|   3.0|     8.0|      4.0|  0.2057142857142857|0.001224489795918...|\n",
            "|           WN|   IND| BWI|06.01-11.59|    7.0|   3.0|    -4.0|      4.0|  0.2057142857142857|-0.00693877551020...|\n",
            "|           WN|   IND| BWI|18.00-24.00|   10.0|   3.0|    34.0|      4.0|  0.2057142857142857|0.009387755102040816|\n",
            "|           WN|   IND| JAX|18.00-24.00|   10.0|   4.0|    25.0|      4.0|  0.2763265306122449|                 0.0|\n",
            "|           WN|   IND| LAS|18.00-24.00|    7.0|   3.0|    67.0|      4.0|  0.6448979591836734|0.018775510204081632|\n",
            "|           WN|   IND| LAS|06.01-11.59|    7.0|   7.0|    -1.0|      4.0|  0.6448979591836734|-0.01183673469387755|\n",
            "|           WN|   IND| MCI|06.01-11.59|   19.0|   6.0|     2.0|      4.0| 0.17959183673469387|-0.00367346938775...|\n",
            "|           WN|   IND| MCI|12.00-17.59|    6.0|   3.0|     0.0|      4.0| 0.17959183673469387|-0.01102040816326...|\n",
            "|           WN|   IND| MCO|06.01-11.59|   19.0|   5.0|     6.0|      4.0| 0.33346938775510204|-0.00408163265306...|\n",
            "|           WN|   IND| MCO|12.00-17.59|    8.0|   6.0|    94.0|      4.0| 0.33346938775510204| 0.02816326530612245|\n",
            "|           WN|   IND| MDW|12.00-17.59|   12.0|   9.0|    -4.0|      4.0|0.061632653061224486|-0.00408163265306...|\n",
            "|           WN|   IND| MDW|06.01-11.59|   21.0|   7.0|     0.0|      4.0|0.061632653061224486|-4.08163265306122...|\n",
            "|           WN|   IND| MDW|12.00-17.59|   10.0|   4.0|     2.0|      4.0|0.061632653061224486|-0.00612244897959...|\n",
            "|           WN|   IND| MDW|06.01-11.59|    9.0|   6.0|     9.0|      4.0|0.061632653061224486|                 0.0|\n",
            "|           WN|   IND| PHX|12.00-17.59|    8.0|   7.0|    27.0|      4.0|   0.603265306122449|0.001632653061224...|\n",
            "|           WN|   IND| PHX|06.01-11.59|   16.0|   5.0|     9.0|      4.0|   0.603265306122449|-0.01061224489795...|\n",
            "|           WN|   IND| TPA|12.00-17.59|    9.0|   4.0|    28.0|      4.0| 0.33755102040816326|0.002040816326530...|\n",
            "|           WN|   ISP| BWI|12.00-17.59|    5.0|   2.0|    51.0|      4.0| 0.08530612244897959|0.010612244897959184|\n",
            "+-------------+------+----+-----------+-------+------+--------+---------+--------------------+--------------------+\n",
            "only showing top 20 rows\n",
            "\n"
          ]
        }
      ],
      "source": [
        "final_df.show()"
      ]
    },
    {
      "cell_type": "code",
      "execution_count": 74,
      "metadata": {
        "id": "n03Moth1pLKq"
      },
      "outputs": [],
      "source": [
        "training_df, test_df = final_df.randomSplit([0.8,0.2], seed=12)"
      ]
    },
    {
      "cell_type": "code",
      "execution_count": 75,
      "metadata": {
        "colab": {
          "base_uri": "https://localhost:8080/"
        },
        "id": "LxCu4FY5pLKq",
        "outputId": "b19e3b1a-ccd2-4db4-d88e-5ee86e781067"
      },
      "outputs": [
        {
          "output_type": "execute_result",
          "data": {
            "text/plain": [
              "5484163"
            ]
          },
          "metadata": {},
          "execution_count": 75
        }
      ],
      "source": [
        "training_df.count()"
      ]
    },
    {
      "cell_type": "code",
      "execution_count": 76,
      "metadata": {
        "colab": {
          "base_uri": "https://localhost:8080/"
        },
        "id": "cZMrZZszpLKq",
        "outputId": "4f25106e-0806-4df6-f273-d313655858fb"
      },
      "outputs": [
        {
          "output_type": "stream",
          "name": "stdout",
          "text": [
            "root\n",
            " |-- UniqueCarrier: string (nullable = true)\n",
            " |-- Origin: string (nullable = true)\n",
            " |-- Dest: string (nullable = true)\n",
            " |-- DepTime: string (nullable = true)\n",
            " |-- TaxiOut: double (nullable = true)\n",
            " |-- TaxiIn: double (nullable = true)\n",
            " |-- DepDelay: double (nullable = true)\n",
            " |-- DayOfWeek: double (nullable = true)\n",
            " |-- Distance: double (nullable = true)\n",
            " |-- ArrDelay: double (nullable = true)\n",
            "\n"
          ]
        }
      ],
      "source": [
        "training_df.printSchema()"
      ]
    },
    {
      "cell_type": "code",
      "execution_count": 77,
      "metadata": {
        "id": "UyFwaSm7pLKq"
      },
      "outputs": [],
      "source": [
        "from pyspark.ml.feature import StringIndexer, OneHotEncoder"
      ]
    },
    {
      "cell_type": "code",
      "execution_count": 78,
      "metadata": {
        "id": "oJBvFHpmpLKr"
      },
      "outputs": [],
      "source": [
        "DepTimeIndexer = StringIndexer\\\n",
        "(handleInvalid = 'keep', inputCol = 'DepTime', outputCol = 'DepTimeIndexed')"
      ]
    },
    {
      "cell_type": "code",
      "execution_count": 79,
      "metadata": {
        "id": "8nrX-3T4pLKr"
      },
      "outputs": [],
      "source": [
        "UniqueCarrierIndexer = StringIndexer\\\n",
        "(handleInvalid = 'keep', inputCol = 'UniqueCarrier', outputCol = 'UniqueCarrierIndexed')"
      ]
    },
    {
      "cell_type": "code",
      "execution_count": 80,
      "metadata": {
        "id": "0OWJp8nNpLKr"
      },
      "outputs": [],
      "source": [
        "UniqueCarrierOneHotEncoder = OneHotEncoder\\\n",
        "(dropLast = False, inputCol = 'UniqueCarrierIndexed',outputCol = 'UniqueCarrierVec')"
      ]
    },
    {
      "cell_type": "code",
      "execution_count": 81,
      "metadata": {
        "id": "HF4DUuJepLKr"
      },
      "outputs": [],
      "source": [
        "OriginIndexer = StringIndexer(handleInvalid = 'keep', inputCol = 'Origin', outputCol = 'OriginIndexed')"
      ]
    },
    {
      "cell_type": "code",
      "execution_count": 82,
      "metadata": {
        "id": "vRgi11qrpLKr"
      },
      "outputs": [],
      "source": [
        "OriginOneHotEncoder = OneHotEncoder\\\n",
        "(dropLast = False, inputCol = 'OriginIndexed',outputCol = 'OriginVec')"
      ]
    },
    {
      "cell_type": "code",
      "execution_count": 83,
      "metadata": {
        "id": "IieFuKgFpLKs"
      },
      "outputs": [],
      "source": [
        "DestIndexer = StringIndexer\\\n",
        "(handleInvalid = 'keep', inputCol = 'Dest', outputCol = 'DestIndexed')"
      ]
    },
    {
      "cell_type": "code",
      "execution_count": 84,
      "metadata": {
        "id": "TuCLviZypLKs"
      },
      "outputs": [],
      "source": [
        "DestOneHotEncoder = OneHotEncoder\\\n",
        "(dropLast = False, inputCol = 'DestIndexed',outputCol = 'DestVec')"
      ]
    },
    {
      "cell_type": "code",
      "execution_count": 85,
      "metadata": {
        "id": "7zvKUHx3pLKs"
      },
      "outputs": [],
      "source": [
        "from pyspark.mllib.linalg import Vectors\n",
        "from pyspark.ml.feature import VectorAssembler\n",
        "from pyspark.ml import Pipeline"
      ]
    },
    {
      "cell_type": "code",
      "execution_count": 86,
      "metadata": {
        "id": "LGypczOEpLKs"
      },
      "outputs": [],
      "source": [
        "featureAssembler = VectorAssembler\\\n",
        "(inputCols = ['DepTimeIndexed',\\\n",
        "              'UniqueCarrierVec',\\\n",
        "              'OriginVec',\\\n",
        "              'DestVec',\\\n",
        "              'TaxiOut', 'TaxiIn',\\\n",
        "              'DepDelay',\\\n",
        "              'DayOfWeek',\\\n",
        "              'Distance'\n",
        "             ], outputCol = '***features')"
      ]
    },
    {
      "cell_type": "code",
      "execution_count": 97,
      "metadata": {
        "id": "gL7s3GkhpLKs"
      },
      "outputs": [],
      "source": [
        "from pyspark.ml.regression import GeneralizedLinearRegression"
      ]
    },
    {
      "cell_type": "code",
      "execution_count": 98,
      "metadata": {
        "id": "tEFcRO1qpLKs"
      },
      "outputs": [],
      "source": [
        "dt = GeneralizedLinearRegression\\\n",
        "(labelCol = 'ArrDelay', featuresCol = '***features')"
      ]
    },
    {
      "cell_type": "code",
      "execution_count": 99,
      "metadata": {
        "colab": {
          "base_uri": "https://localhost:8080/"
        },
        "id": "Db9C2LqipLKt",
        "outputId": "891ad553-3114-41ea-d316-c08c9d648bce"
      },
      "outputs": [
        {
          "output_type": "execute_result",
          "data": {
            "text/plain": [
              "pyspark.ml.pipeline.Pipeline"
            ]
          },
          "metadata": {},
          "execution_count": 99
        }
      ],
      "source": [
        "Pipeline"
      ]
    },
    {
      "cell_type": "code",
      "execution_count": 100,
      "metadata": {
        "id": "j8nvCZ_8pLKt"
      },
      "outputs": [],
      "source": [
        "pipeline_dt = Pipeline().\\\n",
        "setStages([DepTimeIndexer,\\\n",
        "           UniqueCarrierIndexer,\\\n",
        "           UniqueCarrierOneHotEncoder,\\\n",
        "           OriginIndexer,\\\n",
        "           OriginOneHotEncoder,\\\n",
        "           DestIndexer,\\\n",
        "           DestOneHotEncoder,\\\n",
        "           featureAssembler, dt])"
      ]
    },
    {
      "cell_type": "code",
      "execution_count": 101,
      "metadata": {
        "id": "lFZPyqfRpLKt"
      },
      "outputs": [],
      "source": [
        "dtModel = pipeline_dt.fit(training_df)"
      ]
    },
    {
      "cell_type": "code",
      "execution_count": 102,
      "metadata": {
        "id": "Ja4CeXhHpLKt"
      },
      "outputs": [],
      "source": [
        "result_df = dtModel.transform(test_df.dropna())"
      ]
    },
    {
      "cell_type": "code",
      "execution_count": 103,
      "metadata": {
        "colab": {
          "base_uri": "https://localhost:8080/"
        },
        "id": "VMOzI-KepLKt",
        "outputId": "001f8fd0-59f1-4895-e22d-786846dbdc5b"
      },
      "outputs": [
        {
          "output_type": "stream",
          "name": "stdout",
          "text": [
            "+--------------------+--------------------+\n",
            "|            ArrDelay|          Prediction|\n",
            "+--------------------+--------------------+\n",
            "|-0.00530612244897...|-0.00767538206521...|\n",
            "|0.003265306122448...|0.001497384849399203|\n",
            "|-0.00938775510204...|-0.00619083926519...|\n",
            "|-0.00775510204081...|-0.00594178010248...|\n",
            "|-0.00163265306122...|-0.00128154652115...|\n",
            "|-0.00244897959183...|-0.00136184224941...|\n",
            "|0.008979591836734694|  0.0117447074788285|\n",
            "|-0.00408163265306...|-0.00473581461922...|\n",
            "|-0.00571428571428...|-0.00556507038272552|\n",
            "|-0.01020408163265306|-0.01088154683761...|\n",
            "|-0.00775510204081...|-0.00970368235023887|\n",
            "|-8.16326530612244...|-0.00666231036442...|\n",
            "|-0.01306122448979...|-0.00996988402131...|\n",
            "|-0.01020408163265306|-0.01041510193410...|\n",
            "|0.011020408163265306|0.007411736938504504|\n",
            "|-0.00489795918367...|-0.00244241934961...|\n",
            "|0.001224489795918...|-1.58481841255416...|\n",
            "|-4.08163265306122...|-0.00174355869030...|\n",
            "|-0.00163265306122...|-0.00989463279454...|\n",
            "|-0.01061224489795...|-0.00910258870498...|\n",
            "+--------------------+--------------------+\n",
            "only showing top 20 rows\n",
            "\n"
          ]
        }
      ],
      "source": [
        "result_df.select(['ArrDelay', 'Prediction']).show()"
      ]
    },
    {
      "cell_type": "code",
      "execution_count": 104,
      "metadata": {
        "id": "N6lsqXqNpLKt"
      },
      "outputs": [],
      "source": [
        "from pyspark.ml.evaluation import RegressionEvaluator"
      ]
    },
    {
      "cell_type": "code",
      "execution_count": 105,
      "metadata": {
        "colab": {
          "base_uri": "https://localhost:8080/"
        },
        "id": "rNhKEHQApLKu",
        "outputId": "92d9937c-42fc-49ee-f66f-d9506982ece1"
      },
      "outputs": [
        {
          "output_type": "stream",
          "name": "stdout",
          "text": [
            "R Squared (R2) on test data = 0.944345\n"
          ]
        }
      ],
      "source": [
        "lr_evaluator_r2 = RegressionEvaluator\\\n",
        "(predictionCol = \"prediction\", labelCol = \"ArrDelay\", metricName = \"r2\")\n",
        "print(\"R Squared (R2) on test data = %g\"\\\n",
        "      % lr_evaluator_r2.evaluate(result_df))"
      ]
    },
    {
      "cell_type": "code",
      "execution_count": 106,
      "metadata": {
        "colab": {
          "base_uri": "https://localhost:8080/"
        },
        "id": "Yty_dnX0pLKu",
        "outputId": "203599ba-ca96-4845-8919-28ec3e1cd724"
      },
      "outputs": [
        {
          "output_type": "stream",
          "name": "stdout",
          "text": [
            "R Squared (R2) on test data = 0.00371547\n"
          ]
        }
      ],
      "source": [
        "lr_evaluator_rmse = RegressionEvaluator\\\n",
        "(predictionCol = \"prediction\", labelCol = \"ArrDelay\", metricName = \"rmse\")\n",
        "print(\"R Squared (R2) on test data = %g\"\\\n",
        "      % lr_evaluator_rmse.evaluate(result_df))"
      ]
    },
    {
      "cell_type": "code",
      "execution_count": 60,
      "metadata": {
        "id": "tOOkjRm6pLKu"
      },
      "outputs": [],
      "source": [
        ""
      ]
    }
  ],
  "metadata": {
    "colab": {
      "collapsed_sections": [],
      "name": "01_071_Thee_HW5.ipynb",
      "provenance": []
    },
    "kernelspec": {
      "display_name": "PySpark",
      "language": "python",
      "name": "pyspark"
    },
    "language_info": {
      "codemirror_mode": {
        "name": "ipython",
        "version": 3
      },
      "file_extension": ".py",
      "mimetype": "text/x-python",
      "name": "python",
      "nbconvert_exporter": "python",
      "pygments_lexer": "ipython3",
      "version": "3.7.4"
    }
  },
  "nbformat": 4,
  "nbformat_minor": 0
}