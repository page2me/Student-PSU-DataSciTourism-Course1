{
  "nbformat": 4,
  "nbformat_minor": 0,
  "metadata": {
    "kernelspec": {
      "display_name": "Python 3",
      "language": "python",
      "name": "python3"
    },
    "language_info": {
      "codemirror_mode": {
        "name": "ipython",
        "version": 3
      },
      "file_extension": ".py",
      "mimetype": "text/x-python",
      "name": "python",
      "nbconvert_exporter": "python",
      "pygments_lexer": "ipython3",
      "version": "3.6.1"
    },
    "colab": {
      "name": "HomeWork3-PredictionofArrivalDelay-PySpark-onColab.ipynb",
      "provenance": [],
      "collapsed_sections": []
    }
  },
  "cells": [
    {
      "cell_type": "code",
      "metadata": {
        "id": "0dTkA-bDa5bm"
      },
      "source": [
        "!apt-get install openjdk-8-jdk-headless -qq > /dev/null\n",
        "!wget -q https://archive.apache.org/dist/spark/spark-2.4.1/spark-2.4.1-bin-hadoop2.7.tgz\n",
        "!tar xf spark-2.4.1-bin-hadoop2.7.tgz\n",
        "!pip install -q findspark"
      ],
      "execution_count": 1,
      "outputs": []
    },
    {
      "cell_type": "code",
      "metadata": {
        "id": "cy4_WOqEa5GJ"
      },
      "source": [
        "import os\n",
        "os.environ[\"JAVA_HOME\"] = \"/usr/lib/jvm/java-8-openjdk-amd64\"\n",
        "os.environ[\"SPARK_HOME\"] = \"/content/spark-2.4.1-bin-hadoop2.7\""
      ],
      "execution_count": 2,
      "outputs": []
    },
    {
      "cell_type": "code",
      "metadata": {
        "id": "kI7zVpqja4du"
      },
      "source": [
        "import findspark\n",
        "findspark.init()\n",
        "from pyspark.sql import SparkSession\n",
        "spark = SparkSession.builder.master(\"local[*]\").getOrCreate()"
      ],
      "execution_count": 3,
      "outputs": []
    },
    {
      "cell_type": "code",
      "metadata": {
        "collapsed": true,
        "id": "gLOiqgf1a2Ku"
      },
      "source": [
        "from pyspark.sql import SparkSession"
      ],
      "execution_count": 4,
      "outputs": []
    },
    {
      "cell_type": "code",
      "metadata": {
        "collapsed": true,
        "id": "GBqMbCCxa2Kv"
      },
      "source": [
        "spark = SparkSession.builder \\\n",
        "   .appName(\"Neural Network Model\") \\\n",
        "   .config(\"spark.executor.memory\", \"3gb\") \\\n",
        "   .getOrCreate()\n",
        "   \n",
        "sc = spark.sparkContext"
      ],
      "execution_count": 5,
      "outputs": []
    },
    {
      "cell_type": "code",
      "metadata": {
        "id": "MjoDgjaja2Kv",
        "colab": {
          "base_uri": "https://localhost:8080/",
          "height": 196
        },
        "outputId": "d68adf4c-e7ac-44e8-abdd-d460d918270b"
      },
      "source": [
        "sc"
      ],
      "execution_count": 6,
      "outputs": [
        {
          "output_type": "execute_result",
          "data": {
            "text/html": [
              "\n",
              "        <div>\n",
              "            <p><b>SparkContext</b></p>\n",
              "\n",
              "            <p><a href=\"http://e9ee3b3cd188:4040\">Spark UI</a></p>\n",
              "\n",
              "            <dl>\n",
              "              <dt>Version</dt>\n",
              "                <dd><code>v2.4.1</code></dd>\n",
              "              <dt>Master</dt>\n",
              "                <dd><code>local[*]</code></dd>\n",
              "              <dt>AppName</dt>\n",
              "                <dd><code>pyspark-shell</code></dd>\n",
              "            </dl>\n",
              "        </div>\n",
              "        "
            ],
            "text/plain": [
              "<SparkContext master=local[*] appName=pyspark-shell>"
            ]
          },
          "metadata": {},
          "execution_count": 6
        }
      ]
    },
    {
      "cell_type": "markdown",
      "source": [
        "**2. Data Understanding using SparkSQL**"
      ],
      "metadata": {
        "id": "TLDou9Hoh7d6"
      }
    },
    {
      "cell_type": "code",
      "metadata": {
        "id": "I7c5vxPNAPVi",
        "outputId": "939e4961-c90c-430a-e2da-f0fc7a00bc95",
        "colab": {
          "base_uri": "https://localhost:8080/"
        }
      },
      "source": [
        "! wget https://storage.googleapis.com/class25jan2022/share/2008.csv"
      ],
      "execution_count": 7,
      "outputs": [
        {
          "output_type": "stream",
          "name": "stdout",
          "text": [
            "--2022-01-31 02:39:30--  https://storage.googleapis.com/class25jan2022/share/2008.csv\n",
            "Resolving storage.googleapis.com (storage.googleapis.com)... 209.85.146.128, 142.250.136.128, 142.250.148.128, ...\n",
            "Connecting to storage.googleapis.com (storage.googleapis.com)|209.85.146.128|:443... connected.\n",
            "HTTP request sent, awaiting response... 200 OK\n",
            "Length: 689413344 (657M) [text/csv]\n",
            "Saving to: ‘2008.csv’\n",
            "\n",
            "2008.csv            100%[===================>] 657.48M   100MB/s    in 5.7s    \n",
            "\n",
            "2022-01-31 02:39:36 (116 MB/s) - ‘2008.csv’ saved [689413344/689413344]\n",
            "\n"
          ]
        }
      ]
    },
    {
      "cell_type": "code",
      "source": [
        "! wc -l ./2008.csv"
      ],
      "metadata": {
        "id": "uojN1MQGiAvK",
        "outputId": "203b5462-0e25-4d4f-b428-86efb5c4fcf9",
        "colab": {
          "base_uri": "https://localhost:8080/"
        }
      },
      "execution_count": 8,
      "outputs": [
        {
          "output_type": "stream",
          "name": "stdout",
          "text": [
            "7009729 ./2008.csv\n"
          ]
        }
      ]
    },
    {
      "cell_type": "code",
      "source": [
        "! head -3 2008.csv"
      ],
      "metadata": {
        "id": "zqqblQ21lwMY",
        "outputId": "af192129-1eff-4df7-d500-bd02492609bc",
        "colab": {
          "base_uri": "https://localhost:8080/"
        }
      },
      "execution_count": 9,
      "outputs": [
        {
          "output_type": "stream",
          "name": "stdout",
          "text": [
            "Year,Month,DayofMonth,DayOfWeek,DepTime,CRSDepTime,ArrTime,CRSArrTime,UniqueCarrier,FlightNum,TailNum,ActualElapsedTime,CRSElapsedTime,AirTime,ArrDelay,DepDelay,Origin,Dest,Distance,TaxiIn,TaxiOut,Cancelled,CancellationCode,Diverted,CarrierDelay,WeatherDelay,NASDelay,SecurityDelay,LateAircraftDelay\n",
            "2008,1,3,4,2003,1955,2211,2225,WN,335,N712SW,128,150,116,-14,8,IAD,TPA,810,4,8,0,,0,NA,NA,NA,NA,NA\n",
            "2008,1,3,4,754,735,1002,1000,WN,3231,N772SW,128,145,113,2,19,IAD,TPA,810,5,10,0,,0,NA,NA,NA,NA,NA\n"
          ]
        }
      ]
    },
    {
      "cell_type": "code",
      "source": [
        "raw_df = spark.read.format('csv').\\\n",
        "option('header','true').option('mode','DROPMALFORMED')\\\n",
        ".load('2008.csv')"
      ],
      "metadata": {
        "id": "cDq69I8Mlx7a"
      },
      "execution_count": 10,
      "outputs": []
    },
    {
      "cell_type": "code",
      "source": [
        "raw_df.count()"
      ],
      "metadata": {
        "id": "zP6EyO_M78Xy",
        "outputId": "e0ce19ad-9b06-4e0f-ccc2-a1432c29a40e",
        "colab": {
          "base_uri": "https://localhost:8080/"
        }
      },
      "execution_count": 11,
      "outputs": [
        {
          "output_type": "execute_result",
          "data": {
            "text/plain": [
              "7009728"
            ]
          },
          "metadata": {},
          "execution_count": 11
        }
      ]
    },
    {
      "cell_type": "code",
      "source": [
        "raw_df.printSchema()"
      ],
      "metadata": {
        "id": "AyFiqXyD-u0-",
        "colab": {
          "base_uri": "https://localhost:8080/"
        },
        "outputId": "4c1c43b2-ae6f-46e8-c5f2-ac1960c434a0"
      },
      "execution_count": 12,
      "outputs": [
        {
          "output_type": "stream",
          "name": "stdout",
          "text": [
            "root\n",
            " |-- Year: string (nullable = true)\n",
            " |-- Month: string (nullable = true)\n",
            " |-- DayofMonth: string (nullable = true)\n",
            " |-- DayOfWeek: string (nullable = true)\n",
            " |-- DepTime: string (nullable = true)\n",
            " |-- CRSDepTime: string (nullable = true)\n",
            " |-- ArrTime: string (nullable = true)\n",
            " |-- CRSArrTime: string (nullable = true)\n",
            " |-- UniqueCarrier: string (nullable = true)\n",
            " |-- FlightNum: string (nullable = true)\n",
            " |-- TailNum: string (nullable = true)\n",
            " |-- ActualElapsedTime: string (nullable = true)\n",
            " |-- CRSElapsedTime: string (nullable = true)\n",
            " |-- AirTime: string (nullable = true)\n",
            " |-- ArrDelay: string (nullable = true)\n",
            " |-- DepDelay: string (nullable = true)\n",
            " |-- Origin: string (nullable = true)\n",
            " |-- Dest: string (nullable = true)\n",
            " |-- Distance: string (nullable = true)\n",
            " |-- TaxiIn: string (nullable = true)\n",
            " |-- TaxiOut: string (nullable = true)\n",
            " |-- Cancelled: string (nullable = true)\n",
            " |-- CancellationCode: string (nullable = true)\n",
            " |-- Diverted: string (nullable = true)\n",
            " |-- CarrierDelay: string (nullable = true)\n",
            " |-- WeatherDelay: string (nullable = true)\n",
            " |-- NASDelay: string (nullable = true)\n",
            " |-- SecurityDelay: string (nullable = true)\n",
            " |-- LateAircraftDelay: string (nullable = true)\n",
            "\n"
          ]
        }
      ]
    },
    {
      "cell_type": "code",
      "source": [
        "raw_df_select = raw_df.select('DepTime','TaxiOut','TaxiIn','DayOfWeek','Distance','ArrDelay')"
      ],
      "metadata": {
        "id": "8rid9hMJCWoX"
      },
      "execution_count": 18,
      "outputs": []
    },
    {
      "cell_type": "code",
      "source": [
        "raw_df_select.show()"
      ],
      "metadata": {
        "colab": {
          "base_uri": "https://localhost:8080/"
        },
        "id": "3YwNKimXC9PY",
        "outputId": "61876fbd-2019-4361-d26c-316d193296b3"
      },
      "execution_count": 19,
      "outputs": [
        {
          "output_type": "stream",
          "name": "stdout",
          "text": [
            "+-------+-------+------+---------+--------+--------+\n",
            "|DepTime|TaxiOut|TaxiIn|DayOfWeek|Distance|ArrDelay|\n",
            "+-------+-------+------+---------+--------+--------+\n",
            "|   2003|      8|     4|        4|     810|     -14|\n",
            "|    754|     10|     5|        4|     810|       2|\n",
            "|    628|     17|     3|        4|     515|      14|\n",
            "|    926|      7|     3|        4|     515|      -6|\n",
            "|   1829|     10|     3|        4|     515|      34|\n",
            "|   1940|     10|     4|        4|     688|      11|\n",
            "|   1937|      7|     3|        4|    1591|      57|\n",
            "|   1039|      7|     7|        4|    1591|     -18|\n",
            "|    617|     19|     6|        4|     451|       2|\n",
            "|   1620|      6|     3|        4|     451|     -16|\n",
            "|    706|     19|     5|        4|     828|       1|\n",
            "|   1644|      8|     6|        4|     828|      80|\n",
            "|   1426|     12|     9|        4|     162|       1|\n",
            "|    715|     21|     7|        4|     162|      10|\n",
            "|   1702|     10|     4|        4|     162|      -4|\n",
            "|   1029|      9|     6|        4|     162|      11|\n",
            "|   1452|      8|     7|        4|    1489|      15|\n",
            "|    754|     16|     5|        4|    1489|     -15|\n",
            "|   1323|      9|     4|        4|     838|      16|\n",
            "|   1416|      5|     2|        4|     220|      37|\n",
            "+-------+-------+------+---------+--------+--------+\n",
            "only showing top 20 rows\n",
            "\n"
          ]
        }
      ]
    },
    {
      "cell_type": "code",
      "source": [
        "raw_df_select.describe().show()"
      ],
      "metadata": {
        "colab": {
          "base_uri": "https://localhost:8080/"
        },
        "id": "2Rc0CXOfBL2t",
        "outputId": "1ed6fc24-e27c-4776-ae36-ea3321b951a9"
      },
      "execution_count": 20,
      "outputs": [
        {
          "output_type": "stream",
          "name": "stdout",
          "text": [
            "+-------+------------------+------------------+-----------------+------------------+-----------------+-----------------+\n",
            "|summary|           DepTime|           TaxiOut|           TaxiIn|         DayOfWeek|         Distance|         ArrDelay|\n",
            "+-------+------------------+------------------+-----------------+------------------+-----------------+-----------------+\n",
            "|  count|           7009728|           7009728|          7009728|           7009728|          7009728|          7009728|\n",
            "|   mean|1333.8300461105448|16.453045177492882|6.860851704974527|3.9241815088973495|726.3870294253928| 8.16845238729114|\n",
            "| stddev|478.06889486629836|11.332798654232155|4.933649371300466|1.9882589459851212|562.1018034840403|38.50193694882867|\n",
            "|    min|                 1|                 0|                0|                 1|              100|               -1|\n",
            "|    max|                NA|                NA|               NA|                 7|              999|               NA|\n",
            "+-------+------------------+------------------+-----------------+------------------+-----------------+-----------------+\n",
            "\n"
          ]
        }
      ]
    },
    {
      "cell_type": "code",
      "source": [
        "raw_df.groupBy('Month').count().show()"
      ],
      "metadata": {
        "colab": {
          "base_uri": "https://localhost:8080/"
        },
        "id": "ZvtWDwGNDgMf",
        "outputId": "444cf364-a001-4f7f-c89a-b3e53e9ce918"
      },
      "execution_count": 41,
      "outputs": [
        {
          "output_type": "stream",
          "name": "stdout",
          "text": [
            "+-----+------+\n",
            "|Month| count|\n",
            "+-----+------+\n",
            "|    7|627931|\n",
            "|   11|523272|\n",
            "|    3|616090|\n",
            "|    8|612279|\n",
            "|    5|606293|\n",
            "|    6|608665|\n",
            "|    9|540908|\n",
            "|    1|605765|\n",
            "|   10|556205|\n",
            "|    4|598126|\n",
            "|   12|544958|\n",
            "|    2|569236|\n",
            "+-----+------+\n",
            "\n"
          ]
        }
      ]
    },
    {
      "cell_type": "code",
      "source": [
        "raw_grpby_df= raw_df.groupBy(\"Month\").agg({'ArrDelay':'avg', 'Month':'count'})"
      ],
      "metadata": {
        "id": "ydhzpVedJMJ9"
      },
      "execution_count": 39,
      "outputs": []
    },
    {
      "cell_type": "code",
      "source": [
        "raw_grpby_df.select(raw_grpby_df[0],raw_grpby_df[1].alias('NumMonth'),raw_grpby_df[2].alias('avgArrDelay')).show()"
      ],
      "metadata": {
        "colab": {
          "base_uri": "https://localhost:8080/"
        },
        "id": "L2dGVyY2M3Fb",
        "outputId": "baef2871-9a72-4af0-9c73-8b61815a6ada"
      },
      "execution_count": 40,
      "outputs": [
        {
          "output_type": "stream",
          "name": "stdout",
          "text": [
            "+-----+--------+------------------+\n",
            "|Month|NumMonth|       avgArrDelay|\n",
            "+-----+--------+------------------+\n",
            "|    7|  627931| 9.975049681276131|\n",
            "|   11|  523272| 2.015857969430839|\n",
            "|    3|  616090| 11.19236458018227|\n",
            "|    8|  612279|  6.91091468997087|\n",
            "|    5|  606293| 5.978448290248828|\n",
            "|    6|  608665|13.266756009659792|\n",
            "|    9|  540908|0.6977328787273043|\n",
            "|    1|  605765|10.188855960349496|\n",
            "|   10|  556205|0.4154954706912698|\n",
            "|    4|  598126| 6.807297481094145|\n",
            "|   12|  544958|16.680505081496417|\n",
            "|    2|  569236|13.077836997760205|\n",
            "+-----+--------+------------------+\n",
            "\n"
          ]
        }
      ]
    }
  ]
}