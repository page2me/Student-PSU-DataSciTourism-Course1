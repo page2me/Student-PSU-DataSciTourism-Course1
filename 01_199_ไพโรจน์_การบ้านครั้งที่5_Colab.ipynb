{
  "cells": [
    {
      "cell_type": "markdown",
      "source": [
        "# Open in Colab\n",
        "<a href=\"https://colab.research.google.com/github/aekanun2020/2022-PSU-Data-Science-for-Tourism-Course1/blob/main/Quiz2-PySpark_DataScience_onColab.ipynb\" target=\"_parent\"><img src=\"https://colab.research.google.com/assets/colab-badge.svg\" alt=\"Open In Colab\"/></a>"
      ],
      "metadata": {
        "id": "oegjafUQL-nC"
      }
    },
    {
      "cell_type": "code",
      "metadata": {
        "id": "0dTkA-bDa5bm"
      },
      "source": [
        "!apt-get install openjdk-8-jdk-headless -qq > /dev/null\n",
        "!wget -q https://archive.apache.org/dist/spark/spark-2.4.1/spark-2.4.1-bin-hadoop2.7.tgz\n",
        "!tar xf spark-2.4.1-bin-hadoop2.7.tgz\n",
        "!pip install -q findspark"
      ],
      "execution_count": null,
      "outputs": []
    },
    {
      "cell_type": "code",
      "metadata": {
        "id": "cy4_WOqEa5GJ"
      },
      "source": [
        "import os\n",
        "os.environ[\"JAVA_HOME\"] = \"/usr/lib/jvm/java-8-openjdk-amd64\"\n",
        "os.environ[\"SPARK_HOME\"] = \"/content/spark-2.4.1-bin-hadoop2.7\""
      ],
      "execution_count": null,
      "outputs": []
    },
    {
      "cell_type": "code",
      "metadata": {
        "id": "kI7zVpqja4du"
      },
      "source": [
        "import findspark\n",
        "findspark.init()\n",
        "from pyspark.sql import SparkSession\n",
        "spark = SparkSession.builder.master(\"local[*]\").getOrCreate()"
      ],
      "execution_count": null,
      "outputs": []
    },
    {
      "cell_type": "code",
      "metadata": {
        "collapsed": true,
        "id": "gLOiqgf1a2Ku"
      },
      "source": [
        "from pyspark.sql import SparkSession"
      ],
      "execution_count": null,
      "outputs": []
    },
    {
      "cell_type": "code",
      "metadata": {
        "collapsed": true,
        "id": "GBqMbCCxa2Kv"
      },
      "source": [
        "spark = SparkSession.builder \\\n",
        "   .appName(\"Neural Network Model\") \\\n",
        "   .config(\"spark.executor.memory\", \"3gb\") \\\n",
        "   .getOrCreate()\n",
        "   \n",
        "sc = spark.sparkContext"
      ],
      "execution_count": null,
      "outputs": []
    },
    {
      "cell_type": "code",
      "execution_count": null,
      "metadata": {
        "colab": {
          "base_uri": "https://localhost:8080/"
        },
        "outputId": "25508409-f18f-4e36-aaa6-aa7ecdf909ee",
        "id": "hN1cXtE8NiK5"
      },
      "outputs": [
        {
          "output_type": "execute_result",
          "data": {
            "text/html": [
              "\n",
              "        <div>\n",
              "            <p><b>SparkContext</b></p>\n",
              "\n",
              "            <p><a href=\"http://45ae45aaec41:4040\">Spark UI</a></p>\n",
              "\n",
              "            <dl>\n",
              "              <dt>Version</dt>\n",
              "                <dd><code>v2.4.1</code></dd>\n",
              "              <dt>Master</dt>\n",
              "                <dd><code>local[*]</code></dd>\n",
              "              <dt>AppName</dt>\n",
              "                <dd><code>pyspark-shell</code></dd>\n",
              "            </dl>\n",
              "        </div>\n",
              "        "
            ],
            "text/plain": [
              "<SparkContext master=local[*] appName=pyspark-shell>"
            ]
          },
          "metadata": {},
          "execution_count": 6
        }
      ],
      "source": [
        "sc"
      ]
    },
    {
      "cell_type": "markdown",
      "source": [
        "# 2. Data Understanding (1/2)"
      ],
      "metadata": {
        "id": "rx9DuS3mO2TK"
      }
    },
    {
      "cell_type": "code",
      "execution_count": null,
      "metadata": {
        "colab": {
          "base_uri": "https://localhost:8080/"
        },
        "outputId": "76312e0e-d8b5-42c8-dcd3-db5cf60146b4",
        "id": "V4k2a2ncNiK6"
      },
      "outputs": [
        {
          "output_type": "stream",
          "name": "stdout",
          "text": [
            "--2022-02-12 15:05:45--  https://storage.googleapis.com/class25jan2022/share/2008.csv\n",
            "Resolving storage.googleapis.com (storage.googleapis.com)... 108.177.112.128, 172.217.212.128, 172.217.214.128, ...\n",
            "Connecting to storage.googleapis.com (storage.googleapis.com)|108.177.112.128|:443... connected.\n",
            "HTTP request sent, awaiting response... 200 OK\n",
            "Length: 689413344 (657M) [text/csv]\n",
            "Saving to: ‘2008.csv’\n",
            "\n",
            "2008.csv            100%[===================>] 657.48M   225MB/s    in 2.9s    \n",
            "\n",
            "2022-02-12 15:05:48 (225 MB/s) - ‘2008.csv’ saved [689413344/689413344]\n",
            "\n"
          ]
        }
      ],
      "source": [
        "! wget https://storage.googleapis.com/class25jan2022/share/2008.csv"
      ]
    },
    {
      "cell_type": "code",
      "execution_count": null,
      "metadata": {
        "colab": {
          "base_uri": "https://localhost:8080/"
        },
        "outputId": "1151a5dd-ebcd-4870-b571-948c610344b8",
        "id": "LN60LBBENiK6"
      },
      "outputs": [
        {
          "output_type": "stream",
          "name": "stdout",
          "text": [
            "7009729 ./2008.csv\n"
          ]
        }
      ],
      "source": [
        "! wc -l ./2008.csv"
      ]
    },
    {
      "cell_type": "code",
      "execution_count": null,
      "metadata": {
        "colab": {
          "base_uri": "https://localhost:8080/"
        },
        "outputId": "a1b2d304-f233-4652-bfb1-7c1c5b0bb0c8",
        "id": "WJPXInLDNiK6"
      },
      "outputs": [
        {
          "output_type": "stream",
          "name": "stdout",
          "text": [
            "Year,Month,DayofMonth,DayOfWeek,DepTime,CRSDepTime,ArrTime,CRSArrTime,UniqueCarrier,FlightNum,TailNum,ActualElapsedTime,CRSElapsedTime,AirTime,ArrDelay,DepDelay,Origin,Dest,Distance,TaxiIn,TaxiOut,Cancelled,CancellationCode,Diverted,CarrierDelay,WeatherDelay,NASDelay,SecurityDelay,LateAircraftDelay\n",
            "2008,1,3,4,2003,1955,2211,2225,WN,335,N712SW,128,150,116,-14,8,IAD,TPA,810,4,8,0,,0,NA,NA,NA,NA,NA\n",
            "2008,1,3,4,754,735,1002,1000,WN,3231,N772SW,128,145,113,2,19,IAD,TPA,810,5,10,0,,0,NA,NA,NA,NA,NA\n"
          ]
        }
      ],
      "source": [
        "! head -3 2008.csv"
      ]
    },
    {
      "cell_type": "markdown",
      "source": [
        "# Dataproc Only"
      ],
      "metadata": {
        "id": "tNh22py6Nso1"
      }
    },
    {
      "cell_type": "code",
      "execution_count": null,
      "metadata": {
        "id": "ISfZPN5XNZee"
      },
      "outputs": [],
      "source": [
        ""
      ]
    },
    {
      "cell_type": "code",
      "execution_count": null,
      "metadata": {
        "id": "-5S2sKz_NZee"
      },
      "outputs": [],
      "source": [
        "#! hdfs dfs -rm -f /user/cloudera/input/2008.csv"
      ]
    },
    {
      "cell_type": "code",
      "execution_count": null,
      "metadata": {
        "id": "XE48rXT7NZef"
      },
      "outputs": [],
      "source": [
        "#! hdfs dfs -mkdir -p /user/cloudera/input"
      ]
    },
    {
      "cell_type": "code",
      "execution_count": null,
      "metadata": {
        "id": "DofLxvCVNZeg"
      },
      "outputs": [],
      "source": [
        "#! hadoop fs -put 2008.csv /user/cloudera/input"
      ]
    },
    {
      "cell_type": "code",
      "execution_count": null,
      "metadata": {
        "id": "SPR3aZ4ENZeh"
      },
      "outputs": [],
      "source": [
        "#! hdfs dfs -ls /user/cloudera/input"
      ]
    },
    {
      "cell_type": "code",
      "execution_count": null,
      "metadata": {
        "id": "tvhsVX1VAfl3"
      },
      "outputs": [],
      "source": [
        "#file_path = '/user/cloudera/input/2008.csv'"
      ]
    },
    {
      "cell_type": "markdown",
      "source": [
        "# Data Understanding (2/2)"
      ],
      "metadata": {
        "id": "hzf1kgTsNyoE"
      }
    },
    {
      "cell_type": "code",
      "execution_count": null,
      "metadata": {
        "id": "wBxrLAQSNZei"
      },
      "outputs": [],
      "source": [
        "file_path = '2008.csv'"
      ]
    },
    {
      "cell_type": "code",
      "execution_count": null,
      "metadata": {
        "id": "I4wqYhBpAr_8"
      },
      "outputs": [],
      "source": [
        "airline_df = spark.read.format('csv').\\\n",
        "option('header','true').option('mode','DROPMALFORMED')\\\n",
        ".load(file_path)"
      ]
    },
    {
      "cell_type": "code",
      "execution_count": null,
      "metadata": {
        "id": "Hya0WYvFBEll",
        "colab": {
          "base_uri": "https://localhost:8080/"
        },
        "outputId": "662eac96-fc6e-472f-cbc7-79f6c919fe31"
      },
      "outputs": [
        {
          "output_type": "execute_result",
          "data": {
            "text/plain": [
              "7009728"
            ]
          },
          "metadata": {},
          "execution_count": 12
        }
      ],
      "source": [
        "airline_df.count()"
      ]
    },
    {
      "cell_type": "code",
      "execution_count": null,
      "metadata": {
        "id": "DS-rkydVBI1i"
      },
      "outputs": [],
      "source": [
        "airline_row_df = airline_df"
      ]
    },
    {
      "cell_type": "code",
      "execution_count": null,
      "metadata": {
        "id": "Kuqha5hNBN4a",
        "colab": {
          "base_uri": "https://localhost:8080/"
        },
        "outputId": "0a675c8e-0009-4d46-e4dc-565725d064cf"
      },
      "outputs": [
        {
          "output_type": "stream",
          "name": "stdout",
          "text": [
            "root\n",
            " |-- Year: string (nullable = true)\n",
            " |-- Month: string (nullable = true)\n",
            " |-- DayofMonth: string (nullable = true)\n",
            " |-- DayOfWeek: string (nullable = true)\n",
            " |-- DepTime: string (nullable = true)\n",
            " |-- CRSDepTime: string (nullable = true)\n",
            " |-- ArrTime: string (nullable = true)\n",
            " |-- CRSArrTime: string (nullable = true)\n",
            " |-- UniqueCarrier: string (nullable = true)\n",
            " |-- FlightNum: string (nullable = true)\n",
            " |-- TailNum: string (nullable = true)\n",
            " |-- ActualElapsedTime: string (nullable = true)\n",
            " |-- CRSElapsedTime: string (nullable = true)\n",
            " |-- AirTime: string (nullable = true)\n",
            " |-- ArrDelay: string (nullable = true)\n",
            " |-- DepDelay: string (nullable = true)\n",
            " |-- Origin: string (nullable = true)\n",
            " |-- Dest: string (nullable = true)\n",
            " |-- Distance: string (nullable = true)\n",
            " |-- TaxiIn: string (nullable = true)\n",
            " |-- TaxiOut: string (nullable = true)\n",
            " |-- Cancelled: string (nullable = true)\n",
            " |-- CancellationCode: string (nullable = true)\n",
            " |-- Diverted: string (nullable = true)\n",
            " |-- CarrierDelay: string (nullable = true)\n",
            " |-- WeatherDelay: string (nullable = true)\n",
            " |-- NASDelay: string (nullable = true)\n",
            " |-- SecurityDelay: string (nullable = true)\n",
            " |-- LateAircraftDelay: string (nullable = true)\n",
            "\n"
          ]
        }
      ],
      "source": [
        "airline_row_df.printSchema()"
      ]
    },
    {
      "cell_type": "markdown",
      "source": [
        "# 3.Data Preparation"
      ],
      "metadata": {
        "id": "mPgr5OqdN9fS"
      }
    },
    {
      "cell_type": "code",
      "execution_count": null,
      "metadata": {
        "id": "VB_gaMzVBTlG"
      },
      "outputs": [],
      "source": [
        "from pyspark.sql.types import *\n",
        "from pyspark.sql import functions as sparkf"
      ]
    },
    {
      "cell_type": "code",
      "execution_count": null,
      "metadata": {
        "id": "Ac8f2ke2Bmyt"
      },
      "outputs": [],
      "source": [
        "crunched_df = airline_row_df.\\\n",
        "withColumn('DepTime',sparkf.col('DepTime').\\\n",
        "           cast(DoubleType())).\\\n",
        "withColumn('TaxiOut',sparkf.col('TaxiOut').\\\n",
        "           cast(DoubleType())).\\\n",
        "withColumn('TaxiIn',sparkf.col('TaxiIn').\\\n",
        "           cast(DoubleType())).\\\n",
        "withColumn('DepDelay',sparkf.col('DepDelay').\\\n",
        "           cast(DoubleType())).\\\n",
        "withColumn('DayOfWeek',sparkf.col('DayOfWeek').\\\n",
        "           cast(DoubleType())).\\\n",
        "withColumn('Distance',sparkf.col('Distance').\\\n",
        "           cast(DoubleType())).\\\n",
        "withColumn('ArrDelay',sparkf.col('ArrDelay').\\\n",
        "           cast(DoubleType()))"
      ]
    },
    {
      "cell_type": "code",
      "execution_count": null,
      "metadata": {
        "id": "UCnfwtcQDQgl",
        "colab": {
          "base_uri": "https://localhost:8080/"
        },
        "outputId": "7c51d098-3cdd-43e6-b253-8c4f1d1a9e29"
      },
      "outputs": [
        {
          "output_type": "stream",
          "name": "stdout",
          "text": [
            "root\n",
            " |-- Year: string (nullable = true)\n",
            " |-- Month: string (nullable = true)\n",
            " |-- DayofMonth: string (nullable = true)\n",
            " |-- DayOfWeek: double (nullable = true)\n",
            " |-- DepTime: double (nullable = true)\n",
            " |-- CRSDepTime: string (nullable = true)\n",
            " |-- ArrTime: string (nullable = true)\n",
            " |-- CRSArrTime: string (nullable = true)\n",
            " |-- UniqueCarrier: string (nullable = true)\n",
            " |-- FlightNum: string (nullable = true)\n",
            " |-- TailNum: string (nullable = true)\n",
            " |-- ActualElapsedTime: string (nullable = true)\n",
            " |-- CRSElapsedTime: string (nullable = true)\n",
            " |-- AirTime: string (nullable = true)\n",
            " |-- ArrDelay: double (nullable = true)\n",
            " |-- DepDelay: double (nullable = true)\n",
            " |-- Origin: string (nullable = true)\n",
            " |-- Dest: string (nullable = true)\n",
            " |-- Distance: double (nullable = true)\n",
            " |-- TaxiIn: double (nullable = true)\n",
            " |-- TaxiOut: double (nullable = true)\n",
            " |-- Cancelled: string (nullable = true)\n",
            " |-- CancellationCode: string (nullable = true)\n",
            " |-- Diverted: string (nullable = true)\n",
            " |-- CarrierDelay: string (nullable = true)\n",
            " |-- WeatherDelay: string (nullable = true)\n",
            " |-- NASDelay: string (nullable = true)\n",
            " |-- SecurityDelay: string (nullable = true)\n",
            " |-- LateAircraftDelay: string (nullable = true)\n",
            "\n"
          ]
        }
      ],
      "source": [
        "crunched_df.printSchema()"
      ]
    },
    {
      "cell_type": "code",
      "execution_count": null,
      "metadata": {
        "id": "hNo2Q2H5DWZp",
        "colab": {
          "base_uri": "https://localhost:8080/"
        },
        "outputId": "d74e4e82-1578-4f2d-a0a0-4b2e91095725"
      },
      "outputs": [
        {
          "output_type": "stream",
          "name": "stdout",
          "text": [
            "Requirement already satisfied: pandas in /usr/local/lib/python3.7/dist-packages (1.3.5)\n",
            "Requirement already satisfied: numpy>=1.17.3 in /usr/local/lib/python3.7/dist-packages (from pandas) (1.19.5)\n",
            "Requirement already satisfied: python-dateutil>=2.7.3 in /usr/local/lib/python3.7/dist-packages (from pandas) (2.8.2)\n",
            "Requirement already satisfied: pytz>=2017.3 in /usr/local/lib/python3.7/dist-packages (from pandas) (2018.9)\n",
            "Requirement already satisfied: six>=1.5 in /usr/local/lib/python3.7/dist-packages (from python-dateutil>=2.7.3->pandas) (1.15.0)\n"
          ]
        }
      ],
      "source": [
        "! pip install pandas"
      ]
    },
    {
      "cell_type": "code",
      "execution_count": null,
      "metadata": {
        "id": "yd-XqVuyDq68",
        "colab": {
          "base_uri": "https://localhost:8080/"
        },
        "outputId": "f960866f-80d3-4927-8b60-b6a51b1b1905"
      },
      "outputs": [
        {
          "output_type": "execute_result",
          "data": {
            "text/html": [
              "\n",
              "  <div id=\"df-a0b6469b-6874-46e9-8325-7674ef4a637d\">\n",
              "    <div class=\"colab-df-container\">\n",
              "      <div>\n",
              "<style scoped>\n",
              "    .dataframe tbody tr th:only-of-type {\n",
              "        vertical-align: middle;\n",
              "    }\n",
              "\n",
              "    .dataframe tbody tr th {\n",
              "        vertical-align: top;\n",
              "    }\n",
              "\n",
              "    .dataframe thead th {\n",
              "        text-align: right;\n",
              "    }\n",
              "</style>\n",
              "<table border=\"1\" class=\"dataframe\">\n",
              "  <thead>\n",
              "    <tr style=\"text-align: right;\">\n",
              "      <th></th>\n",
              "      <th>0</th>\n",
              "      <th>1</th>\n",
              "      <th>2</th>\n",
              "      <th>3</th>\n",
              "      <th>4</th>\n",
              "    </tr>\n",
              "  </thead>\n",
              "  <tbody>\n",
              "    <tr>\n",
              "      <th>summary</th>\n",
              "      <td>count</td>\n",
              "      <td>mean</td>\n",
              "      <td>stddev</td>\n",
              "      <td>min</td>\n",
              "      <td>max</td>\n",
              "    </tr>\n",
              "    <tr>\n",
              "      <th>DepTime</th>\n",
              "      <td>6873482</td>\n",
              "      <td>1333.8300461105448</td>\n",
              "      <td>478.06889486629836</td>\n",
              "      <td>1.0</td>\n",
              "      <td>2400.0</td>\n",
              "    </tr>\n",
              "    <tr>\n",
              "      <th>TaxiOut</th>\n",
              "      <td>6872670</td>\n",
              "      <td>16.453045177492882</td>\n",
              "      <td>11.332798654232155</td>\n",
              "      <td>0.0</td>\n",
              "      <td>429.0</td>\n",
              "    </tr>\n",
              "    <tr>\n",
              "      <th>TaxiIn</th>\n",
              "      <td>6858079</td>\n",
              "      <td>6.860851704974527</td>\n",
              "      <td>4.933649371300466</td>\n",
              "      <td>0.0</td>\n",
              "      <td>308.0</td>\n",
              "    </tr>\n",
              "    <tr>\n",
              "      <th>DayOfWeek</th>\n",
              "      <td>7009728</td>\n",
              "      <td>3.9241815088973495</td>\n",
              "      <td>1.9882589459851212</td>\n",
              "      <td>1.0</td>\n",
              "      <td>7.0</td>\n",
              "    </tr>\n",
              "    <tr>\n",
              "      <th>Distance</th>\n",
              "      <td>7009728</td>\n",
              "      <td>726.3870294253928</td>\n",
              "      <td>562.1018034840403</td>\n",
              "      <td>11.0</td>\n",
              "      <td>4962.0</td>\n",
              "    </tr>\n",
              "    <tr>\n",
              "      <th>ArrDelay</th>\n",
              "      <td>6855029</td>\n",
              "      <td>8.16845238729114</td>\n",
              "      <td>38.50193694882867</td>\n",
              "      <td>-519.0</td>\n",
              "      <td>2461.0</td>\n",
              "    </tr>\n",
              "  </tbody>\n",
              "</table>\n",
              "</div>\n",
              "      <button class=\"colab-df-convert\" onclick=\"convertToInteractive('df-a0b6469b-6874-46e9-8325-7674ef4a637d')\"\n",
              "              title=\"Convert this dataframe to an interactive table.\"\n",
              "              style=\"display:none;\">\n",
              "        \n",
              "  <svg xmlns=\"http://www.w3.org/2000/svg\" height=\"24px\"viewBox=\"0 0 24 24\"\n",
              "       width=\"24px\">\n",
              "    <path d=\"M0 0h24v24H0V0z\" fill=\"none\"/>\n",
              "    <path d=\"M18.56 5.44l.94 2.06.94-2.06 2.06-.94-2.06-.94-.94-2.06-.94 2.06-2.06.94zm-11 1L8.5 8.5l.94-2.06 2.06-.94-2.06-.94L8.5 2.5l-.94 2.06-2.06.94zm10 10l.94 2.06.94-2.06 2.06-.94-2.06-.94-.94-2.06-.94 2.06-2.06.94z\"/><path d=\"M17.41 7.96l-1.37-1.37c-.4-.4-.92-.59-1.43-.59-.52 0-1.04.2-1.43.59L10.3 9.45l-7.72 7.72c-.78.78-.78 2.05 0 2.83L4 21.41c.39.39.9.59 1.41.59.51 0 1.02-.2 1.41-.59l7.78-7.78 2.81-2.81c.8-.78.8-2.07 0-2.86zM5.41 20L4 18.59l7.72-7.72 1.47 1.35L5.41 20z\"/>\n",
              "  </svg>\n",
              "      </button>\n",
              "      \n",
              "  <style>\n",
              "    .colab-df-container {\n",
              "      display:flex;\n",
              "      flex-wrap:wrap;\n",
              "      gap: 12px;\n",
              "    }\n",
              "\n",
              "    .colab-df-convert {\n",
              "      background-color: #E8F0FE;\n",
              "      border: none;\n",
              "      border-radius: 50%;\n",
              "      cursor: pointer;\n",
              "      display: none;\n",
              "      fill: #1967D2;\n",
              "      height: 32px;\n",
              "      padding: 0 0 0 0;\n",
              "      width: 32px;\n",
              "    }\n",
              "\n",
              "    .colab-df-convert:hover {\n",
              "      background-color: #E2EBFA;\n",
              "      box-shadow: 0px 1px 2px rgba(60, 64, 67, 0.3), 0px 1px 3px 1px rgba(60, 64, 67, 0.15);\n",
              "      fill: #174EA6;\n",
              "    }\n",
              "\n",
              "    [theme=dark] .colab-df-convert {\n",
              "      background-color: #3B4455;\n",
              "      fill: #D2E3FC;\n",
              "    }\n",
              "\n",
              "    [theme=dark] .colab-df-convert:hover {\n",
              "      background-color: #434B5C;\n",
              "      box-shadow: 0px 1px 3px 1px rgba(0, 0, 0, 0.15);\n",
              "      filter: drop-shadow(0px 1px 2px rgba(0, 0, 0, 0.3));\n",
              "      fill: #FFFFFF;\n",
              "    }\n",
              "  </style>\n",
              "\n",
              "      <script>\n",
              "        const buttonEl =\n",
              "          document.querySelector('#df-a0b6469b-6874-46e9-8325-7674ef4a637d button.colab-df-convert');\n",
              "        buttonEl.style.display =\n",
              "          google.colab.kernel.accessAllowed ? 'block' : 'none';\n",
              "\n",
              "        async function convertToInteractive(key) {\n",
              "          const element = document.querySelector('#df-a0b6469b-6874-46e9-8325-7674ef4a637d');\n",
              "          const dataTable =\n",
              "            await google.colab.kernel.invokeFunction('convertToInteractive',\n",
              "                                                     [key], {});\n",
              "          if (!dataTable) return;\n",
              "\n",
              "          const docLinkHtml = 'Like what you see? Visit the ' +\n",
              "            '<a target=\"_blank\" href=https://colab.research.google.com/notebooks/data_table.ipynb>data table notebook</a>'\n",
              "            + ' to learn more about interactive tables.';\n",
              "          element.innerHTML = '';\n",
              "          dataTable['output_type'] = 'display_data';\n",
              "          await google.colab.output.renderOutput(dataTable, element);\n",
              "          const docLink = document.createElement('div');\n",
              "          docLink.innerHTML = docLinkHtml;\n",
              "          element.appendChild(docLink);\n",
              "        }\n",
              "      </script>\n",
              "    </div>\n",
              "  </div>\n",
              "  "
            ],
            "text/plain": [
              "                 0                   1                   2       3       4\n",
              "summary      count                mean              stddev     min     max\n",
              "DepTime    6873482  1333.8300461105448  478.06889486629836     1.0  2400.0\n",
              "TaxiOut    6872670  16.453045177492882  11.332798654232155     0.0   429.0\n",
              "TaxiIn     6858079   6.860851704974527   4.933649371300466     0.0   308.0\n",
              "DayOfWeek  7009728  3.9241815088973495  1.9882589459851212     1.0     7.0\n",
              "Distance   7009728   726.3870294253928   562.1018034840403    11.0  4962.0\n",
              "ArrDelay   6855029    8.16845238729114   38.50193694882867  -519.0  2461.0"
            ]
          },
          "metadata": {},
          "execution_count": 19
        }
      ],
      "source": [
        "import pandas as pd\n",
        "crunched_df.\\\n",
        "              select(['DepTime','TaxiOut','TaxiIn',\\\n",
        "                      'DayOfWeek','Distance','ArrDelay']).\\\n",
        "              describe().toPandas().transpose()"
      ]
    },
    {
      "cell_type": "code",
      "execution_count": null,
      "metadata": {
        "id": "1spM5o-rEIQp"
      },
      "outputs": [],
      "source": [
        "def t_timeperiod(origin):\n",
        "    if origin is None:\n",
        "      period = None\n",
        "    elif origin > 0 and origin < 600:\n",
        "      period = '00.01-05.59'\n",
        "    elif origin >=600 and origin <1200:\n",
        "      period = '06.00-11.59'\n",
        "    elif origin >=1200 and origin <1800:\n",
        "      period = '12.00-17.59'\n",
        "    elif origin >= 1800 and origin <= 2400:\n",
        "      period = '18.00-24.00'\n",
        "    else:\n",
        "      period = 'NA'\n",
        "    return period"
      ]
    },
    {
      "cell_type": "code",
      "execution_count": null,
      "metadata": {
        "id": "yUQuHrXmF5VD"
      },
      "outputs": [],
      "source": [
        "timeperiod = sparkf.udf(lambda x: t_timeperiod(x),StringType())"
      ]
    },
    {
      "cell_type": "code",
      "execution_count": null,
      "metadata": {
        "id": "9Zdh5HYoGDxd"
      },
      "outputs": [],
      "source": [
        "discretized_df = crunched_df.\\\n",
        "withColumn('DepTime',timeperiod(sparkf.col('DepTime')))"
      ]
    },
    {
      "cell_type": "code",
      "execution_count": null,
      "metadata": {
        "id": "dzlLI8SgGY4w"
      },
      "outputs": [],
      "source": [
        "max_distance = discretized_df.select(sparkf.max('Distance')).collect()[0][0]\n",
        "min_distance = discretized_df.select(sparkf.min('Distance')).collect()[0][0]"
      ]
    },
    {
      "cell_type": "code",
      "execution_count": null,
      "metadata": {
        "id": "uOFdoavjG8gW"
      },
      "outputs": [],
      "source": [
        "max_ArrDelay = discretized_df.select(sparkf.max('ArrDelay')).collect()[0][0]\n",
        "min_ArrDelay = discretized_df.select(sparkf.min('ArrDelay')).collect()[0][0]"
      ]
    },
    {
      "cell_type": "code",
      "execution_count": null,
      "metadata": {
        "id": "bArFHIWyHZxL"
      },
      "outputs": [],
      "source": [
        "def t_normalized_distance(origin):\n",
        "  if origin is None:\n",
        "    return None\n",
        "  else:\n",
        "    return ((origin-min_distance)/(max_distance-min_distance))"
      ]
    },
    {
      "cell_type": "code",
      "execution_count": null,
      "metadata": {
        "id": "6lmSMV_NKIBA"
      },
      "outputs": [],
      "source": [
        "def t_normalized_ArrDelay(origin):\n",
        "  if origin is None:\n",
        "    return None\n",
        "  else:\n",
        "    return ((origin-min_ArrDelay)/(max_ArrDelay-min_ArrDelay))"
      ]
    },
    {
      "cell_type": "code",
      "execution_count": null,
      "metadata": {
        "id": "6A5qH4s5Keq9"
      },
      "outputs": [],
      "source": [
        "normalized_distance = sparkf.udf(lambda x: t_normalized_distance(x),DoubleType())"
      ]
    },
    {
      "cell_type": "code",
      "execution_count": null,
      "metadata": {
        "id": "5Q_sea7DKsJj"
      },
      "outputs": [],
      "source": [
        "normalized_ArrDelay = sparkf.udf(lambda x: t_normalized_ArrDelay(x),DoubleType())"
      ]
    },
    {
      "cell_type": "code",
      "execution_count": null,
      "metadata": {
        "id": "yQe_MYccLLyB"
      },
      "outputs": [],
      "source": [
        "normalized_df = discretized_df.\\\n",
        "withColumn('Distance', normalized_distance(sparkf.col('Distance'))).\\\n",
        "withColumn('ArrDelay', normalized_ArrDelay(sparkf.col('ArrDelay')))"
      ]
    },
    {
      "cell_type": "code",
      "execution_count": null,
      "metadata": {
        "id": "6Nph79x-LjED"
      },
      "outputs": [],
      "source": [
        "features_df = normalized_df.\\\n",
        "select(['UniqueCarrier','Origin','Dest',\\\n",
        "        'DepTime','TaxiOut','TaxiIn','DepDelay',\\\n",
        "        'DayOfWeek','Distance','ArrDelay'])"
      ]
    },
    {
      "cell_type": "code",
      "execution_count": null,
      "metadata": {
        "id": "2oL0NoXpMImL"
      },
      "outputs": [],
      "source": [
        "final_df = features_df.dropna()"
      ]
    },
    {
      "cell_type": "code",
      "execution_count": null,
      "metadata": {
        "id": "0igl3Mc1MOb3",
        "colab": {
          "base_uri": "https://localhost:8080/"
        },
        "outputId": "3991a6d7-3d7c-4aef-dd0e-18b2134bd3bc"
      },
      "outputs": [
        {
          "output_type": "execute_result",
          "data": {
            "text/plain": [
              "6855029"
            ]
          },
          "metadata": {},
          "execution_count": 32
        }
      ],
      "source": [
        "final_df.count()"
      ]
    },
    {
      "cell_type": "code",
      "execution_count": null,
      "metadata": {
        "id": "W48iPiMaMSWY",
        "colab": {
          "base_uri": "https://localhost:8080/"
        },
        "outputId": "5532a69e-8cd0-4a33-da03-6aaf37a92c4f"
      },
      "outputs": [
        {
          "output_type": "stream",
          "name": "stdout",
          "text": [
            "+-------------+------+----+-----------+-------+------+--------+---------+--------------------+-------------------+\n",
            "|UniqueCarrier|Origin|Dest|    DepTime|TaxiOut|TaxiIn|DepDelay|DayOfWeek|            Distance|           ArrDelay|\n",
            "+-------------+------+----+-----------+-------+------+--------+---------+--------------------+-------------------+\n",
            "|           WN|   IAD| TPA|18.00-24.00|    8.0|   4.0|     8.0|      4.0| 0.16138153908301353|0.16946308724832215|\n",
            "|           WN|   IAD| TPA|06.00-11.59|   10.0|   5.0|    19.0|      4.0| 0.16138153908301353|0.17483221476510066|\n",
            "|           WN|   IND| BWI|06.00-11.59|   17.0|   3.0|     8.0|      4.0|  0.1017976166431024|0.17885906040268457|\n",
            "|           WN|   IND| BWI|06.00-11.59|    7.0|   3.0|    -4.0|      4.0|  0.1017976166431024|0.17214765100671142|\n",
            "|           WN|   IND| BWI|18.00-24.00|   10.0|   3.0|    34.0|      4.0|  0.1017976166431024| 0.1855704697986577|\n",
            "|           WN|   IND| JAX|18.00-24.00|   10.0|   4.0|    25.0|      4.0|  0.1367400525146435|0.17785234899328858|\n",
            "|           WN|   IND| LAS|18.00-24.00|    7.0|   3.0|    67.0|      4.0| 0.31912744900020196|0.19328859060402684|\n",
            "|           WN|   IND| LAS|06.00-11.59|    7.0|   7.0|    -1.0|      4.0| 0.31912744900020196|0.16812080536912752|\n",
            "|           WN|   IND| MCI|06.00-11.59|   19.0|   6.0|     2.0|      4.0| 0.08887093516461321|0.17483221476510066|\n",
            "|           WN|   IND| MCI|12.00-17.59|    6.0|   3.0|     0.0|      4.0| 0.08887093516461321|0.16879194630872482|\n",
            "|           WN|   IND| MCO|06.00-11.59|   19.0|   5.0|     6.0|      4.0|  0.1650171682488386|  0.174496644295302|\n",
            "|           WN|   IND| MCO|12.00-17.59|    8.0|   6.0|    94.0|      4.0|  0.1650171682488386|0.20100671140939597|\n",
            "|           WN|   IND| MDW|12.00-17.59|   12.0|   9.0|    -4.0|      4.0|0.030498889113310442|  0.174496644295302|\n",
            "|           WN|   IND| MDW|06.00-11.59|   21.0|   7.0|     0.0|      4.0|0.030498889113310442|0.17751677852348993|\n",
            "|           WN|   IND| MDW|12.00-17.59|   10.0|   4.0|     2.0|      4.0|0.030498889113310442|0.17281879194630873|\n",
            "|           WN|   IND| MDW|06.00-11.59|    9.0|   6.0|     9.0|      4.0|0.030498889113310442|0.17785234899328858|\n",
            "|           WN|   IND| PHX|12.00-17.59|    8.0|   7.0|    27.0|      4.0|  0.2985255503938598|0.17919463087248322|\n",
            "|           WN|   IND| PHX|06.00-11.59|   16.0|   5.0|     9.0|      4.0|  0.2985255503938598| 0.1691275167785235|\n",
            "|           WN|   IND| TPA|12.00-17.59|    9.0|   4.0|    28.0|      4.0| 0.16703696222985256|0.17953020134228187|\n",
            "|           WN|   ISP| BWI|12.00-17.59|    5.0|   2.0|    51.0|      4.0| 0.04221369420319127| 0.1865771812080537|\n",
            "+-------------+------+----+-----------+-------+------+--------+---------+--------------------+-------------------+\n",
            "only showing top 20 rows\n",
            "\n"
          ]
        }
      ],
      "source": [
        "final_df.show()"
      ]
    },
    {
      "cell_type": "markdown",
      "source": [
        "# 4. Modeling (and making some data transformation)"
      ],
      "metadata": {
        "id": "ELsEh-rUOdrw"
      }
    },
    {
      "cell_type": "code",
      "execution_count": null,
      "metadata": {
        "id": "RyVCHRoIM27X"
      },
      "outputs": [],
      "source": [
        "training_df,test_df = final_df.\\\n",
        "randomSplit([0.90,0.10], seed = 12)"
      ]
    },
    {
      "cell_type": "code",
      "execution_count": null,
      "metadata": {
        "id": "kQyTK_C-NZey",
        "colab": {
          "base_uri": "https://localhost:8080/"
        },
        "outputId": "b9fdd1c1-13a2-4836-cc42-4cf3638b0414"
      },
      "outputs": [
        {
          "output_type": "execute_result",
          "data": {
            "text/plain": [
              "6170207"
            ]
          },
          "metadata": {},
          "execution_count": 35
        }
      ],
      "source": [
        "training_df.count()"
      ]
    },
    {
      "cell_type": "code",
      "execution_count": null,
      "metadata": {
        "id": "1t0xVf5QNZey",
        "colab": {
          "base_uri": "https://localhost:8080/"
        },
        "outputId": "783a38c5-c37a-417e-d3da-dea15ef9d8d9"
      },
      "outputs": [
        {
          "output_type": "stream",
          "name": "stdout",
          "text": [
            "root\n",
            " |-- UniqueCarrier: string (nullable = true)\n",
            " |-- Origin: string (nullable = true)\n",
            " |-- Dest: string (nullable = true)\n",
            " |-- DepTime: string (nullable = true)\n",
            " |-- TaxiOut: double (nullable = true)\n",
            " |-- TaxiIn: double (nullable = true)\n",
            " |-- DepDelay: double (nullable = true)\n",
            " |-- DayOfWeek: double (nullable = true)\n",
            " |-- Distance: double (nullable = true)\n",
            " |-- ArrDelay: double (nullable = true)\n",
            "\n"
          ]
        }
      ],
      "source": [
        "training_df.printSchema()"
      ]
    },
    {
      "cell_type": "code",
      "execution_count": null,
      "metadata": {
        "id": "amGlrEisNZez"
      },
      "outputs": [],
      "source": [
        "from pyspark.ml.feature import StringIndexer,OneHotEncoder"
      ]
    },
    {
      "cell_type": "code",
      "execution_count": null,
      "metadata": {
        "id": "lXKfwSoENZez"
      },
      "outputs": [],
      "source": [
        "DepTimeIndexer = StringIndexer\\\n",
        "(handleInvalid='keep',inputCol='DepTime',outputCol='DepTimeIndexed')"
      ]
    },
    {
      "cell_type": "code",
      "execution_count": null,
      "metadata": {
        "id": "3xal8VhKNZe0"
      },
      "outputs": [],
      "source": [
        "UniqueCarrierIndexer = StringIndexer\\\n",
        "(handleInvalid='keep',inputCol='UniqueCarrier',\\\n",
        "outputCol='UniqueCarrierIndexed')"
      ]
    },
    {
      "cell_type": "code",
      "execution_count": null,
      "metadata": {
        "id": "9lwIuWjaNZe0"
      },
      "outputs": [],
      "source": [
        "UniqueCarrierOneHotEncoder = OneHotEncoder\\\n",
        "(dropLast=False,inputCol='UniqueCarrierIndexed',\\\n",
        "outputCol='UniqueCarrierVec')"
      ]
    },
    {
      "cell_type": "code",
      "execution_count": null,
      "metadata": {
        "id": "uHBqesL1NZe0"
      },
      "outputs": [],
      "source": [
        "OriginIndexer = StringIndexer(handleInvalid='keep',inputCol='Origin',\\\n",
        "                             outputCol='OriginIndexed')"
      ]
    },
    {
      "cell_type": "code",
      "execution_count": null,
      "metadata": {
        "id": "FYSyxG8BNZe1"
      },
      "outputs": [],
      "source": [
        "OriginOneHotEncoder = OneHotEncoder\\\n",
        "(dropLast=False,inputCol='OriginIndexed',\\\n",
        "outputCol='OriginVec')"
      ]
    },
    {
      "cell_type": "code",
      "execution_count": null,
      "metadata": {
        "id": "gJreBIL_NZe1"
      },
      "outputs": [],
      "source": [
        "DestIndexer = StringIndexer(handleInvalid='keep',inputCol='Dest',\\\n",
        "                           outputCol='DestIndexed')"
      ]
    },
    {
      "cell_type": "code",
      "execution_count": null,
      "metadata": {
        "id": "ME4Q7hNGNZe1"
      },
      "outputs": [],
      "source": [
        "DestOneHotEncoder = OneHotEncoder\\\n",
        "(dropLast=False,inputCol='DestIndexed',\\\n",
        " outputCol='DestVec')"
      ]
    },
    {
      "cell_type": "code",
      "execution_count": null,
      "metadata": {
        "id": "uq2xq2V0NZe2"
      },
      "outputs": [],
      "source": [
        "from pyspark.mllib.linalg import Vectors\n",
        "from pyspark.ml.feature import VectorAssembler\n",
        "from pyspark.ml import Pipeline"
      ]
    },
    {
      "cell_type": "code",
      "execution_count": null,
      "metadata": {
        "id": "sX-3L7kVNZe2"
      },
      "outputs": [],
      "source": [
        "featureAssembler = VectorAssembler\\\n",
        "(inputCols=['DepTimeIndexed',\\\n",
        "            'UniqueCarrierVec',\\\n",
        "            'OriginVec',\\\n",
        "            'DestVec',\\\n",
        "            'TaxiOut','TaxiIn',\\\n",
        "            'DepDelay',\\\n",
        "            'DayOfWeek',\\\n",
        "            'Distance'\n",
        "           ], outputCol='***features')"
      ]
    },
    {
      "cell_type": "code",
      "execution_count": null,
      "metadata": {
        "id": "RKzFHbe3NZe2"
      },
      "outputs": [],
      "source": [
        "from pyspark.ml.regression import RandomForestRegressor"
      ]
    },
    {
      "cell_type": "code",
      "execution_count": null,
      "metadata": {
        "id": "dZiS71bhNZe2"
      },
      "outputs": [],
      "source": [
        "dt = RandomForestRegressor\\\n",
        "(labelCol='ArrDelay',featuresCol='***features')"
      ]
    },
    {
      "cell_type": "code",
      "execution_count": null,
      "metadata": {
        "id": "lIyQYxrPNZe2"
      },
      "outputs": [],
      "source": [
        "pipeline_dt = Pipeline().\\\n",
        "setStages([DepTimeIndexer,\\\n",
        "           UniqueCarrierIndexer,\\\n",
        "           UniqueCarrierOneHotEncoder,\\\n",
        "           OriginIndexer,\\\n",
        "           OriginOneHotEncoder,\\\n",
        "           DestIndexer,\\\n",
        "           DestOneHotEncoder,\\\n",
        "           featureAssembler,dt])"
      ]
    },
    {
      "cell_type": "code",
      "execution_count": null,
      "metadata": {
        "id": "qEpBv_n3NZe3"
      },
      "outputs": [],
      "source": [
        "dtModel = pipeline_dt.fit(training_df)"
      ]
    },
    {
      "cell_type": "markdown",
      "source": [
        "# 5.Evaluation"
      ],
      "metadata": {
        "id": "u4AjkBJrPrvy"
      }
    },
    {
      "cell_type": "code",
      "execution_count": null,
      "metadata": {
        "id": "RRVeciOANZe3"
      },
      "outputs": [],
      "source": [
        "result_df = dtModel.transform(test_df.dropna())"
      ]
    },
    {
      "cell_type": "code",
      "execution_count": null,
      "metadata": {
        "id": "kxDs-c8UNZe4",
        "colab": {
          "base_uri": "https://localhost:8080/"
        },
        "outputId": "f4e43961-2248-4ea8-822c-5dcaad72e4dd"
      },
      "outputs": [
        {
          "output_type": "stream",
          "name": "stdout",
          "text": [
            "+-------------------+-------------------+\n",
            "|           ArrDelay|         Prediction|\n",
            "+-------------------+-------------------+\n",
            "|0.18053691275167785|0.17404855690356016|\n",
            "|0.18523489932885906|0.18063408652134083|\n",
            "|  0.174496644295302| 0.1736258337533351|\n",
            "|0.17315436241610738| 0.1741502831157759|\n",
            "|0.16711409395973154|0.17308549833087156|\n",
            "|0.16946308724832215| 0.1731714156553799|\n",
            "|0.17885906040268457| 0.1782235578111112|\n",
            "|0.17651006711409395|0.17308549833087156|\n",
            "| 0.1691275167785235|0.17308549833087156|\n",
            "|0.18892617449664428|0.18274329715487742|\n",
            "|  0.175503355704698|0.17422805431453708|\n",
            "|0.17248322147651007|0.17320351995347325|\n",
            "|0.17583892617449665| 0.1743143001371026|\n",
            "|0.17919463087248322|0.17501851233604154|\n",
            "|0.22550335570469798| 0.2134472410852767|\n",
            "|0.18288590604026847|0.18205289756128368|\n",
            "|0.17651006711409395| 0.1731367470574122|\n",
            "| 0.1697986577181208| 0.1732544516214766|\n",
            "|0.17348993288590603| 0.1743106583153643|\n",
            "|0.18120805369127516|0.18191561582332327|\n",
            "+-------------------+-------------------+\n",
            "only showing top 20 rows\n",
            "\n"
          ]
        }
      ],
      "source": [
        "result_df.select(['ArrDelay','Prediction']).show()"
      ]
    },
    {
      "cell_type": "code",
      "execution_count": null,
      "metadata": {
        "id": "pPaRucyBNZe4"
      },
      "outputs": [],
      "source": [
        "from pyspark.ml.evaluation import RegressionEvaluator"
      ]
    },
    {
      "cell_type": "code",
      "execution_count": null,
      "metadata": {
        "id": "F-TRGUJCNZe4",
        "colab": {
          "base_uri": "https://localhost:8080/"
        },
        "outputId": "e9b67ddf-c7ae-416a-d5e4-e68157644f0d"
      },
      "outputs": [
        {
          "output_type": "stream",
          "name": "stdout",
          "text": [
            "R Squared (R2) on test data = 0.713274\n"
          ]
        }
      ],
      "source": [
        "lr_evaluator_r2 = RegressionEvaluator\\\n",
        "(predictionCol='prediction',labelCol='ArrDelay',metricName='r2')\n",
        "print(\"R Squared (R2) on test data = %g\"\\\n",
        "     % lr_evaluator_r2.evaluate(result_df))"
      ]
    },
    {
      "cell_type": "code",
      "execution_count": null,
      "metadata": {
        "id": "lf0kNjTdNZe5",
        "colab": {
          "base_uri": "https://localhost:8080/"
        },
        "outputId": "6db935ff-24ee-4988-f061-9a4cebc6c05d"
      },
      "outputs": [
        {
          "output_type": "stream",
          "name": "stdout",
          "text": [
            "Root Mean Squared Error (RMSE) on test data = 0.00695644\n"
          ]
        }
      ],
      "source": [
        "lr_evaluator_rmse = RegressionEvaluator\\\n",
        "(predictionCol='prediction',labelCol='ArrDelay',metricName='rmse')\n",
        "print(\"Root Mean Squared Error (RMSE) on test data = %g\"\\\n",
        "     % lr_evaluator_rmse.evaluate(result_df))"
      ]
    },
    {
      "cell_type": "markdown",
      "source": [
        "# Alternative Models "
      ],
      "metadata": {
        "id": "8MNyZRa2f_9B"
      }
    },
    {
      "cell_type": "markdown",
      "source": [
        "Linear Regression"
      ],
      "metadata": {
        "id": "VU8w3Rtdk5YG"
      }
    },
    {
      "cell_type": "code",
      "source": [
        "from pyspark.ml.regression import LinearRegression\n",
        "dt = LinearRegression\\\n",
        "(labelCol='ArrDelay',featuresCol='***features')\n",
        "pipeline_dt = Pipeline().\\\n",
        "setStages([DepTimeIndexer,\\\n",
        "           UniqueCarrierIndexer,\\\n",
        "           UniqueCarrierOneHotEncoder,\\\n",
        "           OriginIndexer,\\\n",
        "           OriginOneHotEncoder,\\\n",
        "           DestIndexer,\\\n",
        "           DestOneHotEncoder,\\\n",
        "           featureAssembler,dt])\n",
        "dtModel = pipeline_dt.fit(training_df)"
      ],
      "metadata": {
        "id": "-j9Tf7WVioih"
      },
      "execution_count": null,
      "outputs": []
    },
    {
      "cell_type": "code",
      "execution_count": null,
      "metadata": {
        "id": "z-u7Od8Znq-J"
      },
      "outputs": [],
      "source": [
        "result_df = dtModel.transform(test_df.dropna())"
      ]
    },
    {
      "cell_type": "code",
      "execution_count": null,
      "metadata": {
        "colab": {
          "base_uri": "https://localhost:8080/"
        },
        "outputId": "eda6ce12-bb71-4f5a-ae0d-78defd73b26e",
        "id": "glmtv2hFnq-K"
      },
      "outputs": [
        {
          "output_type": "stream",
          "name": "stdout",
          "text": [
            "+-------------------+-------------------+\n",
            "|           ArrDelay|         Prediction|\n",
            "+-------------------+-------------------+\n",
            "|0.18053691275167785|0.17910804210515174|\n",
            "|0.18523489932885906|0.18753360852334258|\n",
            "|  0.174496644295302|0.17397994494268537|\n",
            "|0.17315436241610738|0.17330149410297396|\n",
            "|0.16711409395973154| 0.1696761103443279|\n",
            "|0.16946308724832215| 0.1693116444775552|\n",
            "|0.17885906040268457| 0.1777435177513773|\n",
            "|0.17651006711409395|0.16973860303400998|\n",
            "| 0.1691275167785235| 0.1703896863083193|\n",
            "|0.18892617449664428| 0.1890280530748225|\n",
            "|  0.175503355704698|0.17605450355063232|\n",
            "|0.17248322147651007|  0.171319169099532|\n",
            "|0.17583892617449665|0.17934190845796996|\n",
            "|0.17919463087248322| 0.1775777621682953|\n",
            "|0.22550335570469798|0.22760936661944114|\n",
            "|0.18288590604026847|0.18121395841754384|\n",
            "|0.17651006711409395| 0.1715818479931237|\n",
            "| 0.1697986577181208|0.17159233529349893|\n",
            "|0.17348993288590603| 0.1723205062647802|\n",
            "|0.18120805369127516|0.18728012779402972|\n",
            "+-------------------+-------------------+\n",
            "only showing top 20 rows\n",
            "\n"
          ]
        }
      ],
      "source": [
        "result_df.select(['ArrDelay','Prediction']).show()"
      ]
    },
    {
      "cell_type": "code",
      "execution_count": null,
      "metadata": {
        "colab": {
          "base_uri": "https://localhost:8080/"
        },
        "outputId": "1ff797e0-5554-440e-8343-9f4c91a9597d",
        "id": "FD_pXbx8nq-L"
      },
      "outputs": [
        {
          "output_type": "stream",
          "name": "stdout",
          "text": [
            "R Squared (R2) on test data = 0.945077\n"
          ]
        }
      ],
      "source": [
        "lr_evaluator_r2 = RegressionEvaluator\\\n",
        "(predictionCol='prediction',labelCol='ArrDelay',metricName='r2')\n",
        "print(\"R Squared (R2) on test data = %g\"\\\n",
        "     % lr_evaluator_r2.evaluate(result_df))"
      ]
    },
    {
      "cell_type": "code",
      "execution_count": null,
      "metadata": {
        "colab": {
          "base_uri": "https://localhost:8080/"
        },
        "id": "-d7_Fl-Pnq-N",
        "outputId": "dfbf7a6e-dfca-4004-edd0-4898c77285c6"
      },
      "outputs": [
        {
          "output_type": "stream",
          "name": "stdout",
          "text": [
            "Root Mean Squared Error (RMSE) on test data = 0.00304462\n"
          ]
        }
      ],
      "source": [
        "lr_evaluator_rmse = RegressionEvaluator\\\n",
        "(predictionCol='prediction',labelCol='ArrDelay',metricName='rmse')\n",
        "print(\"Root Mean Squared Error (RMSE) on test data = %g\"\\\n",
        "     % lr_evaluator_rmse.evaluate(result_df))"
      ]
    },
    {
      "cell_type": "code",
      "source": [
        ""
      ],
      "metadata": {
        "id": "nF2c-4uStDpC"
      },
      "execution_count": null,
      "outputs": []
    }
  ],
  "metadata": {
    "colab": {
      "collapsed_sections": [
        "oegjafUQL-nC",
        "rx9DuS3mO2TK",
        "tNh22py6Nso1",
        "hzf1kgTsNyoE",
        "mPgr5OqdN9fS"
      ],
      "name": "01_199_ไพโรจน์_การบ้านครั้งที่5_Colab.ipynb",
      "provenance": []
    },
    "kernelspec": {
      "display_name": "PySpark",
      "language": "python",
      "name": "pyspark"
    },
    "language_info": {
      "codemirror_mode": {
        "name": "ipython",
        "version": 3
      },
      "file_extension": ".py",
      "mimetype": "text/x-python",
      "name": "python",
      "nbconvert_exporter": "python",
      "pygments_lexer": "ipython3",
      "version": "3.7.4"
    }
  },
  "nbformat": 4,
  "nbformat_minor": 0
}