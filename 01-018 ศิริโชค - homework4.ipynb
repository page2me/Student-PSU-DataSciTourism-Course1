{
  "nbformat": 4,
  "nbformat_minor": 0,
  "metadata": {
    "kernelspec": {
      "display_name": "Python 3",
      "language": "python",
      "name": "python3"
    },
    "language_info": {
      "codemirror_mode": {
        "name": "ipython",
        "version": 3
      },
      "file_extension": ".py",
      "mimetype": "text/x-python",
      "name": "python",
      "nbconvert_exporter": "python",
      "pygments_lexer": "ipython3",
      "version": "3.6.1"
    },
    "colab": {
      "name": "Copy of Copy of PredictionofArrivalDelay-PySpark-onColab.ipynb",
      "provenance": [],
      "collapsed_sections": []
    }
  },
  "cells": [
    {
      "cell_type": "code",
      "metadata": {
        "id": "0dTkA-bDa5bm"
      },
      "source": [
        "!apt-get install openjdk-8-jdk-headless -qq > /dev/null\n",
        "!wget -q https://archive.apache.org/dist/spark/spark-2.4.1/spark-2.4.1-bin-hadoop2.7.tgz\n",
        "!tar xf spark-2.4.1-bin-hadoop2.7.tgz\n",
        "!pip install -q findspark"
      ],
      "execution_count": 15,
      "outputs": []
    },
    {
      "cell_type": "code",
      "metadata": {
        "id": "cy4_WOqEa5GJ"
      },
      "source": [
        "import os\n",
        "os.environ[\"JAVA_HOME\"] = \"/usr/lib/jvm/java-8-openjdk-amd64\"\n",
        "os.environ[\"SPARK_HOME\"] = \"/content/spark-2.4.1-bin-hadoop2.7\""
      ],
      "execution_count": 16,
      "outputs": []
    },
    {
      "cell_type": "code",
      "metadata": {
        "id": "kI7zVpqja4du"
      },
      "source": [
        "import findspark\n",
        "findspark.init()\n",
        "from pyspark.sql import SparkSession\n",
        "spark = SparkSession.builder.master(\"local[*]\").getOrCreate()"
      ],
      "execution_count": 17,
      "outputs": []
    },
    {
      "cell_type": "code",
      "metadata": {
        "collapsed": true,
        "id": "gLOiqgf1a2Ku"
      },
      "source": [
        "from pyspark.sql import SparkSession"
      ],
      "execution_count": 18,
      "outputs": []
    },
    {
      "cell_type": "code",
      "metadata": {
        "collapsed": true,
        "id": "GBqMbCCxa2Kv"
      },
      "source": [
        "spark = SparkSession.builder \\\n",
        "   .appName(\"Neural Network Model\") \\\n",
        "   .config(\"spark.executor.memory\", \"3gb\") \\\n",
        "   .getOrCreate()\n",
        "   \n",
        "sc = spark.sparkContext"
      ],
      "execution_count": 19,
      "outputs": []
    },
    {
      "cell_type": "code",
      "metadata": {
        "id": "MjoDgjaja2Kv",
        "colab": {
          "base_uri": "https://localhost:8080/",
          "height": 197
        },
        "outputId": "ff550e2d-6b1e-4a34-a95f-9f59d8727a5a"
      },
      "source": [
        "sc"
      ],
      "execution_count": 20,
      "outputs": [
        {
          "output_type": "execute_result",
          "data": {
            "text/html": [
              "\n",
              "        <div>\n",
              "            <p><b>SparkContext</b></p>\n",
              "\n",
              "            <p><a href=\"http://3296182be446:4040\">Spark UI</a></p>\n",
              "\n",
              "            <dl>\n",
              "              <dt>Version</dt>\n",
              "                <dd><code>v2.4.1</code></dd>\n",
              "              <dt>Master</dt>\n",
              "                <dd><code>local[*]</code></dd>\n",
              "              <dt>AppName</dt>\n",
              "                <dd><code>pyspark-shell</code></dd>\n",
              "            </dl>\n",
              "        </div>\n",
              "        "
            ],
            "text/plain": [
              "<SparkContext master=local[*] appName=pyspark-shell>"
            ]
          },
          "metadata": {},
          "execution_count": 20
        }
      ]
    },
    {
      "cell_type": "markdown",
      "source": [
        "**2. Data Understanding using SparkSQL**"
      ],
      "metadata": {
        "id": "TLDou9Hoh7d6"
      }
    },
    {
      "cell_type": "code",
      "metadata": {
        "id": "I7c5vxPNAPVi",
        "outputId": "01327321-d644-40df-d399-0a85c0f1f561",
        "colab": {
          "base_uri": "https://localhost:8080/"
        }
      },
      "source": [
        "! wget https://storage.googleapis.com/class25jan2022/share/2008.csv"
      ],
      "execution_count": 21,
      "outputs": [
        {
          "output_type": "stream",
          "name": "stdout",
          "text": [
            "--2022-02-03 15:57:38--  https://storage.googleapis.com/class25jan2022/share/2008.csv\n",
            "Resolving storage.googleapis.com (storage.googleapis.com)... 209.85.146.128, 209.85.147.128, 142.250.125.128, ...\n",
            "Connecting to storage.googleapis.com (storage.googleapis.com)|209.85.146.128|:443... connected.\n",
            "HTTP request sent, awaiting response... 200 OK\n",
            "Length: 689413344 (657M) [text/csv]\n",
            "Saving to: ‘2008.csv.1’\n",
            "\n",
            "2008.csv.1          100%[===================>] 657.48M   184MB/s    in 3.8s    \n",
            "\n",
            "2022-02-03 15:57:42 (175 MB/s) - ‘2008.csv.1’ saved [689413344/689413344]\n",
            "\n"
          ]
        }
      ]
    },
    {
      "cell_type": "code",
      "source": [
        "! wc -l ./2008.csv"
      ],
      "metadata": {
        "id": "uojN1MQGiAvK",
        "outputId": "155274c2-8c8b-42d9-9f60-979a068ad07b",
        "colab": {
          "base_uri": "https://localhost:8080/"
        }
      },
      "execution_count": 22,
      "outputs": [
        {
          "output_type": "stream",
          "name": "stdout",
          "text": [
            "7009729 ./2008.csv\n"
          ]
        }
      ]
    },
    {
      "cell_type": "code",
      "source": [
        "! head -3 2008.csv"
      ],
      "metadata": {
        "id": "zqqblQ21lwMY",
        "outputId": "b6335c1e-b708-4920-a643-a33bed97438d",
        "colab": {
          "base_uri": "https://localhost:8080/"
        }
      },
      "execution_count": 23,
      "outputs": [
        {
          "output_type": "stream",
          "name": "stdout",
          "text": [
            "Year,Month,DayofMonth,DayOfWeek,DepTime,CRSDepTime,ArrTime,CRSArrTime,UniqueCarrier,FlightNum,TailNum,ActualElapsedTime,CRSElapsedTime,AirTime,ArrDelay,DepDelay,Origin,Dest,Distance,TaxiIn,TaxiOut,Cancelled,CancellationCode,Diverted,CarrierDelay,WeatherDelay,NASDelay,SecurityDelay,LateAircraftDelay\n",
            "2008,1,3,4,2003,1955,2211,2225,WN,335,N712SW,128,150,116,-14,8,IAD,TPA,810,4,8,0,,0,NA,NA,NA,NA,NA\n",
            "2008,1,3,4,754,735,1002,1000,WN,3231,N772SW,128,145,113,2,19,IAD,TPA,810,5,10,0,,0,NA,NA,NA,NA,NA\n"
          ]
        }
      ]
    },
    {
      "cell_type": "code",
      "source": [
        "raw_df = spark.read.format('csv').\\\n",
        "option('header','true').option('mode','DROPMALFORMED')\\\n",
        ".load('2008.csv')"
      ],
      "metadata": {
        "id": "cDq69I8Mlx7a"
      },
      "execution_count": 24,
      "outputs": []
    },
    {
      "cell_type": "code",
      "source": [
        "raw_df.count()"
      ],
      "metadata": {
        "id": "TB9PI8WFl5n7",
        "outputId": "298204c3-268d-49e4-b2a1-2bdbb2e78fd5",
        "colab": {
          "base_uri": "https://localhost:8080/"
        }
      },
      "execution_count": 25,
      "outputs": [
        {
          "output_type": "execute_result",
          "data": {
            "text/plain": [
              "7009728"
            ]
          },
          "metadata": {},
          "execution_count": 25
        }
      ]
    },
    {
      "cell_type": "code",
      "source": [
        "raw_df.printSchema()"
      ],
      "metadata": {
        "id": "_VNu0r3nl9wj",
        "outputId": "1b248ad6-c243-4e68-8dfc-115bed571fa8",
        "colab": {
          "base_uri": "https://localhost:8080/"
        }
      },
      "execution_count": 26,
      "outputs": [
        {
          "output_type": "stream",
          "name": "stdout",
          "text": [
            "root\n",
            " |-- Year: string (nullable = true)\n",
            " |-- Month: string (nullable = true)\n",
            " |-- DayofMonth: string (nullable = true)\n",
            " |-- DayOfWeek: string (nullable = true)\n",
            " |-- DepTime: string (nullable = true)\n",
            " |-- CRSDepTime: string (nullable = true)\n",
            " |-- ArrTime: string (nullable = true)\n",
            " |-- CRSArrTime: string (nullable = true)\n",
            " |-- UniqueCarrier: string (nullable = true)\n",
            " |-- FlightNum: string (nullable = true)\n",
            " |-- TailNum: string (nullable = true)\n",
            " |-- ActualElapsedTime: string (nullable = true)\n",
            " |-- CRSElapsedTime: string (nullable = true)\n",
            " |-- AirTime: string (nullable = true)\n",
            " |-- ArrDelay: string (nullable = true)\n",
            " |-- DepDelay: string (nullable = true)\n",
            " |-- Origin: string (nullable = true)\n",
            " |-- Dest: string (nullable = true)\n",
            " |-- Distance: string (nullable = true)\n",
            " |-- TaxiIn: string (nullable = true)\n",
            " |-- TaxiOut: string (nullable = true)\n",
            " |-- Cancelled: string (nullable = true)\n",
            " |-- CancellationCode: string (nullable = true)\n",
            " |-- Diverted: string (nullable = true)\n",
            " |-- CarrierDelay: string (nullable = true)\n",
            " |-- WeatherDelay: string (nullable = true)\n",
            " |-- NASDelay: string (nullable = true)\n",
            " |-- SecurityDelay: string (nullable = true)\n",
            " |-- LateAircraftDelay: string (nullable = true)\n",
            "\n"
          ]
        }
      ]
    },
    {
      "cell_type": "code",
      "source": [
        "raw_df\\\n",
        ".select(['DepTime','TaxiOut','TaxiIn',\\\n",
        "                     'DayOfWeek','Distance','ArrDelay'])\\\n",
        "                     .describe().show()"
      ],
      "metadata": {
        "colab": {
          "base_uri": "https://localhost:8080/"
        },
        "id": "Kf8Eeckv77qi",
        "outputId": "200b3291-3149-4e37-d471-c583f8d0dae0"
      },
      "execution_count": 27,
      "outputs": [
        {
          "output_type": "stream",
          "name": "stdout",
          "text": [
            "+-------+------------------+------------------+-----------------+------------------+-----------------+-----------------+\n",
            "|summary|           DepTime|           TaxiOut|           TaxiIn|         DayOfWeek|         Distance|         ArrDelay|\n",
            "+-------+------------------+------------------+-----------------+------------------+-----------------+-----------------+\n",
            "|  count|           7009728|           7009728|          7009728|           7009728|          7009728|          7009728|\n",
            "|   mean|1333.8300461105448|16.453045177492882|6.860851704974527|3.9241815088973495|726.3870294253928| 8.16845238729114|\n",
            "| stddev|478.06889486629836|11.332798654232155|4.933649371300466|1.9882589459851212|562.1018034840403|38.50193694882867|\n",
            "|    min|                 1|                 0|                0|                 1|              100|               -1|\n",
            "|    max|                NA|                NA|               NA|                 7|              999|               NA|\n",
            "+-------+------------------+------------------+-----------------+------------------+-----------------+-----------------+\n",
            "\n"
          ]
        }
      ]
    },
    {
      "cell_type": "code",
      "source": [
        "from pyspark.sql.functions import *"
      ],
      "metadata": {
        "id": "fmgjO6iqTXKo"
      },
      "execution_count": 28,
      "outputs": []
    },
    {
      "cell_type": "code",
      "source": [
        "raw_df.select(col(\"DepTime\").cast('Integer')).show()"
      ],
      "metadata": {
        "id": "doH3qrTuI8cs",
        "outputId": "49db4001-6d6d-4331-b5f4-071baa087241",
        "colab": {
          "base_uri": "https://localhost:8080/"
        }
      },
      "execution_count": 29,
      "outputs": [
        {
          "output_type": "stream",
          "name": "stdout",
          "text": [
            "+-------+\n",
            "|DepTime|\n",
            "+-------+\n",
            "|   2003|\n",
            "|    754|\n",
            "|    628|\n",
            "|    926|\n",
            "|   1829|\n",
            "|   1940|\n",
            "|   1937|\n",
            "|   1039|\n",
            "|    617|\n",
            "|   1620|\n",
            "|    706|\n",
            "|   1644|\n",
            "|   1426|\n",
            "|    715|\n",
            "|   1702|\n",
            "|   1029|\n",
            "|   1452|\n",
            "|    754|\n",
            "|   1323|\n",
            "|   1416|\n",
            "+-------+\n",
            "only showing top 20 rows\n",
            "\n"
          ]
        }
      ]
    },
    {
      "cell_type": "code",
      "source": [
        "raw_df_test = raw_df.filter(raw_df.DepTime=='12')"
      ],
      "metadata": {
        "id": "OZcRnigiJP1f"
      },
      "execution_count": 30,
      "outputs": []
    },
    {
      "cell_type": "code",
      "source": [
        "raw_df_test.show()"
      ],
      "metadata": {
        "id": "WuaaxhDcJh1-",
        "outputId": "405314e5-dc7c-48be-b034-861bde628618",
        "colab": {
          "base_uri": "https://localhost:8080/"
        }
      },
      "execution_count": 31,
      "outputs": [
        {
          "output_type": "stream",
          "name": "stdout",
          "text": [
            "+----+-----+----------+---------+-------+----------+-------+----------+-------------+---------+-------+-----------------+--------------+-------+--------+--------+------+----+--------+------+-------+---------+----------------+--------+------------+------------+--------+-------------+-----------------+\n",
            "|Year|Month|DayofMonth|DayOfWeek|DepTime|CRSDepTime|ArrTime|CRSArrTime|UniqueCarrier|FlightNum|TailNum|ActualElapsedTime|CRSElapsedTime|AirTime|ArrDelay|DepDelay|Origin|Dest|Distance|TaxiIn|TaxiOut|Cancelled|CancellationCode|Diverted|CarrierDelay|WeatherDelay|NASDelay|SecurityDelay|LateAircraftDelay|\n",
            "+----+-----+----------+---------+-------+----------+-------+----------+-------------+---------+-------+-----------------+--------------+-------+--------+--------+------+----+--------+------+-------+---------+----------------+--------+------------+------------+--------+-------------+-----------------+\n",
            "|2008|    1|        27|        7|     12|      2130|    110|      2235|           WN|     2721| N214WN|               58|            65|     40|     155|     162|   BUR| LAS|     223|     6|     12|        0|            null|       0|           0|           0|       0|            0|              155|\n",
            "|2008|    1|        30|        3|     12|      2210|    147|      2340|           WN|     2551| N333SW|               95|            90|     85|     127|     122|   PHX| SLC|     507|     3|      7|        0|            null|       0|         110|           0|       5|            0|               12|\n",
            "|2008|    1|        31|        4|     12|      1950|    230|      2205|           WN|     1210| N658SW|              138|           135|    123|     265|     262|   PIT| MCO|     834|     5|     10|        0|            null|       0|           0|           0|       3|            0|              262|\n",
            "|2008|    1|         4|        5|     12|      2215|    314|        28|           OO|     6453| N938SW|              122|            73|     50|     166|     117|   LAX| PHX|     370|     5|     67|        0|            null|       0|           0|           0|     166|            0|                0|\n",
            "|2008|    1|        23|        3|     12|      2253|    138|        24|           OO|     5775| N579SW|               26|            31|     15|      74|      79|   IPL| YUM|      58|     4|      7|        0|            null|       0|           0|           0|       0|            0|               74|\n",
            "|2008|    1|         3|        4|     12|      2355|    820|       807|           UA|       32| N512UA|              308|           312|    286|      13|      17|   LAX| JFK|    2475|    10|     12|        0|            null|       0|          NA|          NA|      NA|           NA|               NA|\n",
            "|2008|    1|        17|        4|     12|      2015|    242|      2241|           UA|      502| N925UA|              150|           146|    131|     241|     237|   ORD| MSY|     837|     3|     16|        0|            null|       0|           0|          14|       4|            0|              223|\n",
            "|2008|    1|         3|        4|     12|      2200|    823|       619|           US|      942| N167US|              311|           319|    289|     124|     132|   SFO| PHL|    2521|     9|     13|        0|            null|       0|           7|           0|       0|            0|              117|\n",
            "|2008|    1|         5|        6|     12|      2345|    542|       541|           US|      305| N902AW|              210|           236|    190|       1|      27|   PHX| CLT|    1774|     5|     15|        0|            null|       0|          NA|          NA|      NA|           NA|               NA|\n",
            "|2008|    1|        17|        4|     12|      2345|    538|       534|           US|      305| N901AW|              206|           229|    191|       4|      27|   PHX| CLT|    1774|     5|     10|        0|            null|       0|          NA|          NA|      NA|           NA|               NA|\n",
            "|2008|    1|         3|        4|     12|      2355|    527|       515|           F9|      442| N929FR|              195|           200|    180|      12|      17|   DEN| PHL|    1557|     6|      9|        0|            null|       0|          NA|          NA|      NA|           NA|               NA|\n",
            "|2008|    1|        13|        7|     12|      1835|    238|      2103|           FL|      357| N968AT|              146|           148|    119|     335|     337|   LGA| ATL|     761|     4|     23|        0|            null|       0|           0|           0|       0|            0|              335|\n",
            "|2008|    1|        11|        5|     12|      2355|    659|       655|           AA|      246| N5DKAA|              287|           300|    266|       4|      17|   KOA| LAX|    2504|    11|     10|        0|            null|       0|          NA|          NA|      NA|           NA|               NA|\n",
            "|2008|    1|         2|        3|     12|      2310|    607|       505|           AA|     1092| N5DLAA|              235|           235|    211|      62|      62|   LAX| ORD|    1745|     9|     15|        0|            null|       0|          32|           0|       0|            0|               30|\n",
            "|2008|    1|        15|        2|     12|      2355|    104|        53|           AS|      191| N760AS|               52|            58|     37|      11|      17|   ANC| FAI|     261|     3|     12|        0|            null|       0|          NA|          NA|      NA|           NA|               NA|\n",
            "|2008|    1|         3|        4|     12|      2355|    800|       755|           B6|      166| N623JB|              288|           300|    273|       5|      17|   PDX| JFK|    2454|     5|     10|        0|            null|       0|          NA|          NA|      NA|           NA|               NA|\n",
            "|2008|    1|        19|        6|     12|        15|    831|       823|           B6|      172| N588JB|              319|           308|    289|       8|      -3|   SMF| JFK|    2521|    11|     19|        0|            null|       0|          NA|          NA|      NA|           NA|               NA|\n",
            "|2008|    1|        22|        2|     12|      2359|    610|       619|           B6|      106| N648JB|              238|           260|    223|      -9|      13|   TUS| JFK|    2136|     2|     13|        0|            null|       0|          NA|          NA|      NA|           NA|               NA|\n",
            "|2008|    1|        28|        1|     12|        15|    802|       823|           B6|      172| N566JB|              290|           308|    270|     -21|      -3|   SMF| JFK|    2521|    10|     10|        0|            null|       0|          NA|          NA|      NA|           NA|               NA|\n",
            "|2008|    1|        13|        7|     12|      2315|    839|       735|           DL|      410|  N3766|              327|           320|    300|      64|      57|   LAX| JFK|    2475|    11|     16|        0|            null|       0|           0|          57|       7|            0|                0|\n",
            "+----+-----+----------+---------+-------+----------+-------+----------+-------------+---------+-------+-----------------+--------------+-------+--------+--------+------+----+--------+------+-------+---------+----------------+--------+------------+------------+--------+-------------+-----------------+\n",
            "only showing top 20 rows\n",
            "\n"
          ]
        }
      ]
    },
    {
      "cell_type": "code",
      "source": [
        "raw_df_test.select(col(\"DepTime\").cast('Integer')).show()"
      ],
      "metadata": {
        "id": "U92YPRwzJVUP",
        "outputId": "78eaa011-4c98-4095-ff98-a96b1c2a9ada",
        "colab": {
          "base_uri": "https://localhost:8080/"
        }
      },
      "execution_count": 32,
      "outputs": [
        {
          "output_type": "stream",
          "name": "stdout",
          "text": [
            "+-------+\n",
            "|DepTime|\n",
            "+-------+\n",
            "|     12|\n",
            "|     12|\n",
            "|     12|\n",
            "|     12|\n",
            "|     12|\n",
            "|     12|\n",
            "|     12|\n",
            "|     12|\n",
            "|     12|\n",
            "|     12|\n",
            "|     12|\n",
            "|     12|\n",
            "|     12|\n",
            "|     12|\n",
            "|     12|\n",
            "|     12|\n",
            "|     12|\n",
            "|     12|\n",
            "|     12|\n",
            "|     12|\n",
            "+-------+\n",
            "only showing top 20 rows\n",
            "\n"
          ]
        }
      ]
    },
    {
      "cell_type": "code",
      "source": [
        "raw_df.filter(raw_df.DepTime=='24').show()"
      ],
      "metadata": {
        "id": "bOSa59TW_RhP",
        "outputId": "1758c9a6-be26-41bb-a835-598dc6907b1a",
        "colab": {
          "base_uri": "https://localhost:8080/"
        }
      },
      "execution_count": 33,
      "outputs": [
        {
          "output_type": "stream",
          "name": "stdout",
          "text": [
            "+----+-----+----------+---------+-------+----------+-------+----------+-------------+---------+-------+-----------------+--------------+-------+--------+--------+------+----+--------+------+-------+---------+----------------+--------+------------+------------+--------+-------------+-----------------+\n",
            "|Year|Month|DayofMonth|DayOfWeek|DepTime|CRSDepTime|ArrTime|CRSArrTime|UniqueCarrier|FlightNum|TailNum|ActualElapsedTime|CRSElapsedTime|AirTime|ArrDelay|DepDelay|Origin|Dest|Distance|TaxiIn|TaxiOut|Cancelled|CancellationCode|Diverted|CarrierDelay|WeatherDelay|NASDelay|SecurityDelay|LateAircraftDelay|\n",
            "+----+-----+----------+---------+-------+----------+-------+----------+-------------+---------+-------+-----------------+--------------+-------+--------+--------+------+----+--------+------+-------+---------+----------------+--------+------------+------------+--------+-------------+-----------------+\n",
            "|2008|    1|         7|        1|     24|      2055|    312|      2340|           YV|     7248| N515MJ|              108|           105|     85|     212|     209|   ORD| CLT|     599|     5|     18|        0|            null|       0|         212|           0|       0|            0|                0|\n",
            "|2008|    1|        13|        7|     24|      2356|    231|       212|           YV|     2835| N929LR|               67|            76|     49|      19|      28|   LAS| TUS|     365|     4|     14|        0|            null|       0|           0|           0|      19|            0|                0|\n",
            "|2008|    1|        20|        7|     24|      1920|    112|      2027|           YV|     7242| N17175|               48|            67|     33|     285|     304|   PHL| IAD|     134|     8|      7|        0|            null|       0|         285|           0|       0|            0|                0|\n",
            "|2008|    1|        31|        4|     24|      2055|    138|      2211|           YV|     7100| N445YV|               74|            76|     55|     207|     209|   DEN| MTJ|     197|     4|     15|        0|            null|       0|         207|           0|       0|            0|                0|\n",
            "|2008|    1|        21|        1|     24|      2225|    123|      2328|           OO|     6433| N909SW|               59|            63|     36|     115|     119|   LAX| FAT|     209|     5|     18|        0|            null|       0|           0|           0|       0|            0|              115|\n",
            "|2008|    1|        21|        1|     24|      2320|    750|       717|           UA|      224| N405UA|              266|           297|    253|      33|      64|   SFO| IAD|    2419|     4|      9|        0|            null|       0|           6|           0|       0|            0|               27|\n",
            "|2008|    1|        31|        4|     24|      2320|    835|       717|           UA|      224| N410UA|              311|           297|    287|      78|      64|   SFO| IAD|    2419|     9|     15|        0|            null|       0|          64|           0|      14|            0|                0|\n",
            "|2008|    1|        11|        5|     24|      2145|    109|      2254|           UA|      363| N332UA|              105|           129|     85|     135|     159|   IAD| ORD|     589|     9|     11|        0|            null|       0|           0|           0|       0|            0|              135|\n",
            "|2008|    1|        19|        6|     24|      2340|    726|       625|           UA|     1068| N590UA|              302|           285|    281|      61|      44|   OGG| SFO|    2338|     7|     14|        0|            null|       0|          18|           0|      17|            0|               26|\n",
            "|2008|    1|         2|        3|     24|      2355|    723|       709|           US|      876| N936UW|              239|           254|    222|      14|      29|   LAS| CLT|    1916|     4|     13|        0|            null|       0|          NA|          NA|      NA|           NA|               NA|\n",
            "|2008|    1|         3|        4|     24|      2359|    201|       138|           US|      374| N637AW|               97|            99|     69|      23|      25|   LAS| OAK|     407|    10|     18|        0|            null|       0|          21|           0|       0|            0|                2|\n",
            "|2008|    1|         4|        5|     24|      2120|    351|        54|           US|      257| N807AW|              327|           334|    306|     177|     184|   PHL| PHX|    2075|     4|     17|        0|            null|       0|          19|           0|       0|            0|              158|\n",
            "|2008|    1|         5|        6|     24|      2354|    734|       714|           US|      579| N632AW|              250|           260|    220|      20|      30|   LAS| TPA|    1984|     5|     25|        0|            null|       0|          20|           0|       0|            0|                0|\n",
            "|2008|    1|         6|        7|     24|      2355|    549|       515|           F9|      442| N922FR|              205|           200|    173|      34|      29|   DEN| PHL|    1557|     7|     25|        0|            null|       0|          29|           0|       5|            0|                0|\n",
            "|2008|    1|         7|        1|     24|        25|    534|       510|           F9|      430| N802FR|              190|           165|    142|      24|      -1|   DEN| ATL|    1199|     8|     40|        0|            null|       0|           0|           0|      24|            0|                0|\n",
            "|2008|    1|        15|        2|     24|        25|    503|       510|           F9|      430| N908FR|              159|           165|    143|      -7|      -1|   DEN| ATL|    1199|     6|     10|        0|            null|       0|          NA|          NA|      NA|           NA|               NA|\n",
            "|2008|    1|        11|        5|     24|        30|    610|       602|           NW|      314| N596NW|              226|           212|    187|       8|      -6|   LAX| MSP|    1536|    12|     27|        0|            null|       0|          NA|          NA|      NA|           NA|               NA|\n",
            "|2008|    1|        12|        6|     24|        30|    612|       602|           NW|      314| N590NW|              228|           212|    194|      10|      -6|   LAX| MSP|    1536|    14|     20|        0|            null|       0|          NA|          NA|      NA|           NA|               NA|\n",
            "|2008|    1|        29|        2|     24|        30|    555|       602|           NW|      314| N596NW|              211|           212|    187|      -7|      -6|   LAX| MSP|    1536|     8|     16|        0|            null|       0|          NA|          NA|      NA|           NA|               NA|\n",
            "|2008|    1|        30|        3|     24|        40|    546|       605|           NW|      362| N533US|              202|           205|    177|     -19|     -16|   SFO| MSP|    1589|     9|     16|        0|            null|       0|          NA|          NA|      NA|           NA|               NA|\n",
            "+----+-----+----------+---------+-------+----------+-------+----------+-------------+---------+-------+-----------------+--------------+-------+--------+--------+------+----+--------+------+-------+---------+----------------+--------+------------+------------+--------+-------------+-----------------+\n",
            "only showing top 20 rows\n",
            "\n"
          ]
        }
      ]
    },
    {
      "cell_type": "code",
      "source": [
        "raw_df.select('DepTime').orderBy('DepTime',ascending=True).show()"
      ],
      "metadata": {
        "id": "2oKvk1lN-CuI",
        "outputId": "152529b4-89a1-4e25-a73e-043ed31d6630",
        "colab": {
          "base_uri": "https://localhost:8080/"
        }
      },
      "execution_count": 34,
      "outputs": [
        {
          "output_type": "stream",
          "name": "stdout",
          "text": [
            "+-------+\n",
            "|DepTime|\n",
            "+-------+\n",
            "|      1|\n",
            "|      1|\n",
            "|      1|\n",
            "|      1|\n",
            "|      1|\n",
            "|      1|\n",
            "|      1|\n",
            "|      1|\n",
            "|      1|\n",
            "|      1|\n",
            "|      1|\n",
            "|      1|\n",
            "|      1|\n",
            "|      1|\n",
            "|      1|\n",
            "|      1|\n",
            "|      1|\n",
            "|      1|\n",
            "|      1|\n",
            "|      1|\n",
            "+-------+\n",
            "only showing top 20 rows\n",
            "\n"
          ]
        }
      ]
    },
    {
      "cell_type": "code",
      "source": [
        "from pyspark.sql.functions import *"
      ],
      "metadata": {
        "id": "EXxlkJq4EjFG"
      },
      "execution_count": 35,
      "outputs": []
    },
    {
      "cell_type": "code",
      "source": [
        "def DepTimePeriod(x):\n",
        "  if x is None:\n",
        "    time_grp = 'null'\n",
        "  elif (x>=1 and x<6)or (x>=100 and x<=559):\n",
        "    time_grp = '00.01-05.59'\n",
        "  elif (x>=6 and x<12) or (x>=600 and x<=1159):\n",
        "    time_grp = '06.00-11.59'\n",
        "  elif (x>=12 and x<18) or (x>=1200 and x<=1759):\n",
        "    time_grp = '12.00-17.59'\n",
        "  elif (x>=18 and x<=24) or (x>=1800 and x<=2400):\n",
        "    time_grp = '18.00-24.00'\n",
        "  else:\n",
        "    time_grp ='null'\n",
        "\n",
        "  return time_grp"
      ],
      "metadata": {
        "id": "wOkxEOS5LzUC"
      },
      "execution_count": 36,
      "outputs": []
    },
    {
      "cell_type": "code",
      "source": [
        "timeperiod = udf(lambda x:DepTimePeriod(x) )"
      ],
      "metadata": {
        "id": "6SGNCxz8ERyV"
      },
      "execution_count": 37,
      "outputs": []
    },
    {
      "cell_type": "code",
      "source": [
        "depTimePeriod = raw_df.withColumn('DepTime',timeperiod(col('DepTime').cast(\"Integer\")))\\\n",
        ".groupBy('DepTime').count().orderBy('DepTime')"
      ],
      "metadata": {
        "id": "FWI5zWLfPV7M"
      },
      "execution_count": 38,
      "outputs": []
    },
    {
      "cell_type": "code",
      "source": [
        "depTimePeriod.show()"
      ],
      "metadata": {
        "id": "nKABxByLQ3Re",
        "outputId": "57a62270-f880-4a4f-f9d5-87c2311d0ecf",
        "colab": {
          "base_uri": "https://localhost:8080/"
        }
      },
      "execution_count": 39,
      "outputs": [
        {
          "output_type": "stream",
          "name": "stdout",
          "text": [
            "+-----------+-------+\n",
            "|    DepTime|  count|\n",
            "+-----------+-------+\n",
            "|00.01-05.59| 162405|\n",
            "|06.00-11.59|2645956|\n",
            "|12.00-17.59|2556733|\n",
            "|18.00-24.00|1497435|\n",
            "|       null| 147199|\n",
            "+-----------+-------+\n",
            "\n"
          ]
        }
      ]
    },
    {
      "cell_type": "code",
      "source": [
        "# depTimePeriod = raw_df.withColumn('DepTime',timeperiod(col('DepTime').cast(\"Integer\")))\n",
        "# depTimePeriod.show()"
      ],
      "metadata": {
        "id": "nHDPFKdNERoJ"
      },
      "execution_count": 40,
      "outputs": []
    },
    {
      "cell_type": "code",
      "source": [
        "raw_df.groupBy('month').count().orderBy('count',ascending=False).show()"
      ],
      "metadata": {
        "colab": {
          "base_uri": "https://localhost:8080/"
        },
        "id": "OKjYsyj_F16m",
        "outputId": "60c2091c-2fdd-433b-fcde-be141746fcdb"
      },
      "execution_count": 41,
      "outputs": [
        {
          "output_type": "stream",
          "name": "stdout",
          "text": [
            "+-----+------+\n",
            "|month| count|\n",
            "+-----+------+\n",
            "|    7|627931|\n",
            "|    3|616090|\n",
            "|    8|612279|\n",
            "|    6|608665|\n",
            "|    5|606293|\n",
            "|    1|605765|\n",
            "|    4|598126|\n",
            "|    2|569236|\n",
            "|   10|556205|\n",
            "|   12|544958|\n",
            "|    9|540908|\n",
            "|   11|523272|\n",
            "+-----+------+\n",
            "\n"
          ]
        }
      ]
    },
    {
      "cell_type": "code",
      "source": [
        "from pyspark.sql import functions as sparkf"
      ],
      "metadata": {
        "id": "d6UYbZgFGsqg"
      },
      "execution_count": 42,
      "outputs": []
    },
    {
      "cell_type": "code",
      "source": [
        "raw_df.groupBy('month').agg({'month':'count','ArrDelay':'avg'})\\\n",
        ".withColumnRenamed('count(month)','numMonth')\\\n",
        ".withColumnRenamed('avg(ArrDelay)','avgArrDelay')\\\n",
        ".orderBy(sparkf.col('numMonth').desc(),sparkf.col('avgArrDelay').desc()).show()"
      ],
      "metadata": {
        "colab": {
          "base_uri": "https://localhost:8080/"
        },
        "id": "onzB_mE078mo",
        "outputId": "79b09f3e-edd8-47b6-ebaa-5da8857fc804"
      },
      "execution_count": 43,
      "outputs": [
        {
          "output_type": "stream",
          "name": "stdout",
          "text": [
            "+-----+--------+------------------+\n",
            "|month|numMonth|       avgArrDelay|\n",
            "+-----+--------+------------------+\n",
            "|    7|  627931| 9.975049681276131|\n",
            "|    3|  616090| 11.19236458018227|\n",
            "|    8|  612279|  6.91091468997087|\n",
            "|    6|  608665|13.266756009659792|\n",
            "|    5|  606293| 5.978448290248828|\n",
            "|    1|  605765|10.188855960349496|\n",
            "|    4|  598126| 6.807297481094145|\n",
            "|    2|  569236|13.077836997760205|\n",
            "|   10|  556205|0.4154954706912698|\n",
            "|   12|  544958|16.680505081496417|\n",
            "|    9|  540908|0.6977328787273043|\n",
            "|   11|  523272| 2.015857969430839|\n",
            "+-----+--------+------------------+\n",
            "\n"
          ]
        }
      ]
    }
  ]
}