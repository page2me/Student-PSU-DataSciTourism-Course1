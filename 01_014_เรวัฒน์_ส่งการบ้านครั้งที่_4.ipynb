{
  "nbformat": 4,
  "nbformat_minor": 0,
  "metadata": {
    "kernelspec": {
      "display_name": "Python 3",
      "language": "python",
      "name": "python3"
    },
    "language_info": {
      "codemirror_mode": {
        "name": "ipython",
        "version": 3
      },
      "file_extension": ".py",
      "mimetype": "text/x-python",
      "name": "python",
      "nbconvert_exporter": "python",
      "pygments_lexer": "ipython3",
      "version": "3.6.1"
    },
    "colab": {
      "name": "01-014 เรวัฒน์-ส่งการบ้านครั้งที่ 4.ipynb",
      "provenance": [],
      "collapsed_sections": []
    }
  },
  "cells": [
    {
      "cell_type": "code",
      "metadata": {
        "id": "0dTkA-bDa5bm"
      },
      "source": [
        "!apt-get install openjdk-8-jdk-headless -qq > /dev/null\n",
        "!wget -q https://archive.apache.org/dist/spark/spark-2.4.1/spark-2.4.1-bin-hadoop2.7.tgz\n",
        "!tar xf spark-2.4.1-bin-hadoop2.7.tgz\n",
        "!pip install -q findspark"
      ],
      "execution_count": null,
      "outputs": []
    },
    {
      "cell_type": "code",
      "metadata": {
        "id": "cy4_WOqEa5GJ"
      },
      "source": [
        "import os\n",
        "os.environ[\"JAVA_HOME\"] = \"/usr/lib/jvm/java-8-openjdk-amd64\"\n",
        "os.environ[\"SPARK_HOME\"] = \"/content/spark-2.4.1-bin-hadoop2.7\""
      ],
      "execution_count": null,
      "outputs": []
    },
    {
      "cell_type": "code",
      "metadata": {
        "id": "kI7zVpqja4du"
      },
      "source": [
        "import findspark\n",
        "findspark.init()\n",
        "from pyspark.sql import SparkSession\n",
        "spark = SparkSession.builder.master(\"local[*]\").getOrCreate()"
      ],
      "execution_count": null,
      "outputs": []
    },
    {
      "cell_type": "code",
      "metadata": {
        "collapsed": true,
        "id": "gLOiqgf1a2Ku"
      },
      "source": [
        "from pyspark.sql import SparkSession"
      ],
      "execution_count": null,
      "outputs": []
    },
    {
      "cell_type": "code",
      "metadata": {
        "collapsed": true,
        "id": "GBqMbCCxa2Kv"
      },
      "source": [
        "spark = SparkSession.builder \\\n",
        "   .appName(\"Neural Network Model\") \\\n",
        "   .config(\"spark.executor.memory\", \"3gb\") \\\n",
        "   .getOrCreate()\n",
        "   \n",
        "sc = spark.sparkContext"
      ],
      "execution_count": null,
      "outputs": []
    },
    {
      "cell_type": "code",
      "metadata": {
        "id": "MjoDgjaja2Kv",
        "colab": {
          "base_uri": "https://localhost:8080/",
          "height": 196
        },
        "outputId": "592deae3-8fdf-4c30-be6d-766072d0b806"
      },
      "source": [
        "sc"
      ],
      "execution_count": null,
      "outputs": [
        {
          "output_type": "execute_result",
          "data": {
            "text/html": [
              "\n",
              "        <div>\n",
              "            <p><b>SparkContext</b></p>\n",
              "\n",
              "            <p><a href=\"http://328386a2fba2:4040\">Spark UI</a></p>\n",
              "\n",
              "            <dl>\n",
              "              <dt>Version</dt>\n",
              "                <dd><code>v2.4.1</code></dd>\n",
              "              <dt>Master</dt>\n",
              "                <dd><code>local[*]</code></dd>\n",
              "              <dt>AppName</dt>\n",
              "                <dd><code>pyspark-shell</code></dd>\n",
              "            </dl>\n",
              "        </div>\n",
              "        "
            ],
            "text/plain": [
              "<SparkContext master=local[*] appName=pyspark-shell>"
            ]
          },
          "metadata": {},
          "execution_count": 6
        }
      ]
    },
    {
      "cell_type": "markdown",
      "source": [
        "**2. Data Understanding using SparkSQL**"
      ],
      "metadata": {
        "id": "TLDou9Hoh7d6"
      }
    },
    {
      "cell_type": "code",
      "metadata": {
        "id": "I7c5vxPNAPVi",
        "outputId": "edeb798d-6729-4a48-ba96-b4181a9abdd0",
        "colab": {
          "base_uri": "https://localhost:8080/"
        }
      },
      "source": [
        "! wget https://storage.googleapis.com/class25jan2022/share/2008.csv"
      ],
      "execution_count": null,
      "outputs": [
        {
          "output_type": "stream",
          "name": "stdout",
          "text": [
            "--2022-02-12 02:55:11--  https://storage.googleapis.com/class25jan2022/share/2008.csv\n",
            "Resolving storage.googleapis.com (storage.googleapis.com)... 64.233.189.128, 108.177.125.128, 142.250.157.128, ...\n",
            "Connecting to storage.googleapis.com (storage.googleapis.com)|64.233.189.128|:443... connected.\n",
            "HTTP request sent, awaiting response... 200 OK\n",
            "Length: 689413344 (657M) [text/csv]\n",
            "Saving to: ‘2008.csv’\n",
            "\n",
            "2008.csv            100%[===================>] 657.48M   115MB/s    in 9.2s    \n",
            "\n",
            "2022-02-12 02:55:22 (71.3 MB/s) - ‘2008.csv’ saved [689413344/689413344]\n",
            "\n"
          ]
        }
      ]
    },
    {
      "cell_type": "code",
      "source": [
        "! wc -l ./2008.csv"
      ],
      "metadata": {
        "id": "uojN1MQGiAvK",
        "outputId": "966ef176-3027-473f-b536-b87374008bcc",
        "colab": {
          "base_uri": "https://localhost:8080/"
        }
      },
      "execution_count": null,
      "outputs": [
        {
          "output_type": "stream",
          "name": "stdout",
          "text": [
            "7009729 ./2008.csv\n"
          ]
        }
      ]
    },
    {
      "cell_type": "code",
      "source": [
        "! head -3 2008.csv"
      ],
      "metadata": {
        "id": "zqqblQ21lwMY",
        "outputId": "d0a73c6a-f867-4c3a-b343-d0ccf7c9cb8f",
        "colab": {
          "base_uri": "https://localhost:8080/"
        }
      },
      "execution_count": null,
      "outputs": [
        {
          "output_type": "stream",
          "name": "stdout",
          "text": [
            "Year,Month,DayofMonth,DayOfWeek,DepTime,CRSDepTime,ArrTime,CRSArrTime,UniqueCarrier,FlightNum,TailNum,ActualElapsedTime,CRSElapsedTime,AirTime,ArrDelay,DepDelay,Origin,Dest,Distance,TaxiIn,TaxiOut,Cancelled,CancellationCode,Diverted,CarrierDelay,WeatherDelay,NASDelay,SecurityDelay,LateAircraftDelay\n",
            "2008,1,3,4,2003,1955,2211,2225,WN,335,N712SW,128,150,116,-14,8,IAD,TPA,810,4,8,0,,0,NA,NA,NA,NA,NA\n",
            "2008,1,3,4,754,735,1002,1000,WN,3231,N772SW,128,145,113,2,19,IAD,TPA,810,5,10,0,,0,NA,NA,NA,NA,NA\n"
          ]
        }
      ]
    },
    {
      "cell_type": "code",
      "source": [
        "raw_df = spark.read.format('csv').\\\n",
        "option('header','true').option('mode','DROPMALFORMED')\\\n",
        ".load('2008.csv')"
      ],
      "metadata": {
        "id": "cDq69I8Mlx7a"
      },
      "execution_count": null,
      "outputs": []
    },
    {
      "cell_type": "code",
      "source": [
        "raw_df.count()"
      ],
      "metadata": {
        "id": "TB9PI8WFl5n7",
        "outputId": "1cc5aa39-8260-4d15-e79d-844e809d48ce",
        "colab": {
          "base_uri": "https://localhost:8080/"
        }
      },
      "execution_count": null,
      "outputs": [
        {
          "output_type": "execute_result",
          "data": {
            "text/plain": [
              "7009728"
            ]
          },
          "metadata": {},
          "execution_count": 11
        }
      ]
    },
    {
      "cell_type": "code",
      "source": [
        "raw_df.printSchema()"
      ],
      "metadata": {
        "id": "_VNu0r3nl9wj",
        "outputId": "821dfbc5-b12a-4977-9656-aa8182e2de64",
        "colab": {
          "base_uri": "https://localhost:8080/"
        }
      },
      "execution_count": null,
      "outputs": [
        {
          "output_type": "stream",
          "name": "stdout",
          "text": [
            "root\n",
            " |-- Year: string (nullable = true)\n",
            " |-- Month: string (nullable = true)\n",
            " |-- DayofMonth: string (nullable = true)\n",
            " |-- DayOfWeek: string (nullable = true)\n",
            " |-- DepTime: string (nullable = true)\n",
            " |-- CRSDepTime: string (nullable = true)\n",
            " |-- ArrTime: string (nullable = true)\n",
            " |-- CRSArrTime: string (nullable = true)\n",
            " |-- UniqueCarrier: string (nullable = true)\n",
            " |-- FlightNum: string (nullable = true)\n",
            " |-- TailNum: string (nullable = true)\n",
            " |-- ActualElapsedTime: string (nullable = true)\n",
            " |-- CRSElapsedTime: string (nullable = true)\n",
            " |-- AirTime: string (nullable = true)\n",
            " |-- ArrDelay: string (nullable = true)\n",
            " |-- DepDelay: string (nullable = true)\n",
            " |-- Origin: string (nullable = true)\n",
            " |-- Dest: string (nullable = true)\n",
            " |-- Distance: string (nullable = true)\n",
            " |-- TaxiIn: string (nullable = true)\n",
            " |-- TaxiOut: string (nullable = true)\n",
            " |-- Cancelled: string (nullable = true)\n",
            " |-- CancellationCode: string (nullable = true)\n",
            " |-- Diverted: string (nullable = true)\n",
            " |-- CarrierDelay: string (nullable = true)\n",
            " |-- WeatherDelay: string (nullable = true)\n",
            " |-- NASDelay: string (nullable = true)\n",
            " |-- SecurityDelay: string (nullable = true)\n",
            " |-- LateAircraftDelay: string (nullable = true)\n",
            "\n"
          ]
        }
      ]
    },
    {
      "cell_type": "markdown",
      "source": [
        "**3. Data Preparation using SparkSQL**"
      ],
      "metadata": {
        "id": "3AT7c8SDmj48"
      }
    },
    {
      "cell_type": "code",
      "source": [
        "from pyspark.sql.types import *\n",
        "from pyspark.sql.functions import *"
      ],
      "metadata": {
        "id": "qXGmS8p_nE-u"
      },
      "execution_count": null,
      "outputs": []
    },
    {
      "cell_type": "code",
      "source": [
        "crunched_df = raw_df.\\\n",
        "withColumn('DepTime',col('DepTime').\\\n",
        "           cast(DoubleType())).\\\n",
        "withColumn('TaxiOut',col('TaxiOut').\\\n",
        "           cast(DoubleType())).\\\n",
        "withColumn('TaxiIn',col('TaxiIn').\\\n",
        "           cast(DoubleType())).\\\n",
        "withColumn('DepDelay',col('DepDelay').\\\n",
        "           cast(DoubleType())).\\\n",
        "withColumn('DayOfWeek',col('DayOfWeek').\\\n",
        "           cast(DoubleType())).\\\n",
        "withColumn('Distance',col('Distance').\\\n",
        "           cast(DoubleType())).\\\n",
        "withColumn('ArrDelay',col('ArrDelay').\\\n",
        "           cast(DoubleType()))"
      ],
      "metadata": {
        "id": "aUZhCIL9mIrk"
      },
      "execution_count": null,
      "outputs": []
    },
    {
      "cell_type": "code",
      "source": [
        "crunched_df.printSchema()"
      ],
      "metadata": {
        "id": "qUhtjJoOngGK",
        "colab": {
          "base_uri": "https://localhost:8080/"
        },
        "outputId": "fcaae051-7f91-4bd9-8c8a-a7970e3cc4cd"
      },
      "execution_count": null,
      "outputs": [
        {
          "output_type": "stream",
          "name": "stdout",
          "text": [
            "root\n",
            " |-- Year: string (nullable = true)\n",
            " |-- Month: string (nullable = true)\n",
            " |-- DayofMonth: string (nullable = true)\n",
            " |-- DayOfWeek: double (nullable = true)\n",
            " |-- DepTime: double (nullable = true)\n",
            " |-- CRSDepTime: string (nullable = true)\n",
            " |-- ArrTime: string (nullable = true)\n",
            " |-- CRSArrTime: string (nullable = true)\n",
            " |-- UniqueCarrier: string (nullable = true)\n",
            " |-- FlightNum: string (nullable = true)\n",
            " |-- TailNum: string (nullable = true)\n",
            " |-- ActualElapsedTime: string (nullable = true)\n",
            " |-- CRSElapsedTime: string (nullable = true)\n",
            " |-- AirTime: string (nullable = true)\n",
            " |-- ArrDelay: double (nullable = true)\n",
            " |-- DepDelay: double (nullable = true)\n",
            " |-- Origin: string (nullable = true)\n",
            " |-- Dest: string (nullable = true)\n",
            " |-- Distance: double (nullable = true)\n",
            " |-- TaxiIn: double (nullable = true)\n",
            " |-- TaxiOut: double (nullable = true)\n",
            " |-- Cancelled: string (nullable = true)\n",
            " |-- CancellationCode: string (nullable = true)\n",
            " |-- Diverted: string (nullable = true)\n",
            " |-- CarrierDelay: string (nullable = true)\n",
            " |-- WeatherDelay: string (nullable = true)\n",
            " |-- NASDelay: string (nullable = true)\n",
            " |-- SecurityDelay: string (nullable = true)\n",
            " |-- LateAircraftDelay: string (nullable = true)\n",
            "\n"
          ]
        }
      ]
    },
    {
      "cell_type": "code",
      "source": [
        "crunched_df\\\n",
        ".select(['DepTime','TaxiOut','TaxiIn',\\\n",
        "                     'DayOfWeek','Distance','ArrDelay'])\\\n",
        "                     .describe().toPandas().transpose()"
      ],
      "metadata": {
        "colab": {
          "base_uri": "https://localhost:8080/",
          "height": 269
        },
        "id": "rOBkhRLxocNQ",
        "outputId": "d7371b3d-2585-4a9b-8fb6-dd355328ee48"
      },
      "execution_count": null,
      "outputs": [
        {
          "output_type": "execute_result",
          "data": {
            "text/html": [
              "\n",
              "  <div id=\"df-db8bc4e1-9caa-4ecb-b845-68924abc2d58\">\n",
              "    <div class=\"colab-df-container\">\n",
              "      <div>\n",
              "<style scoped>\n",
              "    .dataframe tbody tr th:only-of-type {\n",
              "        vertical-align: middle;\n",
              "    }\n",
              "\n",
              "    .dataframe tbody tr th {\n",
              "        vertical-align: top;\n",
              "    }\n",
              "\n",
              "    .dataframe thead th {\n",
              "        text-align: right;\n",
              "    }\n",
              "</style>\n",
              "<table border=\"1\" class=\"dataframe\">\n",
              "  <thead>\n",
              "    <tr style=\"text-align: right;\">\n",
              "      <th></th>\n",
              "      <th>0</th>\n",
              "      <th>1</th>\n",
              "      <th>2</th>\n",
              "      <th>3</th>\n",
              "      <th>4</th>\n",
              "    </tr>\n",
              "  </thead>\n",
              "  <tbody>\n",
              "    <tr>\n",
              "      <th>summary</th>\n",
              "      <td>count</td>\n",
              "      <td>mean</td>\n",
              "      <td>stddev</td>\n",
              "      <td>min</td>\n",
              "      <td>max</td>\n",
              "    </tr>\n",
              "    <tr>\n",
              "      <th>DepTime</th>\n",
              "      <td>6873482</td>\n",
              "      <td>1333.8300461105448</td>\n",
              "      <td>478.06889486629836</td>\n",
              "      <td>1.0</td>\n",
              "      <td>2400.0</td>\n",
              "    </tr>\n",
              "    <tr>\n",
              "      <th>TaxiOut</th>\n",
              "      <td>6872670</td>\n",
              "      <td>16.453045177492882</td>\n",
              "      <td>11.332798654232155</td>\n",
              "      <td>0.0</td>\n",
              "      <td>429.0</td>\n",
              "    </tr>\n",
              "    <tr>\n",
              "      <th>TaxiIn</th>\n",
              "      <td>6858079</td>\n",
              "      <td>6.860851704974527</td>\n",
              "      <td>4.933649371300466</td>\n",
              "      <td>0.0</td>\n",
              "      <td>308.0</td>\n",
              "    </tr>\n",
              "    <tr>\n",
              "      <th>DayOfWeek</th>\n",
              "      <td>7009728</td>\n",
              "      <td>3.9241815088973495</td>\n",
              "      <td>1.9882589459851212</td>\n",
              "      <td>1.0</td>\n",
              "      <td>7.0</td>\n",
              "    </tr>\n",
              "    <tr>\n",
              "      <th>Distance</th>\n",
              "      <td>7009728</td>\n",
              "      <td>726.3870294253928</td>\n",
              "      <td>562.1018034840403</td>\n",
              "      <td>11.0</td>\n",
              "      <td>4962.0</td>\n",
              "    </tr>\n",
              "    <tr>\n",
              "      <th>ArrDelay</th>\n",
              "      <td>6855029</td>\n",
              "      <td>8.16845238729114</td>\n",
              "      <td>38.50193694882867</td>\n",
              "      <td>-519.0</td>\n",
              "      <td>2461.0</td>\n",
              "    </tr>\n",
              "  </tbody>\n",
              "</table>\n",
              "</div>\n",
              "      <button class=\"colab-df-convert\" onclick=\"convertToInteractive('df-db8bc4e1-9caa-4ecb-b845-68924abc2d58')\"\n",
              "              title=\"Convert this dataframe to an interactive table.\"\n",
              "              style=\"display:none;\">\n",
              "        \n",
              "  <svg xmlns=\"http://www.w3.org/2000/svg\" height=\"24px\"viewBox=\"0 0 24 24\"\n",
              "       width=\"24px\">\n",
              "    <path d=\"M0 0h24v24H0V0z\" fill=\"none\"/>\n",
              "    <path d=\"M18.56 5.44l.94 2.06.94-2.06 2.06-.94-2.06-.94-.94-2.06-.94 2.06-2.06.94zm-11 1L8.5 8.5l.94-2.06 2.06-.94-2.06-.94L8.5 2.5l-.94 2.06-2.06.94zm10 10l.94 2.06.94-2.06 2.06-.94-2.06-.94-.94-2.06-.94 2.06-2.06.94z\"/><path d=\"M17.41 7.96l-1.37-1.37c-.4-.4-.92-.59-1.43-.59-.52 0-1.04.2-1.43.59L10.3 9.45l-7.72 7.72c-.78.78-.78 2.05 0 2.83L4 21.41c.39.39.9.59 1.41.59.51 0 1.02-.2 1.41-.59l7.78-7.78 2.81-2.81c.8-.78.8-2.07 0-2.86zM5.41 20L4 18.59l7.72-7.72 1.47 1.35L5.41 20z\"/>\n",
              "  </svg>\n",
              "      </button>\n",
              "      \n",
              "  <style>\n",
              "    .colab-df-container {\n",
              "      display:flex;\n",
              "      flex-wrap:wrap;\n",
              "      gap: 12px;\n",
              "    }\n",
              "\n",
              "    .colab-df-convert {\n",
              "      background-color: #E8F0FE;\n",
              "      border: none;\n",
              "      border-radius: 50%;\n",
              "      cursor: pointer;\n",
              "      display: none;\n",
              "      fill: #1967D2;\n",
              "      height: 32px;\n",
              "      padding: 0 0 0 0;\n",
              "      width: 32px;\n",
              "    }\n",
              "\n",
              "    .colab-df-convert:hover {\n",
              "      background-color: #E2EBFA;\n",
              "      box-shadow: 0px 1px 2px rgba(60, 64, 67, 0.3), 0px 1px 3px 1px rgba(60, 64, 67, 0.15);\n",
              "      fill: #174EA6;\n",
              "    }\n",
              "\n",
              "    [theme=dark] .colab-df-convert {\n",
              "      background-color: #3B4455;\n",
              "      fill: #D2E3FC;\n",
              "    }\n",
              "\n",
              "    [theme=dark] .colab-df-convert:hover {\n",
              "      background-color: #434B5C;\n",
              "      box-shadow: 0px 1px 3px 1px rgba(0, 0, 0, 0.15);\n",
              "      filter: drop-shadow(0px 1px 2px rgba(0, 0, 0, 0.3));\n",
              "      fill: #FFFFFF;\n",
              "    }\n",
              "  </style>\n",
              "\n",
              "      <script>\n",
              "        const buttonEl =\n",
              "          document.querySelector('#df-db8bc4e1-9caa-4ecb-b845-68924abc2d58 button.colab-df-convert');\n",
              "        buttonEl.style.display =\n",
              "          google.colab.kernel.accessAllowed ? 'block' : 'none';\n",
              "\n",
              "        async function convertToInteractive(key) {\n",
              "          const element = document.querySelector('#df-db8bc4e1-9caa-4ecb-b845-68924abc2d58');\n",
              "          const dataTable =\n",
              "            await google.colab.kernel.invokeFunction('convertToInteractive',\n",
              "                                                     [key], {});\n",
              "          if (!dataTable) return;\n",
              "\n",
              "          const docLinkHtml = 'Like what you see? Visit the ' +\n",
              "            '<a target=\"_blank\" href=https://colab.research.google.com/notebooks/data_table.ipynb>data table notebook</a>'\n",
              "            + ' to learn more about interactive tables.';\n",
              "          element.innerHTML = '';\n",
              "          dataTable['output_type'] = 'display_data';\n",
              "          await google.colab.output.renderOutput(dataTable, element);\n",
              "          const docLink = document.createElement('div');\n",
              "          docLink.innerHTML = docLinkHtml;\n",
              "          element.appendChild(docLink);\n",
              "        }\n",
              "      </script>\n",
              "    </div>\n",
              "  </div>\n",
              "  "
            ],
            "text/plain": [
              "                 0                   1                   2       3       4\n",
              "summary      count                mean              stddev     min     max\n",
              "DepTime    6873482  1333.8300461105448  478.06889486629836     1.0  2400.0\n",
              "TaxiOut    6872670  16.453045177492882  11.332798654232155     0.0   429.0\n",
              "TaxiIn     6858079   6.860851704974527   4.933649371300466     0.0   308.0\n",
              "DayOfWeek  7009728  3.9241815088973495  1.9882589459851212     1.0     7.0\n",
              "Distance   7009728   726.3870294253928   562.1018034840403    11.0  4962.0\n",
              "ArrDelay   6855029    8.16845238729114   38.50193694882867  -519.0  2461.0"
            ]
          },
          "metadata": {},
          "execution_count": 16
        }
      ]
    },
    {
      "cell_type": "code",
      "source": [
        "def t_timeperiod(origin):\n",
        "    if origin is None:\n",
        "        period = None\n",
        "    elif origin > 0 and origin < 600:\n",
        "        period = '00.01-05.59'\n",
        "    elif origin >= 600 and origin < 1200:\n",
        "        period = '06.00-11.59'\n",
        "    elif origin >= 1200 and origin < 1800:\n",
        "        period = '12.00-17.59'\n",
        "    elif origin >= 1800 and origin <= 2400:\n",
        "        period = '18.00-24.00'\n",
        "    else:\n",
        "        period = 'NA'\n",
        "    return period"
      ],
      "metadata": {
        "id": "sVcTY0wZo9Ha"
      },
      "execution_count": null,
      "outputs": []
    },
    {
      "cell_type": "code",
      "source": [
        "timeperiod = udf(lambda x: t_timeperiod(x),StringType())"
      ],
      "metadata": {
        "id": "mIb6Ml2Zrhd3"
      },
      "execution_count": null,
      "outputs": []
    },
    {
      "cell_type": "code",
      "source": [
        "discretized_df = crunched_df.\\\n",
        "withColumn('DepTime',timeperiod(crunched_df['DepTime']))"
      ],
      "metadata": {
        "id": "PUa9cHMvrjHr"
      },
      "execution_count": null,
      "outputs": []
    },
    {
      "cell_type": "code",
      "source": [
        "from pyspark.sql.functions import *\n",
        "max_distance = discretized_df.select(max('Distance')).collect()[0][0]\n",
        "min_distance = discretized_df.select(min('Distance')).collect()[0][0]"
      ],
      "metadata": {
        "id": "PuqlH_X1rmgp",
        "colab": {
          "base_uri": "https://localhost:8080/",
          "height": 346
        },
        "outputId": "a59a188c-a71d-4f81-bfa1-f7055cc750fa"
      },
      "execution_count": 69,
      "outputs": [
        {
          "output_type": "error",
          "ename": "KeyboardInterrupt",
          "evalue": "ignored",
          "traceback": [
            "\u001b[0;31m---------------------------------------------------------------------------\u001b[0m",
            "\u001b[0;31mKeyboardInterrupt\u001b[0m                         Traceback (most recent call last)",
            "\u001b[0;32m<ipython-input-69-39af9994ceda>\u001b[0m in \u001b[0;36m<module>\u001b[0;34m()\u001b[0m\n\u001b[1;32m      1\u001b[0m \u001b[0;32mfrom\u001b[0m \u001b[0mpyspark\u001b[0m\u001b[0;34m.\u001b[0m\u001b[0msql\u001b[0m\u001b[0;34m.\u001b[0m\u001b[0mfunctions\u001b[0m \u001b[0;32mimport\u001b[0m \u001b[0;34m*\u001b[0m\u001b[0;34m\u001b[0m\u001b[0;34m\u001b[0m\u001b[0m\n\u001b[0;32m----> 2\u001b[0;31m \u001b[0mmax_distance\u001b[0m \u001b[0;34m=\u001b[0m \u001b[0mdiscretized_df\u001b[0m\u001b[0;34m.\u001b[0m\u001b[0mselect\u001b[0m\u001b[0;34m(\u001b[0m\u001b[0mmax\u001b[0m\u001b[0;34m(\u001b[0m\u001b[0;34m'Distance'\u001b[0m\u001b[0;34m)\u001b[0m\u001b[0;34m)\u001b[0m\u001b[0;34m.\u001b[0m\u001b[0mcollect\u001b[0m\u001b[0;34m(\u001b[0m\u001b[0;34m)\u001b[0m\u001b[0;34m[\u001b[0m\u001b[0;36m0\u001b[0m\u001b[0;34m]\u001b[0m\u001b[0;34m[\u001b[0m\u001b[0;36m0\u001b[0m\u001b[0;34m]\u001b[0m\u001b[0;34m\u001b[0m\u001b[0;34m\u001b[0m\u001b[0m\n\u001b[0m\u001b[1;32m      3\u001b[0m \u001b[0mmin_distance\u001b[0m \u001b[0;34m=\u001b[0m \u001b[0mdiscretized_df\u001b[0m\u001b[0;34m.\u001b[0m\u001b[0mselect\u001b[0m\u001b[0;34m(\u001b[0m\u001b[0mmin\u001b[0m\u001b[0;34m(\u001b[0m\u001b[0;34m'Distance'\u001b[0m\u001b[0;34m)\u001b[0m\u001b[0;34m)\u001b[0m\u001b[0;34m.\u001b[0m\u001b[0mcollect\u001b[0m\u001b[0;34m(\u001b[0m\u001b[0;34m)\u001b[0m\u001b[0;34m[\u001b[0m\u001b[0;36m0\u001b[0m\u001b[0;34m]\u001b[0m\u001b[0;34m[\u001b[0m\u001b[0;36m0\u001b[0m\u001b[0;34m]\u001b[0m\u001b[0;34m\u001b[0m\u001b[0;34m\u001b[0m\u001b[0m\n",
            "\u001b[0;32m/content/spark-2.4.1-bin-hadoop2.7/python/pyspark/sql/dataframe.py\u001b[0m in \u001b[0;36mcollect\u001b[0;34m(self)\u001b[0m\n\u001b[1;32m    531\u001b[0m         \"\"\"\n\u001b[1;32m    532\u001b[0m         \u001b[0;32mwith\u001b[0m \u001b[0mSCCallSiteSync\u001b[0m\u001b[0;34m(\u001b[0m\u001b[0mself\u001b[0m\u001b[0;34m.\u001b[0m\u001b[0m_sc\u001b[0m\u001b[0;34m)\u001b[0m \u001b[0;32mas\u001b[0m \u001b[0mcss\u001b[0m\u001b[0;34m:\u001b[0m\u001b[0;34m\u001b[0m\u001b[0;34m\u001b[0m\u001b[0m\n\u001b[0;32m--> 533\u001b[0;31m             \u001b[0msock_info\u001b[0m \u001b[0;34m=\u001b[0m \u001b[0mself\u001b[0m\u001b[0;34m.\u001b[0m\u001b[0m_jdf\u001b[0m\u001b[0;34m.\u001b[0m\u001b[0mcollectToPython\u001b[0m\u001b[0;34m(\u001b[0m\u001b[0;34m)\u001b[0m\u001b[0;34m\u001b[0m\u001b[0;34m\u001b[0m\u001b[0m\n\u001b[0m\u001b[1;32m    534\u001b[0m         \u001b[0;32mreturn\u001b[0m \u001b[0mlist\u001b[0m\u001b[0;34m(\u001b[0m\u001b[0m_load_from_socket\u001b[0m\u001b[0;34m(\u001b[0m\u001b[0msock_info\u001b[0m\u001b[0;34m,\u001b[0m \u001b[0mBatchedSerializer\u001b[0m\u001b[0;34m(\u001b[0m\u001b[0mPickleSerializer\u001b[0m\u001b[0;34m(\u001b[0m\u001b[0;34m)\u001b[0m\u001b[0;34m)\u001b[0m\u001b[0;34m)\u001b[0m\u001b[0;34m)\u001b[0m\u001b[0;34m\u001b[0m\u001b[0;34m\u001b[0m\u001b[0m\n\u001b[1;32m    535\u001b[0m \u001b[0;34m\u001b[0m\u001b[0m\n",
            "\u001b[0;32m/content/spark-2.4.1-bin-hadoop2.7/python/lib/py4j-0.10.7-src.zip/py4j/java_gateway.py\u001b[0m in \u001b[0;36m__call__\u001b[0;34m(self, *args)\u001b[0m\n\u001b[1;32m   1253\u001b[0m             \u001b[0mproto\u001b[0m\u001b[0;34m.\u001b[0m\u001b[0mEND_COMMAND_PART\u001b[0m\u001b[0;34m\u001b[0m\u001b[0;34m\u001b[0m\u001b[0m\n\u001b[1;32m   1254\u001b[0m \u001b[0;34m\u001b[0m\u001b[0m\n\u001b[0;32m-> 1255\u001b[0;31m         \u001b[0manswer\u001b[0m \u001b[0;34m=\u001b[0m \u001b[0mself\u001b[0m\u001b[0;34m.\u001b[0m\u001b[0mgateway_client\u001b[0m\u001b[0;34m.\u001b[0m\u001b[0msend_command\u001b[0m\u001b[0;34m(\u001b[0m\u001b[0mcommand\u001b[0m\u001b[0;34m)\u001b[0m\u001b[0;34m\u001b[0m\u001b[0;34m\u001b[0m\u001b[0m\n\u001b[0m\u001b[1;32m   1256\u001b[0m         return_value = get_return_value(\n\u001b[1;32m   1257\u001b[0m             answer, self.gateway_client, self.target_id, self.name)\n",
            "\u001b[0;32m/content/spark-2.4.1-bin-hadoop2.7/python/lib/py4j-0.10.7-src.zip/py4j/java_gateway.py\u001b[0m in \u001b[0;36msend_command\u001b[0;34m(self, command, retry, binary)\u001b[0m\n\u001b[1;32m    983\u001b[0m         \u001b[0mconnection\u001b[0m \u001b[0;34m=\u001b[0m \u001b[0mself\u001b[0m\u001b[0;34m.\u001b[0m\u001b[0m_get_connection\u001b[0m\u001b[0;34m(\u001b[0m\u001b[0;34m)\u001b[0m\u001b[0;34m\u001b[0m\u001b[0;34m\u001b[0m\u001b[0m\n\u001b[1;32m    984\u001b[0m         \u001b[0;32mtry\u001b[0m\u001b[0;34m:\u001b[0m\u001b[0;34m\u001b[0m\u001b[0;34m\u001b[0m\u001b[0m\n\u001b[0;32m--> 985\u001b[0;31m             \u001b[0mresponse\u001b[0m \u001b[0;34m=\u001b[0m \u001b[0mconnection\u001b[0m\u001b[0;34m.\u001b[0m\u001b[0msend_command\u001b[0m\u001b[0;34m(\u001b[0m\u001b[0mcommand\u001b[0m\u001b[0;34m)\u001b[0m\u001b[0;34m\u001b[0m\u001b[0;34m\u001b[0m\u001b[0m\n\u001b[0m\u001b[1;32m    986\u001b[0m             \u001b[0;32mif\u001b[0m \u001b[0mbinary\u001b[0m\u001b[0;34m:\u001b[0m\u001b[0;34m\u001b[0m\u001b[0;34m\u001b[0m\u001b[0m\n\u001b[1;32m    987\u001b[0m                 \u001b[0;32mreturn\u001b[0m \u001b[0mresponse\u001b[0m\u001b[0;34m,\u001b[0m \u001b[0mself\u001b[0m\u001b[0;34m.\u001b[0m\u001b[0m_create_connection_guard\u001b[0m\u001b[0;34m(\u001b[0m\u001b[0mconnection\u001b[0m\u001b[0;34m)\u001b[0m\u001b[0;34m\u001b[0m\u001b[0;34m\u001b[0m\u001b[0m\n",
            "\u001b[0;32m/content/spark-2.4.1-bin-hadoop2.7/python/lib/py4j-0.10.7-src.zip/py4j/java_gateway.py\u001b[0m in \u001b[0;36msend_command\u001b[0;34m(self, command)\u001b[0m\n\u001b[1;32m   1150\u001b[0m \u001b[0;34m\u001b[0m\u001b[0m\n\u001b[1;32m   1151\u001b[0m         \u001b[0;32mtry\u001b[0m\u001b[0;34m:\u001b[0m\u001b[0;34m\u001b[0m\u001b[0;34m\u001b[0m\u001b[0m\n\u001b[0;32m-> 1152\u001b[0;31m             \u001b[0manswer\u001b[0m \u001b[0;34m=\u001b[0m \u001b[0msmart_decode\u001b[0m\u001b[0;34m(\u001b[0m\u001b[0mself\u001b[0m\u001b[0;34m.\u001b[0m\u001b[0mstream\u001b[0m\u001b[0;34m.\u001b[0m\u001b[0mreadline\u001b[0m\u001b[0;34m(\u001b[0m\u001b[0;34m)\u001b[0m\u001b[0;34m[\u001b[0m\u001b[0;34m:\u001b[0m\u001b[0;34m-\u001b[0m\u001b[0;36m1\u001b[0m\u001b[0;34m]\u001b[0m\u001b[0;34m)\u001b[0m\u001b[0;34m\u001b[0m\u001b[0;34m\u001b[0m\u001b[0m\n\u001b[0m\u001b[1;32m   1153\u001b[0m             \u001b[0mlogger\u001b[0m\u001b[0;34m.\u001b[0m\u001b[0mdebug\u001b[0m\u001b[0;34m(\u001b[0m\u001b[0;34m\"Answer received: {0}\"\u001b[0m\u001b[0;34m.\u001b[0m\u001b[0mformat\u001b[0m\u001b[0;34m(\u001b[0m\u001b[0manswer\u001b[0m\u001b[0;34m)\u001b[0m\u001b[0;34m)\u001b[0m\u001b[0;34m\u001b[0m\u001b[0;34m\u001b[0m\u001b[0m\n\u001b[1;32m   1154\u001b[0m             \u001b[0;32mif\u001b[0m \u001b[0manswer\u001b[0m\u001b[0;34m.\u001b[0m\u001b[0mstartswith\u001b[0m\u001b[0;34m(\u001b[0m\u001b[0mproto\u001b[0m\u001b[0;34m.\u001b[0m\u001b[0mRETURN_MESSAGE\u001b[0m\u001b[0;34m)\u001b[0m\u001b[0;34m:\u001b[0m\u001b[0;34m\u001b[0m\u001b[0;34m\u001b[0m\u001b[0m\n",
            "\u001b[0;32m/usr/lib/python3.7/socket.py\u001b[0m in \u001b[0;36mreadinto\u001b[0;34m(self, b)\u001b[0m\n\u001b[1;32m    587\u001b[0m         \u001b[0;32mwhile\u001b[0m \u001b[0;32mTrue\u001b[0m\u001b[0;34m:\u001b[0m\u001b[0;34m\u001b[0m\u001b[0;34m\u001b[0m\u001b[0m\n\u001b[1;32m    588\u001b[0m             \u001b[0;32mtry\u001b[0m\u001b[0;34m:\u001b[0m\u001b[0;34m\u001b[0m\u001b[0;34m\u001b[0m\u001b[0m\n\u001b[0;32m--> 589\u001b[0;31m                 \u001b[0;32mreturn\u001b[0m \u001b[0mself\u001b[0m\u001b[0;34m.\u001b[0m\u001b[0m_sock\u001b[0m\u001b[0;34m.\u001b[0m\u001b[0mrecv_into\u001b[0m\u001b[0;34m(\u001b[0m\u001b[0mb\u001b[0m\u001b[0;34m)\u001b[0m\u001b[0;34m\u001b[0m\u001b[0;34m\u001b[0m\u001b[0m\n\u001b[0m\u001b[1;32m    590\u001b[0m             \u001b[0;32mexcept\u001b[0m \u001b[0mtimeout\u001b[0m\u001b[0;34m:\u001b[0m\u001b[0;34m\u001b[0m\u001b[0;34m\u001b[0m\u001b[0m\n\u001b[1;32m    591\u001b[0m                 \u001b[0mself\u001b[0m\u001b[0;34m.\u001b[0m\u001b[0m_timeout_occurred\u001b[0m \u001b[0;34m=\u001b[0m \u001b[0;32mTrue\u001b[0m\u001b[0;34m\u001b[0m\u001b[0;34m\u001b[0m\u001b[0m\n",
            "\u001b[0;31mKeyboardInterrupt\u001b[0m: "
          ]
        }
      ]
    },
    {
      "cell_type": "code",
      "source": [
        "max_ArrDelay = discretized_df.select(max('ArrDelay')).collect()[0][0]\n",
        "min_ArrDelay = discretized_df.select(min('ArrDelay')).collect()[0][0]"
      ],
      "metadata": {
        "id": "fx0bmzosrqNz"
      },
      "execution_count": null,
      "outputs": []
    },
    {
      "cell_type": "code",
      "source": [
        "def t_normalized_distance(origin):\n",
        "    if origin is None:\n",
        "        return None\n",
        "    else:\n",
        "        return ((origin-min_distance)/(max_distance-min_distance))"
      ],
      "metadata": {
        "id": "oUYYOL7jrrrF"
      },
      "execution_count": null,
      "outputs": []
    },
    {
      "cell_type": "code",
      "source": [
        "def t_normalized_ArrDelay(origin):\n",
        "    if origin is None:\n",
        "        return None\n",
        "    else:\n",
        "        return ((origin-min_ArrDelay)/(max_ArrDelay-min_ArrDelay))"
      ],
      "metadata": {
        "id": "BoWYuqu7rtXv"
      },
      "execution_count": null,
      "outputs": []
    },
    {
      "cell_type": "code",
      "source": [
        "normalized_distance = udf(lambda x: t_normalized_distance(x),DoubleType())"
      ],
      "metadata": {
        "id": "J2xHhdm8rxEg"
      },
      "execution_count": null,
      "outputs": []
    },
    {
      "cell_type": "code",
      "source": [
        "normalized_ArrDelay = udf(lambda x: t_normalized_ArrDelay(x),DoubleType())"
      ],
      "metadata": {
        "id": "AfAR8dh5rzF3"
      },
      "execution_count": null,
      "outputs": []
    },
    {
      "cell_type": "code",
      "source": [
        "normalized_df = discretized_df.\\\n",
        "withColumn('Distance', normalized_distance(discretized_df['Distance'])).\\\n",
        "withColumn('ArrDelay', normalized_ArrDelay(discretized_df['ArrDelay']))"
      ],
      "metadata": {
        "id": "GgM67WK5r0mm"
      },
      "execution_count": null,
      "outputs": []
    },
    {
      "cell_type": "code",
      "source": [
        "features_df = normalized_df.\\\n",
        "select(['UniqueCarrier','Origin','Dest',\\\n",
        "        'DepTime','TaxiOut','TaxiIn','DepDelay',\\\n",
        "        'DayOfWeek','Distance','ArrDelay'])"
      ],
      "metadata": {
        "id": "x36v8lk4r2h7"
      },
      "execution_count": null,
      "outputs": []
    },
    {
      "cell_type": "code",
      "source": [
        "final_df = features_df.dropna()"
      ],
      "metadata": {
        "id": "F3dcs_f6sNFR"
      },
      "execution_count": null,
      "outputs": []
    },
    {
      "cell_type": "code",
      "source": [
        "final_df.count()"
      ],
      "metadata": {
        "colab": {
          "base_uri": "https://localhost:8080/"
        },
        "id": "Auj-cQb5sPH_",
        "outputId": "0b76559e-8107-4ccd-8cf3-644420034470"
      },
      "execution_count": null,
      "outputs": [
        {
          "output_type": "execute_result",
          "data": {
            "text/plain": [
              "6855029"
            ]
          },
          "metadata": {},
          "execution_count": 29
        }
      ]
    },
    {
      "cell_type": "code",
      "source": [
        "final_df.show()"
      ],
      "metadata": {
        "colab": {
          "base_uri": "https://localhost:8080/"
        },
        "id": "8qCDaYlasR20",
        "outputId": "cabdf2bb-63fa-4928-fae5-02ac08e0eaa4"
      },
      "execution_count": null,
      "outputs": [
        {
          "output_type": "stream",
          "name": "stdout",
          "text": [
            "+-------------+------+----+-----------+-------+------+--------+---------+--------------------+-------------------+\n",
            "|UniqueCarrier|Origin|Dest|    DepTime|TaxiOut|TaxiIn|DepDelay|DayOfWeek|            Distance|           ArrDelay|\n",
            "+-------------+------+----+-----------+-------+------+--------+---------+--------------------+-------------------+\n",
            "|           WN|   IAD| TPA|18.00-24.00|    8.0|   4.0|     8.0|      4.0| 0.16138153908301353|0.16946308724832215|\n",
            "|           WN|   IAD| TPA|06.00-11.59|   10.0|   5.0|    19.0|      4.0| 0.16138153908301353|0.17483221476510066|\n",
            "|           WN|   IND| BWI|06.00-11.59|   17.0|   3.0|     8.0|      4.0|  0.1017976166431024|0.17885906040268457|\n",
            "|           WN|   IND| BWI|06.00-11.59|    7.0|   3.0|    -4.0|      4.0|  0.1017976166431024|0.17214765100671142|\n",
            "|           WN|   IND| BWI|18.00-24.00|   10.0|   3.0|    34.0|      4.0|  0.1017976166431024| 0.1855704697986577|\n",
            "|           WN|   IND| JAX|18.00-24.00|   10.0|   4.0|    25.0|      4.0|  0.1367400525146435|0.17785234899328858|\n",
            "|           WN|   IND| LAS|18.00-24.00|    7.0|   3.0|    67.0|      4.0| 0.31912744900020196|0.19328859060402684|\n",
            "|           WN|   IND| LAS|06.00-11.59|    7.0|   7.0|    -1.0|      4.0| 0.31912744900020196|0.16812080536912752|\n",
            "|           WN|   IND| MCI|06.00-11.59|   19.0|   6.0|     2.0|      4.0| 0.08887093516461321|0.17483221476510066|\n",
            "|           WN|   IND| MCI|12.00-17.59|    6.0|   3.0|     0.0|      4.0| 0.08887093516461321|0.16879194630872482|\n",
            "|           WN|   IND| MCO|06.00-11.59|   19.0|   5.0|     6.0|      4.0|  0.1650171682488386|  0.174496644295302|\n",
            "|           WN|   IND| MCO|12.00-17.59|    8.0|   6.0|    94.0|      4.0|  0.1650171682488386|0.20100671140939597|\n",
            "|           WN|   IND| MDW|12.00-17.59|   12.0|   9.0|    -4.0|      4.0|0.030498889113310442|  0.174496644295302|\n",
            "|           WN|   IND| MDW|06.00-11.59|   21.0|   7.0|     0.0|      4.0|0.030498889113310442|0.17751677852348993|\n",
            "|           WN|   IND| MDW|12.00-17.59|   10.0|   4.0|     2.0|      4.0|0.030498889113310442|0.17281879194630873|\n",
            "|           WN|   IND| MDW|06.00-11.59|    9.0|   6.0|     9.0|      4.0|0.030498889113310442|0.17785234899328858|\n",
            "|           WN|   IND| PHX|12.00-17.59|    8.0|   7.0|    27.0|      4.0|  0.2985255503938598|0.17919463087248322|\n",
            "|           WN|   IND| PHX|06.00-11.59|   16.0|   5.0|     9.0|      4.0|  0.2985255503938598| 0.1691275167785235|\n",
            "|           WN|   IND| TPA|12.00-17.59|    9.0|   4.0|    28.0|      4.0| 0.16703696222985256|0.17953020134228187|\n",
            "|           WN|   ISP| BWI|12.00-17.59|    5.0|   2.0|    51.0|      4.0| 0.04221369420319127| 0.1865771812080537|\n",
            "+-------------+------+----+-----------+-------+------+--------+---------+--------------------+-------------------+\n",
            "only showing top 20 rows\n",
            "\n"
          ]
        }
      ]
    },
    {
      "cell_type": "markdown",
      "source": [
        "4. Modeling (Spark ML and Spark ML Pipeline)"
      ],
      "metadata": {
        "id": "71W-20KAs_Ff"
      }
    },
    {
      "cell_type": "code",
      "source": [
        "training_df,test_df = final_df.\\\n",
        "randomSplit([0.80,0.20], seed = 12)"
      ],
      "metadata": {
        "id": "bLuSIeRBsTi-"
      },
      "execution_count": null,
      "outputs": []
    },
    {
      "cell_type": "code",
      "source": [
        "training_df.count()"
      ],
      "metadata": {
        "colab": {
          "base_uri": "https://localhost:8080/"
        },
        "id": "xv13jm0XtC2n",
        "outputId": "4374963d-465a-4abe-b747-42e6d8a96a67"
      },
      "execution_count": null,
      "outputs": [
        {
          "output_type": "execute_result",
          "data": {
            "text/plain": [
              "5484163"
            ]
          },
          "metadata": {},
          "execution_count": 32
        }
      ]
    },
    {
      "cell_type": "code",
      "source": [
        "training_df.printSchema()"
      ],
      "metadata": {
        "colab": {
          "base_uri": "https://localhost:8080/"
        },
        "id": "DS5vX_wftE5X",
        "outputId": "dd3e5766-86f2-4274-b4a7-7f3f6e2ca733"
      },
      "execution_count": null,
      "outputs": [
        {
          "output_type": "stream",
          "name": "stdout",
          "text": [
            "root\n",
            " |-- UniqueCarrier: string (nullable = true)\n",
            " |-- Origin: string (nullable = true)\n",
            " |-- Dest: string (nullable = true)\n",
            " |-- DepTime: string (nullable = true)\n",
            " |-- TaxiOut: double (nullable = true)\n",
            " |-- TaxiIn: double (nullable = true)\n",
            " |-- DepDelay: double (nullable = true)\n",
            " |-- DayOfWeek: double (nullable = true)\n",
            " |-- Distance: double (nullable = true)\n",
            " |-- ArrDelay: double (nullable = true)\n",
            "\n"
          ]
        }
      ]
    },
    {
      "cell_type": "code",
      "source": [
        "from pyspark.ml.feature import StringIndexer,OneHotEncoder"
      ],
      "metadata": {
        "id": "F6qsIZ1ntHbA"
      },
      "execution_count": null,
      "outputs": []
    },
    {
      "cell_type": "code",
      "source": [
        "DepTimeIndexer = StringIndexer\\\n",
        "(inputCol='DepTime',outputCol='DepTimeIndexed')"
      ],
      "metadata": {
        "id": "jU2SfnuetKdf"
      },
      "execution_count": null,
      "outputs": []
    },
    {
      "cell_type": "code",
      "source": [
        "DepTimeOneHotEncoder = OneHotEncoder\\\n",
        "(dropLast=False,inputCol='DepTimeIndexed', \\\n",
        " outputCol='DepTimeVec')"
      ],
      "metadata": {
        "id": "nto99ogVtMVS"
      },
      "execution_count": null,
      "outputs": []
    },
    {
      "cell_type": "code",
      "source": [
        "UniqueCarrierIndexer = StringIndexer\\\n",
        "(inputCol='UniqueCarrier',\\\n",
        " outputCol='UniqueCarrierIndexed')"
      ],
      "metadata": {
        "id": "gnaTZnhDtOFp"
      },
      "execution_count": null,
      "outputs": []
    },
    {
      "cell_type": "code",
      "source": [
        "UniqueCarrierOneHotEncoder = OneHotEncoder\\\n",
        "(dropLast=False,inputCol='UniqueCarrierIndexed',\\\n",
        " outputCol='UniqueCarrierVec')"
      ],
      "metadata": {
        "id": "E18wSdWktPyI"
      },
      "execution_count": null,
      "outputs": []
    },
    {
      "cell_type": "code",
      "source": [
        "OriginIndexer = StringIndexer(inputCol='Origin',\\\n",
        "                              outputCol='OriginIndexed')"
      ],
      "metadata": {
        "id": "7-hagmZptRfg"
      },
      "execution_count": null,
      "outputs": []
    },
    {
      "cell_type": "code",
      "source": [
        "OriginOneHotEncoder = OneHotEncoder\\\n",
        "(dropLast=False,inputCol='OriginIndexed',\\\n",
        " outputCol='OriginVec')"
      ],
      "metadata": {
        "id": "4UR22OlMtTIj"
      },
      "execution_count": null,
      "outputs": []
    },
    {
      "cell_type": "code",
      "source": [
        "DestIndexer = StringIndexer(inputCol='Dest',\\\n",
        "                            outputCol='DestIndexed')"
      ],
      "metadata": {
        "id": "bCgJgyfItUsA"
      },
      "execution_count": null,
      "outputs": []
    },
    {
      "cell_type": "code",
      "source": [
        "DestOneHotEncoder = OneHotEncoder\\\n",
        "(dropLast=False,inputCol='DestIndexed',\\\n",
        " outputCol='DestVec')"
      ],
      "metadata": {
        "id": "B7wqj7mptV-T"
      },
      "execution_count": null,
      "outputs": []
    },
    {
      "cell_type": "code",
      "source": [
        "from pyspark.mllib.linalg import Vectors"
      ],
      "metadata": {
        "id": "K5DlzyZqtXeV"
      },
      "execution_count": null,
      "outputs": []
    },
    {
      "cell_type": "code",
      "source": [
        "from pyspark.ml.feature import VectorAssembler"
      ],
      "metadata": {
        "id": "WcvrDSQttgja"
      },
      "execution_count": null,
      "outputs": []
    },
    {
      "cell_type": "code",
      "source": [
        "from pyspark.ml import Pipeline"
      ],
      "metadata": {
        "id": "BVlFfva-th8Y"
      },
      "execution_count": null,
      "outputs": []
    },
    {
      "cell_type": "code",
      "source": [
        "featureAssembler = VectorAssembler\\\n",
        "(inputCols=['UniqueCarrierVec',\\\n",
        "            'OriginVec',\\\n",
        "            'DepTimeIndexed',\\\n",
        "            'DestVec',\\\n",
        "            'TaxiOut','TaxiIn',\\\n",
        "            'DepDelay',\\\n",
        "            'DayOfWeek',\\\n",
        "            'Distance'\n",
        "           ], outputCol='***features')"
      ],
      "metadata": {
        "id": "GqZbQvnVtjez"
      },
      "execution_count": null,
      "outputs": []
    },
    {
      "cell_type": "code",
      "source": [
        "from pyspark.ml.regression import RandomForestRegressor"
      ],
      "metadata": {
        "id": "cwDqvkI0tky3"
      },
      "execution_count": null,
      "outputs": []
    },
    {
      "cell_type": "code",
      "source": [
        "dt = RandomForestRegressor\\\n",
        "(labelCol='ArrDelay',featuresCol='***features')"
      ],
      "metadata": {
        "id": "gONFi1pjtnO_"
      },
      "execution_count": null,
      "outputs": []
    },
    {
      "cell_type": "code",
      "source": [
        "pipeline_dt = Pipeline().\\\n",
        "setStages([UniqueCarrierIndexer,\\\n",
        "           UniqueCarrierOneHotEncoder,\\\n",
        "           DepTimeIndexer,\\\n",
        "           OriginIndexer ,\\\n",
        "           OriginOneHotEncoder,\\\n",
        "           DestIndexer,\\\n",
        "           DestOneHotEncoder,\\\n",
        "           featureAssembler,dt])"
      ],
      "metadata": {
        "id": "yE3t_we4toi8"
      },
      "execution_count": null,
      "outputs": []
    },
    {
      "cell_type": "code",
      "source": [
        "dtModel = pipeline_dt.fit(training_df)"
      ],
      "metadata": {
        "id": "FnybzB0FtqsI"
      },
      "execution_count": null,
      "outputs": []
    },
    {
      "cell_type": "markdown",
      "source": [
        "5. Model Evalution"
      ],
      "metadata": {
        "id": "3soaP14V2FzU"
      }
    },
    {
      "cell_type": "code",
      "source": [
        "result_df = dtModel.transform(test_df.dropna())"
      ],
      "metadata": {
        "id": "Bd5TULBLttI3"
      },
      "execution_count": null,
      "outputs": []
    },
    {
      "cell_type": "code",
      "source": [
        "result_df.select(['ArrDelay','Prediction']).show(10)"
      ],
      "metadata": {
        "colab": {
          "base_uri": "https://localhost:8080/"
        },
        "id": "_CedDVdE2L-w",
        "outputId": "914d2910-db74-45a7-edb1-923d7a83a9c8"
      },
      "execution_count": null,
      "outputs": [
        {
          "output_type": "stream",
          "name": "stdout",
          "text": [
            "+-------------------+-------------------+\n",
            "|           ArrDelay|         Prediction|\n",
            "+-------------------+-------------------+\n",
            "|0.17348993288590603|0.17287572364452058|\n",
            "|0.18053691275167785| 0.1758793947109317|\n",
            "|0.17013422818791946| 0.1730034432629028|\n",
            "| 0.1714765100671141|0.17346233179077675|\n",
            "|0.17651006711409395|0.17437803271824098|\n",
            "|0.17583892617449665|0.17615346340264085|\n",
            "|0.18523489932885906|0.18379687727395563|\n",
            "|  0.174496644295302|0.17413089607186197|\n",
            "|0.17315436241610738|0.17523882388087936|\n",
            "|0.16946308724832215|0.17395417166518642|\n",
            "+-------------------+-------------------+\n",
            "only showing top 10 rows\n",
            "\n"
          ]
        }
      ]
    },
    {
      "cell_type": "code",
      "source": [
        "from pyspark.ml.evaluation import RegressionEvaluator"
      ],
      "metadata": {
        "id": "Pd8zP71s2k1Y"
      },
      "execution_count": 56,
      "outputs": []
    },
    {
      "cell_type": "code",
      "source": [
        "everesult_df = dtModel.transform(test_df.dropna())"
      ],
      "metadata": {
        "id": "dkSOJwLX2PKs"
      },
      "execution_count": 57,
      "outputs": []
    },
    {
      "cell_type": "code",
      "source": [
        "lr_evaluator_r2 = RegressionEvaluator\\\n",
        "(predictionCol=\"prediction\",labelCol=\"ArrDelay\",metricName=\"r2\")\n",
        "print(\"R Squared (R2) on test data = %g\" \\\n",
        "      % lr_evaluator_r2.evaluate(everesult_df))"
      ],
      "metadata": {
        "colab": {
          "base_uri": "https://localhost:8080/"
        },
        "id": "aVlT3kck2XiC",
        "outputId": "f77efe97-50a7-4990-f818-783f31e6d9a6"
      },
      "execution_count": 58,
      "outputs": [
        {
          "output_type": "stream",
          "name": "stdout",
          "text": [
            "R Squared (R2) on test data = 0.71507\n"
          ]
        }
      ]
    },
    {
      "cell_type": "code",
      "source": [
        "lr_evaluator_rmse = RegressionEvaluator\\\n",
        "(predictionCol=\"prediction\",labelCol=\"ArrDelay\",metricName=\"rmse\")\n",
        "print(\"Root Mean Squared Error (RMSE) on test data = %g\" \\\n",
        "      % lr_evaluator_rmse.evaluate(everesult_df))"
      ],
      "metadata": {
        "id": "A3w-7UV52gDz",
        "colab": {
          "base_uri": "https://localhost:8080/"
        },
        "outputId": "e78e42fd-1ddd-415a-8d5d-f84d090d1178"
      },
      "execution_count": 59,
      "outputs": [
        {
          "output_type": "stream",
          "name": "stdout",
          "text": [
            "Root Mean Squared Error (RMSE) on test data = 0.0069116\n"
          ]
        }
      ]
    },
    {
      "cell_type": "markdown",
      "source": [
        "##HOMEWORK 4: Improving model performance\n"
      ],
      "metadata": {
        "id": "l4pN8uy544xg"
      }
    },
    {
      "cell_type": "code",
      "source": [
        "#1st normalize all numerical features (TaxiOut|TaxiIn|DepDelay|DayOfWeek)\n",
        "#2nd algorithm = linear regression"
      ],
      "metadata": {
        "id": "D7kjUzOU449o"
      },
      "execution_count": 64,
      "outputs": []
    },
    {
      "cell_type": "code",
      "source": [
        "max_taxiout = final_df.select(max('TaxiOut')).collect()[0][0]\n",
        "min_taxiout = final_df.select(min('TaxiOut')).collect()[0][0]\n",
        "\n",
        "max_taxiin = final_df.select(max('TaxiIn')).collect()[0][0]\n",
        "min_taxiin = final_df.select(min('TaxiIn')).collect()[0][0]\n",
        "\n",
        "max_DepDelay = final_df.select(max('DepDelay')).collect()[0][0]\n",
        "min_DepDelay = final_df.select(min('DepDelay')).collect()[0][0]\n",
        "\n",
        "max_DayOfWeek = final_df.select(max('DayOfWeek')).collect()[0][0]\n",
        "min_DayOfWeek = final_df.select(min('DayOfWeek')).collect()[0][0]"
      ],
      "metadata": {
        "id": "ftNaZO4bF1IQ"
      },
      "execution_count": 70,
      "outputs": []
    },
    {
      "cell_type": "code",
      "source": [
        "def t_normalized_taxiout(origin):\n",
        "    if origin is None:\n",
        "        return None\n",
        "    else:\n",
        "        return ((origin-min_taxiout)/(max_taxiout-min_taxiout))\n",
        "\n",
        "def t_normalized_taxiin(origin):\n",
        "    if origin is None:\n",
        "        return None\n",
        "    else:\n",
        "        return ((origin-min_taxiin)/(max_taxiin-min_taxiin))\n",
        "\n",
        "def t_normalized_DepDelay(origin):\n",
        "    if origin is None:\n",
        "        return None\n",
        "    else:\n",
        "        return ((origin-min_DepDelay)/(max_DepDelay-min_DepDelay))\n",
        "\n",
        "def t_normalized_DayOfWeek(origin):\n",
        "    if origin is None:\n",
        "        return None\n",
        "    else:\n",
        "        return ((origin-min_DayOfWeek)/(max_DayOfWeek-min_DayOfWeek))"
      ],
      "metadata": {
        "id": "FEScWd-UFZly"
      },
      "execution_count": 79,
      "outputs": []
    },
    {
      "cell_type": "code",
      "source": [
        "normalized_taxiout = udf(lambda x: t_normalized_taxiout(x),DoubleType())\n",
        "\n",
        "normalized_taxiin = udf(lambda x: t_normalized_taxiin(x),DoubleType())\n",
        "\n",
        "normalized_DepDelay = udf(lambda x: t_normalized_DepDelay(x),DoubleType())\n",
        "\n",
        "normalized_DayOfWeek = udf(lambda x: t_normalized_DayOfWeek(x),DoubleType())"
      ],
      "metadata": {
        "id": "aH5lCnAkFo58"
      },
      "execution_count": 83,
      "outputs": []
    },
    {
      "cell_type": "code",
      "source": [
        "final_df2 = final_df.\\\n",
        "withColumn('TaxiOut', normalized_taxiout(final_df['TaxiOut'])).\\\n",
        "withColumn('TaxiIn', normalized_taxiin(final_df['TaxiIn'])).\\\n",
        "withColumn('DepDelay', normalized_DepDelay(final_df['DepDelay'])).\\\n",
        "withColumn('DayOfWeek', normalized_DayOfWeek(final_df['DayOfWeek']))"
      ],
      "metadata": {
        "id": "2DFdIPk8FZl9"
      },
      "execution_count": 84,
      "outputs": []
    },
    {
      "cell_type": "code",
      "source": [
        "final_df2.show()"
      ],
      "metadata": {
        "colab": {
          "base_uri": "https://localhost:8080/"
        },
        "id": "gVCn07JECkyv",
        "outputId": "4f3440bd-8065-44ab-c38d-113b8224dc64"
      },
      "execution_count": 87,
      "outputs": [
        {
          "output_type": "stream",
          "name": "stdout",
          "text": [
            "+-------+-------------+-------+-------+-----------+--------------------+-------------------+--------------------+-------------------+-------------------+--------------------+\n",
            "|summary|UniqueCarrier| Origin|   Dest|    DepTime|             TaxiOut|             TaxiIn|            DepDelay|          DayOfWeek|           Distance|            ArrDelay|\n",
            "+-------+-------------+-------+-------+-----------+--------------------+-------------------+--------------------+-------------------+-------------------+--------------------+\n",
            "|  count|      6855029|6855029|6855029|    6855029|             6855029|            6855029|             6855029|            6855029|            6855029|             6855029|\n",
            "|   mean|         null|   null|   null|       null| 0.03833026652074983|0.02227321514075802|    0.18124753247614|0.48763365309360956| 0.1449694675338908| 0.17690216523079222|\n",
            "| stddev|         null|   null|   null|       null|0.026365082778643384|0.01601046650097971|0.011730710860230004|0.33140990112739005|0.11376383165487283|0.012920113070076488|\n",
            "|    min|           9E|    ABE|    ABE|00.01-05.59|                 0.0|                0.0|                 0.0|                0.0|                0.0|                 0.0|\n",
            "|    max|           YV|    YUM|    YUM|18.00-24.00|                 1.0|                1.0|                 1.0|                1.0|                1.0|                 1.0|\n",
            "+-------+-------------+-------+-------+-----------+--------------------+-------------------+--------------------+-------------------+-------------------+--------------------+\n",
            "\n"
          ]
        }
      ]
    },
    {
      "cell_type": "markdown",
      "source": [
        "##New Model"
      ],
      "metadata": {
        "id": "53c1DgiIDN7U"
      }
    },
    {
      "cell_type": "code",
      "source": [
        "training_df2,test_df2 = final_df2.\\\n",
        "randomSplit([0.80,0.20], seed = 12)"
      ],
      "metadata": {
        "id": "auQlz_JtC2Pu"
      },
      "execution_count": 88,
      "outputs": []
    },
    {
      "cell_type": "code",
      "source": [
        "#Linear regression\n",
        "from pyspark.ml.regression import LinearRegression\n",
        "lr = LinearRegression\\\n",
        "(labelCol='ArrDelay',featuresCol='***features')"
      ],
      "metadata": {
        "id": "tJ-wyuStID3W"
      },
      "execution_count": 89,
      "outputs": []
    },
    {
      "cell_type": "code",
      "source": [
        "pipeline_lr = Pipeline().\\\n",
        "setStages([UniqueCarrierIndexer,\\\n",
        "           UniqueCarrierOneHotEncoder,\\\n",
        "           DepTimeIndexer,\\\n",
        "           OriginIndexer ,\\\n",
        "           OriginOneHotEncoder,\\\n",
        "           DestIndexer,\\\n",
        "           DestOneHotEncoder,\\\n",
        "           featureAssembler,lr])"
      ],
      "metadata": {
        "id": "YxNz839UH51A"
      },
      "execution_count": 90,
      "outputs": []
    },
    {
      "cell_type": "code",
      "source": [
        "lrModel = pipeline_lr.fit(training_df2)"
      ],
      "metadata": {
        "id": "dD65QrHiDAOk"
      },
      "execution_count": 91,
      "outputs": []
    },
    {
      "cell_type": "code",
      "source": [
        "result_df2 = lrModel.transform(test_df2.dropna())"
      ],
      "metadata": {
        "id": "x7R3doYjDWvK"
      },
      "execution_count": 92,
      "outputs": []
    },
    {
      "cell_type": "code",
      "source": [
        "result_df2.select(['ArrDelay','Prediction']).show(10)"
      ],
      "metadata": {
        "colab": {
          "base_uri": "https://localhost:8080/"
        },
        "outputId": "c9158ba9-446a-4633-b946-4d444243d61a",
        "id": "O02RXuwVDWvK"
      },
      "execution_count": 93,
      "outputs": [
        {
          "output_type": "stream",
          "name": "stdout",
          "text": [
            "+-------------------+-------------------+\n",
            "|           ArrDelay|         Prediction|\n",
            "+-------------------+-------------------+\n",
            "|0.17348993288590603|0.17154205214602974|\n",
            "|0.18053691275167785| 0.1790834208865687|\n",
            "|0.17013422818791946|  0.172762565481731|\n",
            "| 0.1714765100671141| 0.1729673289054487|\n",
            "|0.17651006711409395|0.17679872891270176|\n",
            "|0.17583892617449665|0.17673271389452255|\n",
            "|0.18523489932885906|0.18750823274834252|\n",
            "|  0.174496644295302|0.17395881051922896|\n",
            "|0.17315436241610738| 0.1732770397707348|\n",
            "|0.16946308724832215| 0.1689061111401872|\n",
            "+-------------------+-------------------+\n",
            "only showing top 10 rows\n",
            "\n"
          ]
        }
      ]
    },
    {
      "cell_type": "code",
      "source": [
        "everesult_df2 = lrModel.transform(test_df2.dropna())"
      ],
      "metadata": {
        "id": "y3L8980ADWvL"
      },
      "execution_count": 94,
      "outputs": []
    },
    {
      "cell_type": "code",
      "source": [
        "lr_evaluator_r2 = RegressionEvaluator\\\n",
        "(predictionCol=\"prediction\",labelCol=\"ArrDelay\",metricName=\"r2\")\n",
        "print(\"R Squared (R2) on test data = %g\" \\\n",
        "      % lr_evaluator_r2.evaluate(everesult_df2))"
      ],
      "metadata": {
        "colab": {
          "base_uri": "https://localhost:8080/"
        },
        "outputId": "643a9140-0cf0-4a32-ceb9-8f1409b0441d",
        "id": "XiT-cuURDWvL"
      },
      "execution_count": 95,
      "outputs": [
        {
          "output_type": "stream",
          "name": "stdout",
          "text": [
            "R Squared (R2) on test data = 0.944345\n"
          ]
        }
      ]
    },
    {
      "cell_type": "code",
      "source": [
        "lr_evaluator_rmse = RegressionEvaluator\\\n",
        "(predictionCol=\"prediction\",labelCol=\"ArrDelay\",metricName=\"rmse\")\n",
        "print(\"Root Mean Squared Error (RMSE) on test data = %g\" \\\n",
        "      % lr_evaluator_rmse.evaluate(everesult_df2))"
      ],
      "metadata": {
        "colab": {
          "base_uri": "https://localhost:8080/"
        },
        "outputId": "e194b47d-64df-458d-bf8f-9796e9381f34",
        "id": "k5bLFkrYDWvL"
      },
      "execution_count": 96,
      "outputs": [
        {
          "output_type": "stream",
          "name": "stdout",
          "text": [
            "Root Mean Squared Error (RMSE) on test data = 0.00305466\n"
          ]
        }
      ]
    },
    {
      "cell_type": "markdown",
      "source": [
        "##Baseline performance\n",
        "\n",
        "##R Squared (R2) on test data = 0.71507\n",
        "##Root Mean Squared Error (RMSE) on test data = 0.0069116\n",
        "\n",
        "##After normalization of all numerical featured and fitting with LinearRegression\n",
        "\n",
        "##R Squared (R2) on test data = 0.944345\n",
        "##Root Mean Squared Error (RMSE) on test data = 0.00305466"
      ],
      "metadata": {
        "id": "uf46EdEFC9dQ"
      }
    },
    {
      "cell_type": "markdown",
      "source": [
        ""
      ],
      "metadata": {
        "id": "c6RpH1O6C9gL"
      }
    },
    {
      "cell_type": "markdown",
      "source": [
        ""
      ],
      "metadata": {
        "id": "Br4BUc_hRnrr"
      }
    },
    {
      "cell_type": "markdown",
      "source": [
        ""
      ],
      "metadata": {
        "id": "7ByX3Cf0Rnv3"
      }
    },
    {
      "cell_type": "markdown",
      "source": [
        "##Next Move\n",
        "\n",
        "#use standardscaler\n",
        "#use poylnomial features\n",
        "#feature engineering\n",
        "#try another algorithm eg gradient boost"
      ],
      "metadata": {
        "id": "RwU8eXgkPTy8"
      }
    },
    {
      "cell_type": "code",
      "source": [
        "from pyspark.ml.feature import StandardScaler\n",
        "'''discretized_df\n",
        "then.....select(['UniqueCarrier','Origin','Dest',\\\n",
        "        'DepTime','TaxiOut','TaxiIn','DepDelay',\\\n",
        "        'DayOfWeek','Distance','ArrDelay'])\n",
        "then...dropna        \n",
        "'''\n",
        "\n",
        "final_df3 = discretized_df.select(['UniqueCarrier','Origin','Dest',\\\n",
        "        'DepTime','TaxiOut','TaxiIn','DepDelay',\\\n",
        "        'DayOfWeek','Distance','ArrDelay']).\\\n",
        "        dropna()\n",
        "\n",
        "cols_to_scale = ['TaxiOut','TaxiIn','DepDelay','DayOfWeek','Distance','ArrDelay']   #TaxiOut|TaxiIn|DepDelay|DayOfWeek|            Distance|           ArrDelay|\n",
        "cols_to_keep_unscaled = ['UniqueCarrier','Origin','Dest','DepTime']     #UniqueCarrier|Origin|Dest|    DepTim\n",
        "\n",
        "scaler = StandardScaler(inputCol=\"features\", outputCol=\"scaledFeatures\")\n",
        "assembler = VectorAssembler().setInputCols(cols_to_scale).setOutputCol(\"features\")\n",
        "final_df3_transformed = assembler.transform(final_df3)\n",
        "scaler_model = scaler.fit(final_df3_transformed.select(\"features\"))\n",
        "final_df3_scaled = scaler_model.transform(final_df3_transformed)\n",
        "\n",
        "def extract(row):\n",
        "  return (row.a, row.b,) + tuple(row.scaledFeatures.toArray().tolist())\n",
        "\n",
        "final_df3_scaled = final_df3_scaled.select(*cols_to_keep_unscaled, \"scaledFeatures\").rdd \\\n",
        "        .map(extract).toDF(cols_to_keep_unscaled + cols_to_scale)\n",
        "  \n",
        "  \n",
        "final_df3_scaled.describe().show()\n",
        " "
      ],
      "metadata": {
        "id": "Z8LhN_UEAGtM"
      },
      "execution_count": null,
      "outputs": []
    },
    {
      "cell_type": "code",
      "source": [
        "training_df3,test_df3 = final_df3.\\\n",
        "randomSplit([0.80,0.20], seed = 12)"
      ],
      "metadata": {
        "id": "nph139kURus-"
      },
      "execution_count": null,
      "outputs": []
    },
    {
      "cell_type": "code",
      "source": [
        "lrModel = pipeline_lr.fit(training_df3)"
      ],
      "metadata": {
        "id": "4OWin_fRRhY2"
      },
      "execution_count": null,
      "outputs": []
    },
    {
      "cell_type": "code",
      "source": [
        "result_df3 = lrModel.transform(test_df3.dropna())"
      ],
      "metadata": {
        "id": "En8R9o3eRhY3"
      },
      "execution_count": null,
      "outputs": []
    },
    {
      "cell_type": "code",
      "source": [
        "result_df3.select(['ArrDelay','Prediction']).show(10)"
      ],
      "metadata": {
        "id": "UccuGlBmRhY3"
      },
      "execution_count": null,
      "outputs": []
    },
    {
      "cell_type": "code",
      "source": [
        "everesult_df3 = lrModel.transform(test_df3.dropna())"
      ],
      "metadata": {
        "id": "WxLVPTJzRhY3"
      },
      "execution_count": null,
      "outputs": []
    },
    {
      "cell_type": "code",
      "source": [
        "lr_evaluator_r2 = RegressionEvaluator\\\n",
        "(predictionCol=\"prediction\",labelCol=\"ArrDelay\",metricName=\"r2\")\n",
        "print(\"R Squared (R2) on test data = %g\" \\\n",
        "      % lr_evaluator_r2.evaluate(everesult_df3))"
      ],
      "metadata": {
        "id": "AmcILkuHRhY3"
      },
      "execution_count": null,
      "outputs": []
    },
    {
      "cell_type": "code",
      "source": [
        "lr_evaluator_rmse = RegressionEvaluator\\\n",
        "(predictionCol=\"prediction\",labelCol=\"ArrDelay\",metricName=\"rmse\")\n",
        "print(\"Root Mean Squared Error (RMSE) on test data = %g\" \\\n",
        "      % lr_evaluator_rmse.evaluate(everesult_df3))"
      ],
      "metadata": {
        "id": "S3U-lmdbRhY4"
      },
      "execution_count": null,
      "outputs": []
    }
  ]
}