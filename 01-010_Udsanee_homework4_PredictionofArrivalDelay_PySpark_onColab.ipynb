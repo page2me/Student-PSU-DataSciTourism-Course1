{
  "nbformat": 4,
  "nbformat_minor": 0,
  "metadata": {
    "kernelspec": {
      "display_name": "Python 3",
      "language": "python",
      "name": "python3"
    },
    "language_info": {
      "codemirror_mode": {
        "name": "ipython",
        "version": 3
      },
      "file_extension": ".py",
      "mimetype": "text/x-python",
      "name": "python",
      "nbconvert_exporter": "python",
      "pygments_lexer": "ipython3",
      "version": "3.6.1"
    },
    "colab": {
      "name": "Copy of PredictionofArrivalDelay-PySpark-onColab.ipynb",
      "provenance": [],
      "collapsed_sections": []
    }
  },
  "cells": [
    {
      "cell_type": "code",
      "metadata": {
        "id": "0dTkA-bDa5bm"
      },
      "source": [
        "!apt-get install openjdk-8-jdk-headless -qq > /dev/null\n",
        "!wget -q https://archive.apache.org/dist/spark/spark-2.4.1/spark-2.4.1-bin-hadoop2.7.tgz\n",
        "!tar xf spark-2.4.1-bin-hadoop2.7.tgz\n",
        "!pip install -q findspark"
      ],
      "execution_count": 355,
      "outputs": []
    },
    {
      "cell_type": "code",
      "metadata": {
        "id": "cy4_WOqEa5GJ"
      },
      "source": [
        "import os\n",
        "os.environ[\"JAVA_HOME\"] = \"/usr/lib/jvm/java-8-openjdk-amd64\"\n",
        "os.environ[\"SPARK_HOME\"] = \"/content/spark-2.4.1-bin-hadoop2.7\""
      ],
      "execution_count": 356,
      "outputs": []
    },
    {
      "cell_type": "code",
      "metadata": {
        "id": "kI7zVpqja4du"
      },
      "source": [
        "import findspark\n",
        "findspark.init()\n",
        "from pyspark.sql import SparkSession\n",
        "spark = SparkSession.builder.master(\"local[*]\").getOrCreate()"
      ],
      "execution_count": 357,
      "outputs": []
    },
    {
      "cell_type": "code",
      "metadata": {
        "collapsed": true,
        "id": "gLOiqgf1a2Ku"
      },
      "source": [
        "from pyspark.sql import SparkSession"
      ],
      "execution_count": 358,
      "outputs": []
    },
    {
      "cell_type": "code",
      "metadata": {
        "collapsed": true,
        "id": "GBqMbCCxa2Kv"
      },
      "source": [
        "spark = SparkSession.builder \\\n",
        "   .appName(\"Neural Network Model\") \\\n",
        "   .config(\"spark.executor.memory\", \"3gb\") \\\n",
        "   .getOrCreate()\n",
        "   \n",
        "sc = spark.sparkContext"
      ],
      "execution_count": 359,
      "outputs": []
    },
    {
      "cell_type": "code",
      "metadata": {
        "id": "MjoDgjaja2Kv",
        "colab": {
          "base_uri": "https://localhost:8080/",
          "height": 198
        },
        "outputId": "c92be199-594e-4863-aee2-c20bbc0578af"
      },
      "source": [
        "sc"
      ],
      "execution_count": 360,
      "outputs": [
        {
          "output_type": "execute_result",
          "data": {
            "text/html": [
              "\n",
              "        <div>\n",
              "            <p><b>SparkContext</b></p>\n",
              "\n",
              "            <p><a href=\"http://f62b80b1ec26:4040\">Spark UI</a></p>\n",
              "\n",
              "            <dl>\n",
              "              <dt>Version</dt>\n",
              "                <dd><code>v2.4.1</code></dd>\n",
              "              <dt>Master</dt>\n",
              "                <dd><code>local[*]</code></dd>\n",
              "              <dt>AppName</dt>\n",
              "                <dd><code>pyspark-shell</code></dd>\n",
              "            </dl>\n",
              "        </div>\n",
              "        "
            ],
            "text/plain": [
              "<SparkContext master=local[*] appName=pyspark-shell>"
            ]
          },
          "metadata": {},
          "execution_count": 360
        }
      ]
    },
    {
      "cell_type": "markdown",
      "source": [
        "**2. Data Understanding using SparkSQL**"
      ],
      "metadata": {
        "id": "TLDou9Hoh7d6"
      }
    },
    {
      "cell_type": "code",
      "metadata": {
        "id": "I7c5vxPNAPVi",
        "outputId": "439fef45-0497-4949-8de5-6ebfca684497",
        "colab": {
          "base_uri": "https://localhost:8080/"
        }
      },
      "source": [
        "! wget https://storage.googleapis.com/class25jan2022/share/2008.csv"
      ],
      "execution_count": 361,
      "outputs": [
        {
          "output_type": "stream",
          "name": "stdout",
          "text": [
            "--2022-02-03 09:03:01--  https://storage.googleapis.com/class25jan2022/share/2008.csv\n",
            "Resolving storage.googleapis.com (storage.googleapis.com)... 209.85.146.128, 209.85.147.128, 142.250.136.128, ...\n",
            "Connecting to storage.googleapis.com (storage.googleapis.com)|209.85.146.128|:443... connected.\n",
            "HTTP request sent, awaiting response... 200 OK\n",
            "Length: 689413344 (657M) [text/csv]\n",
            "Saving to: ‘2008.csv.3’\n",
            "\n",
            "2008.csv.3          100%[===================>] 657.48M   151MB/s    in 4.6s    \n",
            "\n",
            "2022-02-03 09:03:06 (144 MB/s) - ‘2008.csv.3’ saved [689413344/689413344]\n",
            "\n"
          ]
        }
      ]
    },
    {
      "cell_type": "code",
      "source": [
        "! wc -l ./2008.csv"
      ],
      "metadata": {
        "id": "uojN1MQGiAvK",
        "outputId": "4796f8cd-dc50-4506-ce15-70b90ed8b94f",
        "colab": {
          "base_uri": "https://localhost:8080/"
        }
      },
      "execution_count": 362,
      "outputs": [
        {
          "output_type": "stream",
          "name": "stdout",
          "text": [
            "7009729 ./2008.csv\n"
          ]
        }
      ]
    },
    {
      "cell_type": "code",
      "source": [
        "! head -3 2008.csv"
      ],
      "metadata": {
        "id": "zqqblQ21lwMY",
        "outputId": "a2edc0fc-3fa2-46af-f20d-d6f1b648c96d",
        "colab": {
          "base_uri": "https://localhost:8080/"
        }
      },
      "execution_count": 363,
      "outputs": [
        {
          "output_type": "stream",
          "name": "stdout",
          "text": [
            "Year,Month,DayofMonth,DayOfWeek,DepTime,CRSDepTime,ArrTime,CRSArrTime,UniqueCarrier,FlightNum,TailNum,ActualElapsedTime,CRSElapsedTime,AirTime,ArrDelay,DepDelay,Origin,Dest,Distance,TaxiIn,TaxiOut,Cancelled,CancellationCode,Diverted,CarrierDelay,WeatherDelay,NASDelay,SecurityDelay,LateAircraftDelay\n",
            "2008,1,3,4,2003,1955,2211,2225,WN,335,N712SW,128,150,116,-14,8,IAD,TPA,810,4,8,0,,0,NA,NA,NA,NA,NA\n",
            "2008,1,3,4,754,735,1002,1000,WN,3231,N772SW,128,145,113,2,19,IAD,TPA,810,5,10,0,,0,NA,NA,NA,NA,NA\n"
          ]
        }
      ]
    },
    {
      "cell_type": "code",
      "source": [
        "raw_df = spark.read.format('csv').\\\n",
        "option('header','true').option('mode','DROPMALFORMED')\\\n",
        ".load('2008.csv')"
      ],
      "metadata": {
        "id": "cDq69I8Mlx7a"
      },
      "execution_count": 364,
      "outputs": []
    },
    {
      "cell_type": "code",
      "source": [
        "raw_df.count()"
      ],
      "metadata": {
        "id": "TB9PI8WFl5n7",
        "outputId": "e3b8935b-75f6-46be-d7c8-3dfac4e1bc30",
        "colab": {
          "base_uri": "https://localhost:8080/"
        }
      },
      "execution_count": 365,
      "outputs": [
        {
          "output_type": "execute_result",
          "data": {
            "text/plain": [
              "7009728"
            ]
          },
          "metadata": {},
          "execution_count": 365
        }
      ]
    },
    {
      "cell_type": "code",
      "source": [
        "raw_df.printSchema()"
      ],
      "metadata": {
        "id": "_VNu0r3nl9wj",
        "outputId": "c5990e19-d73f-4177-8cb4-def2090793b1",
        "colab": {
          "base_uri": "https://localhost:8080/"
        }
      },
      "execution_count": 366,
      "outputs": [
        {
          "output_type": "stream",
          "name": "stdout",
          "text": [
            "root\n",
            " |-- Year: string (nullable = true)\n",
            " |-- Month: string (nullable = true)\n",
            " |-- DayofMonth: string (nullable = true)\n",
            " |-- DayOfWeek: string (nullable = true)\n",
            " |-- DepTime: string (nullable = true)\n",
            " |-- CRSDepTime: string (nullable = true)\n",
            " |-- ArrTime: string (nullable = true)\n",
            " |-- CRSArrTime: string (nullable = true)\n",
            " |-- UniqueCarrier: string (nullable = true)\n",
            " |-- FlightNum: string (nullable = true)\n",
            " |-- TailNum: string (nullable = true)\n",
            " |-- ActualElapsedTime: string (nullable = true)\n",
            " |-- CRSElapsedTime: string (nullable = true)\n",
            " |-- AirTime: string (nullable = true)\n",
            " |-- ArrDelay: string (nullable = true)\n",
            " |-- DepDelay: string (nullable = true)\n",
            " |-- Origin: string (nullable = true)\n",
            " |-- Dest: string (nullable = true)\n",
            " |-- Distance: string (nullable = true)\n",
            " |-- TaxiIn: string (nullable = true)\n",
            " |-- TaxiOut: string (nullable = true)\n",
            " |-- Cancelled: string (nullable = true)\n",
            " |-- CancellationCode: string (nullable = true)\n",
            " |-- Diverted: string (nullable = true)\n",
            " |-- CarrierDelay: string (nullable = true)\n",
            " |-- WeatherDelay: string (nullable = true)\n",
            " |-- NASDelay: string (nullable = true)\n",
            " |-- SecurityDelay: string (nullable = true)\n",
            " |-- LateAircraftDelay: string (nullable = true)\n",
            "\n"
          ]
        }
      ]
    },
    {
      "cell_type": "code",
      "source": [
        "raw_df\\\n",
        ".select(['DepTime','TaxiOut','TaxiIn',\\\n",
        "                     'DayOfWeek','Distance','ArrDelay'])\\\n",
        "                     .describe().show()"
      ],
      "metadata": {
        "colab": {
          "base_uri": "https://localhost:8080/"
        },
        "id": "Kf8Eeckv77qi",
        "outputId": "15784626-5199-4c4d-f387-7c29d8fcf046"
      },
      "execution_count": 367,
      "outputs": [
        {
          "output_type": "stream",
          "name": "stdout",
          "text": [
            "+-------+------------------+------------------+-----------------+------------------+-----------------+-----------------+\n",
            "|summary|           DepTime|           TaxiOut|           TaxiIn|         DayOfWeek|         Distance|         ArrDelay|\n",
            "+-------+------------------+------------------+-----------------+------------------+-----------------+-----------------+\n",
            "|  count|           7009728|           7009728|          7009728|           7009728|          7009728|          7009728|\n",
            "|   mean|1333.8300461105448|16.453045177492882|6.860851704974527|3.9241815088973495|726.3870294253928| 8.16845238729114|\n",
            "| stddev|478.06889486629836|11.332798654232155|4.933649371300466|1.9882589459851212|562.1018034840403|38.50193694882867|\n",
            "|    min|                 1|                 0|                0|                 1|              100|               -1|\n",
            "|    max|                NA|                NA|               NA|                 7|              999|               NA|\n",
            "+-------+------------------+------------------+-----------------+------------------+-----------------+-----------------+\n",
            "\n"
          ]
        }
      ]
    },
    {
      "cell_type": "code",
      "source": [
        "raw_df.groupBy('month').count().orderBy('count',ascending=False).show()"
      ],
      "metadata": {
        "colab": {
          "base_uri": "https://localhost:8080/"
        },
        "id": "OKjYsyj_F16m",
        "outputId": "3cc17bf3-6fbd-4cdb-9055-1d574467efa1"
      },
      "execution_count": 368,
      "outputs": [
        {
          "output_type": "stream",
          "name": "stdout",
          "text": [
            "+-----+------+\n",
            "|month| count|\n",
            "+-----+------+\n",
            "|    7|627931|\n",
            "|    3|616090|\n",
            "|    8|612279|\n",
            "|    6|608665|\n",
            "|    5|606293|\n",
            "|    1|605765|\n",
            "|    4|598126|\n",
            "|    2|569236|\n",
            "|   10|556205|\n",
            "|   12|544958|\n",
            "|    9|540908|\n",
            "|   11|523272|\n",
            "+-----+------+\n",
            "\n"
          ]
        }
      ]
    },
    {
      "cell_type": "code",
      "source": [
        "from pyspark.sql import functions as sparkf"
      ],
      "metadata": {
        "id": "d6UYbZgFGsqg"
      },
      "execution_count": 369,
      "outputs": []
    },
    {
      "cell_type": "code",
      "source": [
        "raw_df.groupBy('month').agg({'month':'count','ArrDelay':'avg'})\\\n",
        ".withColumnRenamed('count(month)','numMonth')\\\n",
        ".withColumnRenamed('avg(ArrDelay)','avgArrDelay')\\\n",
        ".orderBy(sparkf.col('numMonth').desc(),sparkf.col('avgArrDelay').desc()).show()"
      ],
      "metadata": {
        "colab": {
          "base_uri": "https://localhost:8080/"
        },
        "id": "onzB_mE078mo",
        "outputId": "e6b742de-94ca-4da7-8461-312e7acf0b0d"
      },
      "execution_count": 370,
      "outputs": [
        {
          "output_type": "stream",
          "name": "stdout",
          "text": [
            "+-----+--------+------------------+\n",
            "|month|numMonth|       avgArrDelay|\n",
            "+-----+--------+------------------+\n",
            "|    7|  627931| 9.975049681276131|\n",
            "|    3|  616090| 11.19236458018227|\n",
            "|    8|  612279|  6.91091468997087|\n",
            "|    6|  608665|13.266756009659792|\n",
            "|    5|  606293| 5.978448290248828|\n",
            "|    1|  605765|10.188855960349496|\n",
            "|    4|  598126| 6.807297481094145|\n",
            "|    2|  569236|13.077836997760205|\n",
            "|   10|  556205|0.4154954706912698|\n",
            "|   12|  544958|16.680505081496417|\n",
            "|    9|  540908|0.6977328787273043|\n",
            "|   11|  523272| 2.015857969430839|\n",
            "+-----+--------+------------------+\n",
            "\n"
          ]
        }
      ]
    },
    {
      "cell_type": "code",
      "source": [
        "raw_df.select(['DepTime','TaxiOut','TaxiIn',\\\n",
        "                     'DayOfWeek','Distance','ArrDelay']).show(10)"
      ],
      "metadata": {
        "colab": {
          "base_uri": "https://localhost:8080/"
        },
        "id": "8Y5yw8azwr7k",
        "outputId": "79afe2e6-33e2-4ffc-aa42-e1cdec94641b"
      },
      "execution_count": 391,
      "outputs": [
        {
          "output_type": "stream",
          "name": "stdout",
          "text": [
            "+-------+-------+------+---------+--------+--------+\n",
            "|DepTime|TaxiOut|TaxiIn|DayOfWeek|Distance|ArrDelay|\n",
            "+-------+-------+------+---------+--------+--------+\n",
            "|   2003|      8|     4|        4|     810|     -14|\n",
            "|    754|     10|     5|        4|     810|       2|\n",
            "|    628|     17|     3|        4|     515|      14|\n",
            "|    926|      7|     3|        4|     515|      -6|\n",
            "|   1829|     10|     3|        4|     515|      34|\n",
            "|   1940|     10|     4|        4|     688|      11|\n",
            "|   1937|      7|     3|        4|    1591|      57|\n",
            "|   1039|      7|     7|        4|    1591|     -18|\n",
            "|    617|     19|     6|        4|     451|       2|\n",
            "|   1620|      6|     3|        4|     451|     -16|\n",
            "+-------+-------+------+---------+--------+--------+\n",
            "only showing top 10 rows\n",
            "\n"
          ]
        }
      ]
    },
    {
      "cell_type": "code",
      "source": [
        "raw_df2 = raw_df.withColumn(\"DepTime\",raw_df.DepTime.cast('double'))"
      ],
      "metadata": {
        "id": "DckeQe7l0Mzz"
      },
      "execution_count": 372,
      "outputs": []
    },
    {
      "cell_type": "code",
      "source": [
        "raw_df2.printSchema()"
      ],
      "metadata": {
        "colab": {
          "base_uri": "https://localhost:8080/"
        },
        "id": "w54pdSho0dgR",
        "outputId": "63562897-5c24-4a80-dd54-b55ffc6046cf"
      },
      "execution_count": 373,
      "outputs": [
        {
          "output_type": "stream",
          "name": "stdout",
          "text": [
            "root\n",
            " |-- Year: string (nullable = true)\n",
            " |-- Month: string (nullable = true)\n",
            " |-- DayofMonth: string (nullable = true)\n",
            " |-- DayOfWeek: string (nullable = true)\n",
            " |-- DepTime: double (nullable = true)\n",
            " |-- CRSDepTime: string (nullable = true)\n",
            " |-- ArrTime: string (nullable = true)\n",
            " |-- CRSArrTime: string (nullable = true)\n",
            " |-- UniqueCarrier: string (nullable = true)\n",
            " |-- FlightNum: string (nullable = true)\n",
            " |-- TailNum: string (nullable = true)\n",
            " |-- ActualElapsedTime: string (nullable = true)\n",
            " |-- CRSElapsedTime: string (nullable = true)\n",
            " |-- AirTime: string (nullable = true)\n",
            " |-- ArrDelay: string (nullable = true)\n",
            " |-- DepDelay: string (nullable = true)\n",
            " |-- Origin: string (nullable = true)\n",
            " |-- Dest: string (nullable = true)\n",
            " |-- Distance: string (nullable = true)\n",
            " |-- TaxiIn: string (nullable = true)\n",
            " |-- TaxiOut: string (nullable = true)\n",
            " |-- Cancelled: string (nullable = true)\n",
            " |-- CancellationCode: string (nullable = true)\n",
            " |-- Diverted: string (nullable = true)\n",
            " |-- CarrierDelay: string (nullable = true)\n",
            " |-- WeatherDelay: string (nullable = true)\n",
            " |-- NASDelay: string (nullable = true)\n",
            " |-- SecurityDelay: string (nullable = true)\n",
            " |-- LateAircraftDelay: string (nullable = true)\n",
            "\n"
          ]
        }
      ]
    },
    {
      "cell_type": "code",
      "source": [
        "sparkf_converted_deptime = sparkf.udf(lambda x: 'NA' if x==None else x/100.00)"
      ],
      "metadata": {
        "id": "Ns0PD1MUyokN"
      },
      "execution_count": 374,
      "outputs": []
    },
    {
      "cell_type": "code",
      "source": [
        "raw_df3 = raw_df2.withColumn('DepTime', sparkf_converted_deptime(sparkf.col('DepTime')))"
      ],
      "metadata": {
        "id": "k9WsvtW4zSk7"
      },
      "execution_count": 375,
      "outputs": []
    },
    {
      "cell_type": "code",
      "source": [
        "raw_df3 = raw_df3.withColumn('DepTime1', sparkf.when((raw_df3.DepTime > 0.0) & (raw_df3.DepTime < 6.0) , '00.01-05.59').when((raw_df3.DepTime >= 6.0) & (raw_df3.DepTime < 12.0) , '06.00-11.59').when((raw_df3.DepTime >= 7.0) & (raw_df3.DepTime < 18.0) , '12.00-17.59').when((raw_df3.DepTime >= 18.0) & (raw_df3.DepTime <= 24.0) , '18.00-24.00'))"
      ],
      "metadata": {
        "id": "-gMKpOIXE4jO"
      },
      "execution_count": 376,
      "outputs": []
    },
    {
      "cell_type": "code",
      "source": [
        "raw_df3.show(10)"
      ],
      "metadata": {
        "colab": {
          "base_uri": "https://localhost:8080/"
        },
        "id": "pzHW2jQNWlfv",
        "outputId": "d772a775-3dad-46bc-8e8a-2c89b3fbdd5b"
      },
      "execution_count": 377,
      "outputs": [
        {
          "output_type": "stream",
          "name": "stdout",
          "text": [
            "+----+-----+----------+---------+-------+----------+-------+----------+-------------+---------+-------+-----------------+--------------+-------+--------+--------+------+----+--------+------+-------+---------+----------------+--------+------------+------------+--------+-------------+-----------------+-----------+\n",
            "|Year|Month|DayofMonth|DayOfWeek|DepTime|CRSDepTime|ArrTime|CRSArrTime|UniqueCarrier|FlightNum|TailNum|ActualElapsedTime|CRSElapsedTime|AirTime|ArrDelay|DepDelay|Origin|Dest|Distance|TaxiIn|TaxiOut|Cancelled|CancellationCode|Diverted|CarrierDelay|WeatherDelay|NASDelay|SecurityDelay|LateAircraftDelay|   DepTime1|\n",
            "+----+-----+----------+---------+-------+----------+-------+----------+-------------+---------+-------+-----------------+--------------+-------+--------+--------+------+----+--------+------+-------+---------+----------------+--------+------------+------------+--------+-------------+-----------------+-----------+\n",
            "|2008|    1|         3|        4|  20.03|      1955|   2211|      2225|           WN|      335| N712SW|              128|           150|    116|     -14|       8|   IAD| TPA|     810|     4|      8|        0|            null|       0|          NA|          NA|      NA|           NA|               NA|18.00-24.00|\n",
            "|2008|    1|         3|        4|   7.54|       735|   1002|      1000|           WN|     3231| N772SW|              128|           145|    113|       2|      19|   IAD| TPA|     810|     5|     10|        0|            null|       0|          NA|          NA|      NA|           NA|               NA|06.00-11.59|\n",
            "|2008|    1|         3|        4|   6.28|       620|    804|       750|           WN|      448| N428WN|               96|            90|     76|      14|       8|   IND| BWI|     515|     3|     17|        0|            null|       0|          NA|          NA|      NA|           NA|               NA|06.00-11.59|\n",
            "|2008|    1|         3|        4|   9.26|       930|   1054|      1100|           WN|     1746| N612SW|               88|            90|     78|      -6|      -4|   IND| BWI|     515|     3|      7|        0|            null|       0|          NA|          NA|      NA|           NA|               NA|06.00-11.59|\n",
            "|2008|    1|         3|        4|  18.29|      1755|   1959|      1925|           WN|     3920| N464WN|               90|            90|     77|      34|      34|   IND| BWI|     515|     3|     10|        0|            null|       0|           2|           0|       0|            0|               32|18.00-24.00|\n",
            "|2008|    1|         3|        4|   19.4|      1915|   2121|      2110|           WN|      378| N726SW|              101|           115|     87|      11|      25|   IND| JAX|     688|     4|     10|        0|            null|       0|          NA|          NA|      NA|           NA|               NA|18.00-24.00|\n",
            "|2008|    1|         3|        4|  19.37|      1830|   2037|      1940|           WN|      509| N763SW|              240|           250|    230|      57|      67|   IND| LAS|    1591|     3|      7|        0|            null|       0|          10|           0|       0|            0|               47|18.00-24.00|\n",
            "|2008|    1|         3|        4|  10.39|      1040|   1132|      1150|           WN|      535| N428WN|              233|           250|    219|     -18|      -1|   IND| LAS|    1591|     7|      7|        0|            null|       0|          NA|          NA|      NA|           NA|               NA|06.00-11.59|\n",
            "|2008|    1|         3|        4|   6.17|       615|    652|       650|           WN|       11| N689SW|               95|            95|     70|       2|       2|   IND| MCI|     451|     6|     19|        0|            null|       0|          NA|          NA|      NA|           NA|               NA|06.00-11.59|\n",
            "|2008|    1|         3|        4|   16.2|      1620|   1639|      1655|           WN|      810| N648SW|               79|            95|     70|     -16|       0|   IND| MCI|     451|     3|      6|        0|            null|       0|          NA|          NA|      NA|           NA|               NA|12.00-17.59|\n",
            "+----+-----+----------+---------+-------+----------+-------+----------+-------------+---------+-------+-----------------+--------------+-------+--------+--------+------+----+--------+------+-------+---------+----------------+--------+------------+------------+--------+-------------+-----------------+-----------+\n",
            "only showing top 10 rows\n",
            "\n"
          ]
        }
      ]
    },
    {
      "cell_type": "code",
      "source": [
        "raw_df3 = raw_df3.withColumn('DepTime1', sparkf.when((raw_df3.DepTime > 0.0) & (raw_df3.DepTime < 6.0) , '00.01-05.59').when((raw_df3.DepTime >= 6.0) & (raw_df3.DepTime < 12.0) , '06.00-11.59').when((raw_df3.DepTime >= 12.0) & (raw_df3.DepTime < 18.0) , '12.00-17.59').when((raw_df3.DepTime >= 18.0) & (raw_df3.DepTime <= 24.0) , '18.00-24.00').otherwise('null'))"
      ],
      "metadata": {
        "id": "b9Kty-4sZ2pl"
      },
      "execution_count": 393,
      "outputs": []
    },
    {
      "cell_type": "code",
      "source": [
        "raw_df3.groupBy('DepTime1').count().orderBy('DepTime1').show()"
      ],
      "metadata": {
        "colab": {
          "base_uri": "https://localhost:8080/"
        },
        "id": "z4lEZ4lzakql",
        "outputId": "e177d5ca-cff1-48e3-fd0a-5c708dbaf2bd"
      },
      "execution_count": 394,
      "outputs": [
        {
          "output_type": "stream",
          "name": "stdout",
          "text": [
            "+-----------+-------+\n",
            "|   DepTime1|  count|\n",
            "+-----------+-------+\n",
            "|00.01-05.59| 179949|\n",
            "|06.00-11.59|2643673|\n",
            "|12.00-17.59|2554672|\n",
            "|18.00-24.00|1495188|\n",
            "|       null| 136246|\n",
            "+-----------+-------+\n",
            "\n"
          ]
        }
      ]
    }
  ]
}