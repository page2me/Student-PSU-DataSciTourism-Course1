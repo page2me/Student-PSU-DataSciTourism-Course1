{
  "nbformat": 4,
  "nbformat_minor": 0,
  "metadata": {
    "kernelspec": {
      "display_name": "Python 3",
      "language": "python",
      "name": "python3"
    },
    "language_info": {
      "codemirror_mode": {
        "name": "ipython",
        "version": 3
      },
      "file_extension": ".py",
      "mimetype": "text/x-python",
      "name": "python",
      "nbconvert_exporter": "python",
      "pygments_lexer": "ipython3",
      "version": "3.6.1"
    },
    "colab": {
      "name": "01-168_Surapol-HomeWork3.ipynb",
      "provenance": [],
      "collapsed_sections": []
    }
  },
  "cells": [
    {
      "cell_type": "code",
      "metadata": {
        "id": "0dTkA-bDa5bm"
      },
      "source": [
        "!apt-get install openjdk-8-jdk-headless -qq > /dev/null\n",
        "!wget -q https://archive.apache.org/dist/spark/spark-2.4.1/spark-2.4.1-bin-hadoop2.7.tgz\n",
        "!tar xf spark-2.4.1-bin-hadoop2.7.tgz\n",
        "!pip install -q findspark"
      ],
      "execution_count": null,
      "outputs": []
    },
    {
      "cell_type": "code",
      "metadata": {
        "id": "cy4_WOqEa5GJ"
      },
      "source": [
        "import os\n",
        "os.environ[\"JAVA_HOME\"] = \"/usr/lib/jvm/java-8-openjdk-amd64\"\n",
        "os.environ[\"SPARK_HOME\"] = \"/content/spark-2.4.1-bin-hadoop2.7\""
      ],
      "execution_count": null,
      "outputs": []
    },
    {
      "cell_type": "code",
      "metadata": {
        "id": "kI7zVpqja4du"
      },
      "source": [
        "import findspark\n",
        "findspark.init()\n",
        "from pyspark.sql import SparkSession\n",
        "spark = SparkSession.builder.master(\"local[*]\").getOrCreate()"
      ],
      "execution_count": null,
      "outputs": []
    },
    {
      "cell_type": "code",
      "metadata": {
        "collapsed": true,
        "id": "gLOiqgf1a2Ku"
      },
      "source": [
        "from pyspark.sql import SparkSession"
      ],
      "execution_count": null,
      "outputs": []
    },
    {
      "cell_type": "code",
      "source": [
        "from pyspark.sql.functions import count,avg, col, desc"
      ],
      "metadata": {
        "id": "cm75e9CmXa1K"
      },
      "execution_count": null,
      "outputs": []
    },
    {
      "cell_type": "code",
      "metadata": {
        "collapsed": true,
        "id": "GBqMbCCxa2Kv"
      },
      "source": [
        "spark = SparkSession.builder \\\n",
        "   .appName(\"Neural Network Model\") \\\n",
        "   .config(\"spark.executor.memory\", \"3gb\") \\\n",
        "   .getOrCreate()\n",
        "   \n",
        "sc = spark.sparkContext"
      ],
      "execution_count": null,
      "outputs": []
    },
    {
      "cell_type": "code",
      "metadata": {
        "id": "MjoDgjaja2Kv",
        "colab": {
          "base_uri": "https://localhost:8080/",
          "height": 196
        },
        "outputId": "e5929ec7-bfc9-4038-ab8c-bef0f2d25f29"
      },
      "source": [
        "sc"
      ],
      "execution_count": null,
      "outputs": [
        {
          "output_type": "execute_result",
          "data": {
            "text/html": [
              "\n",
              "        <div>\n",
              "            <p><b>SparkContext</b></p>\n",
              "\n",
              "            <p><a href=\"http://f4eb789094e4:4040\">Spark UI</a></p>\n",
              "\n",
              "            <dl>\n",
              "              <dt>Version</dt>\n",
              "                <dd><code>v2.4.1</code></dd>\n",
              "              <dt>Master</dt>\n",
              "                <dd><code>local[*]</code></dd>\n",
              "              <dt>AppName</dt>\n",
              "                <dd><code>pyspark-shell</code></dd>\n",
              "            </dl>\n",
              "        </div>\n",
              "        "
            ],
            "text/plain": [
              "<SparkContext master=local[*] appName=pyspark-shell>"
            ]
          },
          "metadata": {},
          "execution_count": 66
        }
      ]
    },
    {
      "cell_type": "markdown",
      "source": [
        "**2. Data Understanding using SparkSQL**"
      ],
      "metadata": {
        "id": "TLDou9Hoh7d6"
      }
    },
    {
      "cell_type": "code",
      "metadata": {
        "id": "I7c5vxPNAPVi",
        "outputId": "961bf1f7-a671-4ac8-bdf4-0fb0b44ab854",
        "colab": {
          "base_uri": "https://localhost:8080/"
        }
      },
      "source": [
        "! wget https://storage.googleapis.com/class25jan2022/share/2008.csv"
      ],
      "execution_count": null,
      "outputs": [
        {
          "output_type": "stream",
          "name": "stdout",
          "text": [
            "--2022-01-30 14:22:49--  https://storage.googleapis.com/class25jan2022/share/2008.csv\n",
            "Resolving storage.googleapis.com (storage.googleapis.com)... 142.250.157.128, 142.251.8.128, 64.233.189.128, ...\n",
            "Connecting to storage.googleapis.com (storage.googleapis.com)|142.250.157.128|:443... connected.\n",
            "HTTP request sent, awaiting response... 200 OK\n",
            "Length: 689413344 (657M) [text/csv]\n",
            "Saving to: ‘2008.csv.2’\n",
            "\n",
            "2008.csv.2          100%[===================>] 657.48M   197MB/s    in 3.4s    \n",
            "\n",
            "2022-01-30 14:22:53 (192 MB/s) - ‘2008.csv.2’ saved [689413344/689413344]\n",
            "\n"
          ]
        }
      ]
    },
    {
      "cell_type": "code",
      "source": [
        "! wc -l ./2008.csv"
      ],
      "metadata": {
        "id": "uojN1MQGiAvK",
        "outputId": "5b88d4b6-1c8b-4f6d-e8f9-74bc0715e28e",
        "colab": {
          "base_uri": "https://localhost:8080/"
        }
      },
      "execution_count": null,
      "outputs": [
        {
          "output_type": "stream",
          "name": "stdout",
          "text": [
            "7009729 ./2008.csv\n"
          ]
        }
      ]
    },
    {
      "cell_type": "code",
      "source": [
        "! head -3 2008.csv"
      ],
      "metadata": {
        "id": "zqqblQ21lwMY",
        "outputId": "b9483143-45c9-4b36-ecf9-d72e028da772",
        "colab": {
          "base_uri": "https://localhost:8080/"
        }
      },
      "execution_count": null,
      "outputs": [
        {
          "output_type": "stream",
          "name": "stdout",
          "text": [
            "Year,Month,DayofMonth,DayOfWeek,DepTime,CRSDepTime,ArrTime,CRSArrTime,UniqueCarrier,FlightNum,TailNum,ActualElapsedTime,CRSElapsedTime,AirTime,ArrDelay,DepDelay,Origin,Dest,Distance,TaxiIn,TaxiOut,Cancelled,CancellationCode,Diverted,CarrierDelay,WeatherDelay,NASDelay,SecurityDelay,LateAircraftDelay\n",
            "2008,1,3,4,2003,1955,2211,2225,WN,335,N712SW,128,150,116,-14,8,IAD,TPA,810,4,8,0,,0,NA,NA,NA,NA,NA\n",
            "2008,1,3,4,754,735,1002,1000,WN,3231,N772SW,128,145,113,2,19,IAD,TPA,810,5,10,0,,0,NA,NA,NA,NA,NA\n"
          ]
        }
      ]
    },
    {
      "cell_type": "code",
      "source": [
        "raw_df = spark.read.format('csv').\\\n",
        "option('header','true').option('mode','DROPMALFORMED')\\\n",
        ".load('2008.csv')"
      ],
      "metadata": {
        "id": "cDq69I8Mlx7a"
      },
      "execution_count": null,
      "outputs": []
    },
    {
      "cell_type": "code",
      "source": [
        "raw_df.count()"
      ],
      "metadata": {
        "id": "zP6EyO_M78Xy",
        "colab": {
          "base_uri": "https://localhost:8080/"
        },
        "outputId": "c7c6eab9-1cb6-470b-f16c-ecc0ed8f84b6"
      },
      "execution_count": null,
      "outputs": [
        {
          "output_type": "execute_result",
          "data": {
            "text/plain": [
              "7009728"
            ]
          },
          "metadata": {},
          "execution_count": 71
        }
      ]
    },
    {
      "cell_type": "code",
      "source": [
        "raw_df.printSchema()"
      ],
      "metadata": {
        "colab": {
          "base_uri": "https://localhost:8080/"
        },
        "id": "CXLeglKaENQk",
        "outputId": "209ada51-a34c-47bc-d8d0-5d98a3dd12a6"
      },
      "execution_count": null,
      "outputs": [
        {
          "output_type": "stream",
          "name": "stdout",
          "text": [
            "root\n",
            " |-- Year: string (nullable = true)\n",
            " |-- Month: string (nullable = true)\n",
            " |-- DayofMonth: string (nullable = true)\n",
            " |-- DayOfWeek: string (nullable = true)\n",
            " |-- DepTime: string (nullable = true)\n",
            " |-- CRSDepTime: string (nullable = true)\n",
            " |-- ArrTime: string (nullable = true)\n",
            " |-- CRSArrTime: string (nullable = true)\n",
            " |-- UniqueCarrier: string (nullable = true)\n",
            " |-- FlightNum: string (nullable = true)\n",
            " |-- TailNum: string (nullable = true)\n",
            " |-- ActualElapsedTime: string (nullable = true)\n",
            " |-- CRSElapsedTime: string (nullable = true)\n",
            " |-- AirTime: string (nullable = true)\n",
            " |-- ArrDelay: string (nullable = true)\n",
            " |-- DepDelay: string (nullable = true)\n",
            " |-- Origin: string (nullable = true)\n",
            " |-- Dest: string (nullable = true)\n",
            " |-- Distance: string (nullable = true)\n",
            " |-- TaxiIn: string (nullable = true)\n",
            " |-- TaxiOut: string (nullable = true)\n",
            " |-- Cancelled: string (nullable = true)\n",
            " |-- CancellationCode: string (nullable = true)\n",
            " |-- Diverted: string (nullable = true)\n",
            " |-- CarrierDelay: string (nullable = true)\n",
            " |-- WeatherDelay: string (nullable = true)\n",
            " |-- NASDelay: string (nullable = true)\n",
            " |-- SecurityDelay: string (nullable = true)\n",
            " |-- LateAircraftDelay: string (nullable = true)\n",
            "\n"
          ]
        }
      ]
    },
    {
      "cell_type": "code",
      "source": [
        "raw_df.describe('DepTime','TaxiOut','TaxiIn','DayOfWeek','Distance','ArrDelay').show()"
      ],
      "metadata": {
        "colab": {
          "base_uri": "https://localhost:8080/"
        },
        "id": "qjdPZ53nGIHS",
        "outputId": "52e18c4b-c69b-42da-9428-74c1bad9dc66"
      },
      "execution_count": null,
      "outputs": [
        {
          "output_type": "stream",
          "name": "stdout",
          "text": [
            "+-------+------------------+------------------+-----------------+------------------+-----------------+-----------------+\n",
            "|summary|           DepTime|           TaxiOut|           TaxiIn|         DayOfWeek|         Distance|         ArrDelay|\n",
            "+-------+------------------+------------------+-----------------+------------------+-----------------+-----------------+\n",
            "|  count|           7009728|           7009728|          7009728|           7009728|          7009728|          7009728|\n",
            "|   mean|1333.8300461105448|16.453045177492882|6.860851704974527|3.9241815088973495|726.3870294253928| 8.16845238729114|\n",
            "| stddev|478.06889486629836|11.332798654232155|4.933649371300466|1.9882589459851212|562.1018034840403|38.50193694882867|\n",
            "|    min|                 1|                 0|                0|                 1|              100|               -1|\n",
            "|    max|                NA|                NA|               NA|                 7|              999|               NA|\n",
            "+-------+------------------+------------------+-----------------+------------------+-----------------+-----------------+\n",
            "\n"
          ]
        }
      ]
    },
    {
      "cell_type": "code",
      "source": [
        "raw_df.groupBy('Month').count().show()"
      ],
      "metadata": {
        "colab": {
          "base_uri": "https://localhost:8080/"
        },
        "id": "MnXThBhFGM6z",
        "outputId": "a809997b-dae1-4e69-ae48-d03f24d6f35e"
      },
      "execution_count": null,
      "outputs": [
        {
          "output_type": "stream",
          "name": "stdout",
          "text": [
            "+-----+------+\n",
            "|Month| count|\n",
            "+-----+------+\n",
            "|    7|627931|\n",
            "|   11|523272|\n",
            "|    3|616090|\n",
            "|    8|612279|\n",
            "|    5|606293|\n",
            "|    6|608665|\n",
            "|    9|540908|\n",
            "|    1|605765|\n",
            "|   10|556205|\n",
            "|    4|598126|\n",
            "|   12|544958|\n",
            "|    2|569236|\n",
            "+-----+------+\n",
            "\n"
          ]
        }
      ]
    },
    {
      "cell_type": "code",
      "source": [
        "raw_df.groupBy('Month').agg(count('Month').alias(\"count\")).sort(col(\"count\").desc()).show()"
      ],
      "metadata": {
        "colab": {
          "base_uri": "https://localhost:8080/"
        },
        "id": "eic5gJWAmPn_",
        "outputId": "02fe678d-d939-4f10-b64c-0a230b6d386d"
      },
      "execution_count": null,
      "outputs": [
        {
          "output_type": "stream",
          "name": "stdout",
          "text": [
            "+-----+------+\n",
            "|Month| count|\n",
            "+-----+------+\n",
            "|    7|627931|\n",
            "|    3|616090|\n",
            "|    8|612279|\n",
            "|    6|608665|\n",
            "|    5|606293|\n",
            "|    1|605765|\n",
            "|    4|598126|\n",
            "|    2|569236|\n",
            "|   10|556205|\n",
            "|   12|544958|\n",
            "|    9|540908|\n",
            "|   11|523272|\n",
            "+-----+------+\n",
            "\n"
          ]
        }
      ]
    },
    {
      "cell_type": "code",
      "source": [
        "raw_df.select('Month',raw_df.ArrDelay.cast('int')).groupBy('Month').agg(count('Month').alias(\"numMonth\"),avg('ArrDelay').alias(\"aveArrDelay\")).sort(col(\"numMonth\").desc()).show()"
      ],
      "metadata": {
        "colab": {
          "base_uri": "https://localhost:8080/"
        },
        "id": "YudSRWcaRjgR",
        "outputId": "9165d91a-89f5-44e7-a5cc-5bf787a4ebac"
      },
      "execution_count": null,
      "outputs": [
        {
          "output_type": "stream",
          "name": "stdout",
          "text": [
            "+-----+--------+------------------+\n",
            "|Month|numMonth|       aveArrDelay|\n",
            "+-----+--------+------------------+\n",
            "|    7|  627931| 9.975049681276131|\n",
            "|    3|  616090| 11.19236458018227|\n",
            "|    8|  612279|  6.91091468997087|\n",
            "|    6|  608665|13.266756009659792|\n",
            "|    5|  606293| 5.978448290248828|\n",
            "|    1|  605765|10.188855960349496|\n",
            "|    4|  598126| 6.807297481094145|\n",
            "|    2|  569236|13.077836997760205|\n",
            "|   10|  556205|0.4154954706912698|\n",
            "|   12|  544958|16.680505081496417|\n",
            "|    9|  540908|0.6977328787273043|\n",
            "|   11|  523272| 2.015857969430839|\n",
            "+-----+--------+------------------+\n",
            "\n"
          ]
        }
      ]
    }
  ]
}