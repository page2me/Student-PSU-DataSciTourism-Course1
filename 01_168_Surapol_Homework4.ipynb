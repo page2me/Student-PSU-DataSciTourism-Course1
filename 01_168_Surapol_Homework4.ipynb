{
  "nbformat": 4,
  "nbformat_minor": 0,
  "metadata": {
    "kernelspec": {
      "display_name": "Python 3",
      "language": "python",
      "name": "python3"
    },
    "language_info": {
      "codemirror_mode": {
        "name": "ipython",
        "version": 3
      },
      "file_extension": ".py",
      "mimetype": "text/x-python",
      "name": "python",
      "nbconvert_exporter": "python",
      "pygments_lexer": "ipython3",
      "version": "3.6.1"
    },
    "colab": {
      "name": "01_168_Surapol_Homework4.ipynb",
      "provenance": [],
      "collapsed_sections": []
    }
  },
  "cells": [
    {
      "cell_type": "code",
      "metadata": {
        "id": "0dTkA-bDa5bm"
      },
      "source": [
        "!apt-get install openjdk-8-jdk-headless -qq > /dev/null\n",
        "!wget -q https://archive.apache.org/dist/spark/spark-2.4.1/spark-2.4.1-bin-hadoop2.7.tgz\n",
        "!tar xf spark-2.4.1-bin-hadoop2.7.tgz\n",
        "!pip install -q findspark"
      ],
      "execution_count": null,
      "outputs": []
    },
    {
      "cell_type": "code",
      "metadata": {
        "id": "cy4_WOqEa5GJ"
      },
      "source": [
        "import os\n",
        "os.environ[\"JAVA_HOME\"] = \"/usr/lib/jvm/java-8-openjdk-amd64\"\n",
        "os.environ[\"SPARK_HOME\"] = \"/content/spark-2.4.1-bin-hadoop2.7\""
      ],
      "execution_count": null,
      "outputs": []
    },
    {
      "cell_type": "code",
      "metadata": {
        "id": "kI7zVpqja4du"
      },
      "source": [
        "import findspark\n",
        "findspark.init()\n",
        "from pyspark.sql import SparkSession\n",
        "spark = SparkSession.builder.master(\"local[*]\").getOrCreate()"
      ],
      "execution_count": null,
      "outputs": []
    },
    {
      "cell_type": "code",
      "metadata": {
        "collapsed": true,
        "id": "gLOiqgf1a2Ku"
      },
      "source": [
        "from pyspark.sql import SparkSession"
      ],
      "execution_count": null,
      "outputs": []
    },
    {
      "cell_type": "code",
      "metadata": {
        "collapsed": true,
        "id": "GBqMbCCxa2Kv"
      },
      "source": [
        "spark = SparkSession.builder \\\n",
        "   .appName(\"Neural Network Model\") \\\n",
        "   .config(\"spark.executor.memory\", \"3gb\") \\\n",
        "   .getOrCreate()\n",
        "   \n",
        "sc = spark.sparkContext"
      ],
      "execution_count": null,
      "outputs": []
    },
    {
      "cell_type": "code",
      "metadata": {
        "id": "MjoDgjaja2Kv",
        "colab": {
          "base_uri": "https://localhost:8080/",
          "height": 196
        },
        "outputId": "a4d16134-dca9-4e00-81a6-e4e07a1abfd1"
      },
      "source": [
        "sc"
      ],
      "execution_count": null,
      "outputs": [
        {
          "output_type": "execute_result",
          "data": {
            "text/html": [
              "\n",
              "        <div>\n",
              "            <p><b>SparkContext</b></p>\n",
              "\n",
              "            <p><a href=\"http://43b02c2f9f84:4040\">Spark UI</a></p>\n",
              "\n",
              "            <dl>\n",
              "              <dt>Version</dt>\n",
              "                <dd><code>v2.4.1</code></dd>\n",
              "              <dt>Master</dt>\n",
              "                <dd><code>local[*]</code></dd>\n",
              "              <dt>AppName</dt>\n",
              "                <dd><code>pyspark-shell</code></dd>\n",
              "            </dl>\n",
              "        </div>\n",
              "        "
            ],
            "text/plain": [
              "<SparkContext master=local[*] appName=pyspark-shell>"
            ]
          },
          "metadata": {},
          "execution_count": 6
        }
      ]
    },
    {
      "cell_type": "markdown",
      "source": [
        "**2. Data Understanding using SparkSQL**"
      ],
      "metadata": {
        "id": "TLDou9Hoh7d6"
      }
    },
    {
      "cell_type": "code",
      "metadata": {
        "id": "I7c5vxPNAPVi",
        "outputId": "68e3324e-7ea3-420d-c462-a5282e1cb90b",
        "colab": {
          "base_uri": "https://localhost:8080/"
        }
      },
      "source": [
        "! wget https://storage.googleapis.com/class25jan2022/share/2008.csv"
      ],
      "execution_count": null,
      "outputs": [
        {
          "output_type": "stream",
          "name": "stdout",
          "text": [
            "--2022-02-04 21:00:20--  https://storage.googleapis.com/class25jan2022/share/2008.csv\n",
            "Resolving storage.googleapis.com (storage.googleapis.com)... 142.250.141.128, 2607:f8b0:4023:c0b::80\n",
            "Connecting to storage.googleapis.com (storage.googleapis.com)|142.250.141.128|:443... connected.\n",
            "HTTP request sent, awaiting response... 200 OK\n",
            "Length: 689413344 (657M) [text/csv]\n",
            "Saving to: ‘2008.csv’\n",
            "\n",
            "2008.csv            100%[===================>] 657.48M   180MB/s    in 3.7s    \n",
            "\n",
            "2022-02-04 21:00:24 (177 MB/s) - ‘2008.csv’ saved [689413344/689413344]\n",
            "\n"
          ]
        }
      ]
    },
    {
      "cell_type": "code",
      "source": [
        "! wc -l ./2008.csv"
      ],
      "metadata": {
        "id": "uojN1MQGiAvK",
        "outputId": "e92f31b6-ba06-4408-bb53-7be39a126274",
        "colab": {
          "base_uri": "https://localhost:8080/"
        }
      },
      "execution_count": null,
      "outputs": [
        {
          "output_type": "stream",
          "name": "stdout",
          "text": [
            "7009729 ./2008.csv\n"
          ]
        }
      ]
    },
    {
      "cell_type": "code",
      "source": [
        "! head -3 2008.csv"
      ],
      "metadata": {
        "id": "zqqblQ21lwMY",
        "outputId": "adff58d8-9a4a-407e-bf4e-ac83a5b5f3bf",
        "colab": {
          "base_uri": "https://localhost:8080/"
        }
      },
      "execution_count": null,
      "outputs": [
        {
          "output_type": "stream",
          "name": "stdout",
          "text": [
            "Year,Month,DayofMonth,DayOfWeek,DepTime,CRSDepTime,ArrTime,CRSArrTime,UniqueCarrier,FlightNum,TailNum,ActualElapsedTime,CRSElapsedTime,AirTime,ArrDelay,DepDelay,Origin,Dest,Distance,TaxiIn,TaxiOut,Cancelled,CancellationCode,Diverted,CarrierDelay,WeatherDelay,NASDelay,SecurityDelay,LateAircraftDelay\n",
            "2008,1,3,4,2003,1955,2211,2225,WN,335,N712SW,128,150,116,-14,8,IAD,TPA,810,4,8,0,,0,NA,NA,NA,NA,NA\n",
            "2008,1,3,4,754,735,1002,1000,WN,3231,N772SW,128,145,113,2,19,IAD,TPA,810,5,10,0,,0,NA,NA,NA,NA,NA\n"
          ]
        }
      ]
    },
    {
      "cell_type": "code",
      "source": [
        "raw_df = spark.read.format('csv').\\\n",
        "option('header','true').option('mode','DROPMALFORMED')\\\n",
        ".load('2008.csv')"
      ],
      "metadata": {
        "id": "cDq69I8Mlx7a"
      },
      "execution_count": null,
      "outputs": []
    },
    {
      "cell_type": "code",
      "source": [
        "raw_df.count()"
      ],
      "metadata": {
        "id": "TB9PI8WFl5n7",
        "outputId": "89f662d4-191a-43f2-c921-f8f119d46d16",
        "colab": {
          "base_uri": "https://localhost:8080/"
        }
      },
      "execution_count": null,
      "outputs": [
        {
          "output_type": "execute_result",
          "data": {
            "text/plain": [
              "7009728"
            ]
          },
          "metadata": {},
          "execution_count": 11
        }
      ]
    },
    {
      "cell_type": "code",
      "source": [
        "raw_df.printSchema()"
      ],
      "metadata": {
        "id": "_VNu0r3nl9wj",
        "outputId": "f37de671-482f-4ffd-9f84-f9888fb7f0ca",
        "colab": {
          "base_uri": "https://localhost:8080/"
        }
      },
      "execution_count": null,
      "outputs": [
        {
          "output_type": "stream",
          "name": "stdout",
          "text": [
            "root\n",
            " |-- Year: string (nullable = true)\n",
            " |-- Month: string (nullable = true)\n",
            " |-- DayofMonth: string (nullable = true)\n",
            " |-- DayOfWeek: string (nullable = true)\n",
            " |-- DepTime: string (nullable = true)\n",
            " |-- CRSDepTime: string (nullable = true)\n",
            " |-- ArrTime: string (nullable = true)\n",
            " |-- CRSArrTime: string (nullable = true)\n",
            " |-- UniqueCarrier: string (nullable = true)\n",
            " |-- FlightNum: string (nullable = true)\n",
            " |-- TailNum: string (nullable = true)\n",
            " |-- ActualElapsedTime: string (nullable = true)\n",
            " |-- CRSElapsedTime: string (nullable = true)\n",
            " |-- AirTime: string (nullable = true)\n",
            " |-- ArrDelay: string (nullable = true)\n",
            " |-- DepDelay: string (nullable = true)\n",
            " |-- Origin: string (nullable = true)\n",
            " |-- Dest: string (nullable = true)\n",
            " |-- Distance: string (nullable = true)\n",
            " |-- TaxiIn: string (nullable = true)\n",
            " |-- TaxiOut: string (nullable = true)\n",
            " |-- Cancelled: string (nullable = true)\n",
            " |-- CancellationCode: string (nullable = true)\n",
            " |-- Diverted: string (nullable = true)\n",
            " |-- CarrierDelay: string (nullable = true)\n",
            " |-- WeatherDelay: string (nullable = true)\n",
            " |-- NASDelay: string (nullable = true)\n",
            " |-- SecurityDelay: string (nullable = true)\n",
            " |-- LateAircraftDelay: string (nullable = true)\n",
            "\n"
          ]
        }
      ]
    },
    {
      "cell_type": "code",
      "source": [
        "raw_df\\\n",
        ".select(['DepTime','TaxiOut','TaxiIn',\\\n",
        "                     'DayOfWeek','Distance','ArrDelay'])\\\n",
        "                     .describe().show()"
      ],
      "metadata": {
        "colab": {
          "base_uri": "https://localhost:8080/"
        },
        "id": "Kf8Eeckv77qi",
        "outputId": "803d1453-07c5-4ee3-b3f0-7e876265d21c"
      },
      "execution_count": null,
      "outputs": [
        {
          "output_type": "stream",
          "name": "stdout",
          "text": [
            "+-------+------------------+------------------+-----------------+------------------+-----------------+-----------------+\n",
            "|summary|           DepTime|           TaxiOut|           TaxiIn|         DayOfWeek|         Distance|         ArrDelay|\n",
            "+-------+------------------+------------------+-----------------+------------------+-----------------+-----------------+\n",
            "|  count|           7009728|           7009728|          7009728|           7009728|          7009728|          7009728|\n",
            "|   mean|1333.8300461105448|16.453045177492882|6.860851704974527|3.9241815088973495|726.3870294253928| 8.16845238729114|\n",
            "| stddev|478.06889486629836|11.332798654232155|4.933649371300466|1.9882589459851212|562.1018034840403|38.50193694882867|\n",
            "|    min|                 1|                 0|                0|                 1|              100|               -1|\n",
            "|    max|                NA|                NA|               NA|                 7|              999|               NA|\n",
            "+-------+------------------+------------------+-----------------+------------------+-----------------+-----------------+\n",
            "\n"
          ]
        }
      ]
    },
    {
      "cell_type": "code",
      "source": [
        "raw_df.groupBy('month').count().orderBy('count',ascending=False).show()"
      ],
      "metadata": {
        "colab": {
          "base_uri": "https://localhost:8080/"
        },
        "id": "OKjYsyj_F16m",
        "outputId": "64359c3c-22eb-462a-c01d-c0dc57bf1861"
      },
      "execution_count": null,
      "outputs": [
        {
          "output_type": "stream",
          "name": "stdout",
          "text": [
            "+-----+------+\n",
            "|month| count|\n",
            "+-----+------+\n",
            "|    7|627931|\n",
            "|    3|616090|\n",
            "|    8|612279|\n",
            "|    6|608665|\n",
            "|    5|606293|\n",
            "|    1|605765|\n",
            "|    4|598126|\n",
            "|    2|569236|\n",
            "|   10|556205|\n",
            "|   12|544958|\n",
            "|    9|540908|\n",
            "|   11|523272|\n",
            "+-----+------+\n",
            "\n"
          ]
        }
      ]
    },
    {
      "cell_type": "code",
      "source": [
        "from pyspark.sql import functions as sparkf"
      ],
      "metadata": {
        "id": "d6UYbZgFGsqg"
      },
      "execution_count": null,
      "outputs": []
    },
    {
      "cell_type": "code",
      "source": [
        "raw_df.groupBy('month').agg({'month':'count','ArrDelay':'avg'})\\\n",
        ".withColumnRenamed('count(month)','numMonth')\\\n",
        ".withColumnRenamed('avg(ArrDelay)','avgArrDelay')\\\n",
        ".orderBy(sparkf.col('numMonth').desc(),sparkf.col('avgArrDelay').desc()).show()"
      ],
      "metadata": {
        "colab": {
          "base_uri": "https://localhost:8080/"
        },
        "id": "onzB_mE078mo",
        "outputId": "c35e9f28-5578-45e3-c831-f2f22f4b0cc7"
      },
      "execution_count": null,
      "outputs": [
        {
          "output_type": "stream",
          "name": "stdout",
          "text": [
            "+-----+--------+------------------+\n",
            "|month|numMonth|       avgArrDelay|\n",
            "+-----+--------+------------------+\n",
            "|    7|  627931| 9.975049681276131|\n",
            "|    3|  616090| 11.19236458018227|\n",
            "|    8|  612279|  6.91091468997087|\n",
            "|    6|  608665|13.266756009659792|\n",
            "|    5|  606293| 5.978448290248828|\n",
            "|    1|  605765|10.188855960349496|\n",
            "|    4|  598126| 6.807297481094145|\n",
            "|    2|  569236|13.077836997760205|\n",
            "|   10|  556205|0.4154954706912698|\n",
            "|   12|  544958|16.680505081496417|\n",
            "|    9|  540908|0.6977328787273043|\n",
            "|   11|  523272| 2.015857969430839|\n",
            "+-----+--------+------------------+\n",
            "\n"
          ]
        }
      ]
    },
    {
      "cell_type": "code",
      "source": [
        "raw_df.groupBy('DepTime').count().orderBy('DepTime').show()"
      ],
      "metadata": {
        "id": "zP6EyO_M78Xy",
        "colab": {
          "base_uri": "https://localhost:8080/"
        },
        "outputId": "8c72556d-3cd0-4889-ad68-74869fbb865c"
      },
      "execution_count": null,
      "outputs": [
        {
          "output_type": "stream",
          "name": "stdout",
          "text": [
            "+-------+-----+\n",
            "|DepTime|count|\n",
            "+-------+-----+\n",
            "|      1|  566|\n",
            "|     10|  427|\n",
            "|    100|  217|\n",
            "|   1000|10428|\n",
            "|   1001| 7730|\n",
            "|   1002| 7419|\n",
            "|   1003| 7303|\n",
            "|   1004| 7419|\n",
            "|   1005| 9159|\n",
            "|   1006| 7196|\n",
            "|   1007| 7207|\n",
            "|   1008| 7193|\n",
            "|   1009| 6816|\n",
            "|    101|  183|\n",
            "|   1010| 8762|\n",
            "|   1011| 6680|\n",
            "|   1012| 6590|\n",
            "|   1013| 6533|\n",
            "|   1014| 6688|\n",
            "|   1015| 8349|\n",
            "+-------+-----+\n",
            "only showing top 20 rows\n",
            "\n"
          ]
        }
      ]
    },
    {
      "cell_type": "code",
      "source": [
        "from pyspark.sql.functions import col\n",
        "from pyspark.sql.types import TimestampType\n",
        "raw_df.\\\n",
        "withColumn('DepTime',col('DepTime').cast(TimestampType())).\\\n",
        "groupBy('DepTime').count().orderBy('DepTime').show()"
      ],
      "metadata": {
        "colab": {
          "base_uri": "https://localhost:8080/"
        },
        "id": "FXtzwREnxgww",
        "outputId": "245d17aa-f7d0-4dd2-b30f-4f9b642dc84d"
      },
      "execution_count": null,
      "outputs": [
        {
          "output_type": "stream",
          "name": "stdout",
          "text": [
            "+-------------------+-------+\n",
            "|            DepTime|  count|\n",
            "+-------------------+-------+\n",
            "|               null|2083706|\n",
            "|1000-01-01 00:00:00|  10428|\n",
            "|1001-01-01 00:00:00|   7730|\n",
            "|1002-01-01 00:00:00|   7419|\n",
            "|1003-01-01 00:00:00|   7303|\n",
            "|1004-01-01 00:00:00|   7419|\n",
            "|1005-01-01 00:00:00|   9159|\n",
            "|1006-01-01 00:00:00|   7196|\n",
            "|1007-01-01 00:00:00|   7207|\n",
            "|1008-01-01 00:00:00|   7193|\n",
            "|1009-01-01 00:00:00|   6816|\n",
            "|1010-01-01 00:00:00|   8762|\n",
            "|1011-01-01 00:00:00|   6680|\n",
            "|1012-01-01 00:00:00|   6590|\n",
            "|1013-01-01 00:00:00|   6533|\n",
            "|1014-01-01 00:00:00|   6688|\n",
            "|1015-01-01 00:00:00|   8349|\n",
            "|1016-01-01 00:00:00|   6500|\n",
            "|1017-01-01 00:00:00|   6510|\n",
            "|1018-01-01 00:00:00|   6617|\n",
            "+-------------------+-------+\n",
            "only showing top 20 rows\n",
            "\n"
          ]
        }
      ]
    },
    {
      "cell_type": "code",
      "source": [
        "from pyspark.sql.functions import *\n",
        "raw_df.\\\n",
        "withColumn(\"DepTime\",to_timestamp(\"DepTime\").cast('string')) .\\\n",
        "groupBy('DepTime').count().orderBy('DepTime').show()"
      ],
      "metadata": {
        "colab": {
          "base_uri": "https://localhost:8080/"
        },
        "id": "FBtEuqY086o-",
        "outputId": "3afb1bcd-c18a-4d77-d690-1a7417a263e9"
      },
      "execution_count": null,
      "outputs": [
        {
          "output_type": "stream",
          "name": "stdout",
          "text": [
            "+-------------------+-------+\n",
            "|            DepTime|  count|\n",
            "+-------------------+-------+\n",
            "|               null|2083706|\n",
            "|1000-01-01 00:00:00|  10428|\n",
            "|1001-01-01 00:00:00|   7730|\n",
            "|1002-01-01 00:00:00|   7419|\n",
            "|1003-01-01 00:00:00|   7303|\n",
            "|1004-01-01 00:00:00|   7419|\n",
            "|1005-01-01 00:00:00|   9159|\n",
            "|1006-01-01 00:00:00|   7196|\n",
            "|1007-01-01 00:00:00|   7207|\n",
            "|1008-01-01 00:00:00|   7193|\n",
            "|1009-01-01 00:00:00|   6816|\n",
            "|1010-01-01 00:00:00|   8762|\n",
            "|1011-01-01 00:00:00|   6680|\n",
            "|1012-01-01 00:00:00|   6590|\n",
            "|1013-01-01 00:00:00|   6533|\n",
            "|1014-01-01 00:00:00|   6688|\n",
            "|1015-01-01 00:00:00|   8349|\n",
            "|1016-01-01 00:00:00|   6500|\n",
            "|1017-01-01 00:00:00|   6510|\n",
            "|1018-01-01 00:00:00|   6617|\n",
            "+-------------------+-------+\n",
            "only showing top 20 rows\n",
            "\n"
          ]
        }
      ]
    },
    {
      "cell_type": "code",
      "source": [
        "from pyspark.sql.functions import *\n",
        "from pyspark.sql.types import *\n",
        "def t_timeperiod(origin):\n",
        "  if origin is None:\n",
        "    period = None\n",
        "  elif origin > 0 and origin <600:\n",
        "     period = '00.01-05.59'\n",
        "  elif origin >= 600 and origin <=1200:\n",
        "     period = '06.00-11.59'\n",
        "  elif origin >= 1200 and origin <=1800:\n",
        "     period = '12.00-17.59'\n",
        "  elif origin >= 1800 and origin <=2400:\n",
        "     period = '18.00-24.59'\n",
        "  else:\n",
        "    period='NA'\n",
        "  return period\n",
        "timeperiod=sparkf.udf(lambda x: t_timeperiod(x),StringType())\n",
        "raw_df.\\\n",
        "withColumn(\"DepTime\",timeperiod(sparkf.col('DepTime').cast(DoubleType()))).\\\n",
        "groupBy('DepTime').count().orderBy('DepTime').show()"
      ],
      "metadata": {
        "colab": {
          "base_uri": "https://localhost:8080/"
        },
        "id": "hmqZ3xri_FYF",
        "outputId": "63c19b8a-8296-483e-9837-321d252283c9"
      },
      "execution_count": null,
      "outputs": [
        {
          "output_type": "stream",
          "name": "stdout",
          "text": [
            "+-----------+-------+\n",
            "|    DepTime|  count|\n",
            "+-----------+-------+\n",
            "|       null| 136246|\n",
            "|00.01-05.59| 179949|\n",
            "|06.00-11.59|2653379|\n",
            "|12.00-17.59|2554350|\n",
            "|18.00-24.59|1485804|\n",
            "+-----------+-------+\n",
            "\n"
          ]
        }
      ]
    }
  ]
}