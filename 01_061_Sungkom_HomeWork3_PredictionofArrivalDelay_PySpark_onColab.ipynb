{
  "nbformat": 4,
  "nbformat_minor": 0,
  "metadata": {
    "kernelspec": {
      "display_name": "Python 3",
      "language": "python",
      "name": "python3"
    },
    "language_info": {
      "codemirror_mode": {
        "name": "ipython",
        "version": 3
      },
      "file_extension": ".py",
      "mimetype": "text/x-python",
      "name": "python",
      "nbconvert_exporter": "python",
      "pygments_lexer": "ipython3",
      "version": "3.6.1"
    },
    "colab": {
      "name": "01-061 Sungkom HomeWork3-PredictionofArrivalDelay-PySpark-onColab.ipynb",
      "provenance": [],
      "collapsed_sections": []
    }
  },
  "cells": [
    {
      "cell_type": "code",
      "metadata": {
        "id": "0dTkA-bDa5bm"
      },
      "source": [
        "!apt-get install openjdk-8-jdk-headless -qq > /dev/null\n",
        "!wget -q https://archive.apache.org/dist/spark/spark-2.4.1/spark-2.4.1-bin-hadoop2.7.tgz\n",
        "!tar xf spark-2.4.1-bin-hadoop2.7.tgz\n",
        "!pip install -q findspark"
      ],
      "execution_count": 1,
      "outputs": []
    },
    {
      "cell_type": "code",
      "metadata": {
        "id": "cy4_WOqEa5GJ"
      },
      "source": [
        "import os\n",
        "os.environ[\"JAVA_HOME\"] = \"/usr/lib/jvm/java-8-openjdk-amd64\"\n",
        "os.environ[\"SPARK_HOME\"] = \"/content/spark-2.4.1-bin-hadoop2.7\""
      ],
      "execution_count": 2,
      "outputs": []
    },
    {
      "cell_type": "code",
      "metadata": {
        "id": "kI7zVpqja4du"
      },
      "source": [
        "import findspark\n",
        "findspark.init()\n",
        "from pyspark.sql import SparkSession\n",
        "spark = SparkSession.builder.master(\"local[*]\").getOrCreate()"
      ],
      "execution_count": 3,
      "outputs": []
    },
    {
      "cell_type": "code",
      "metadata": {
        "collapsed": true,
        "id": "gLOiqgf1a2Ku"
      },
      "source": [
        "from pyspark.sql import SparkSession"
      ],
      "execution_count": 4,
      "outputs": []
    },
    {
      "cell_type": "code",
      "metadata": {
        "collapsed": true,
        "id": "GBqMbCCxa2Kv"
      },
      "source": [
        "spark = SparkSession.builder \\\n",
        "   .appName(\"Neural Network Model\") \\\n",
        "   .config(\"spark.executor.memory\", \"3gb\") \\\n",
        "   .getOrCreate()\n",
        "   \n",
        "sc = spark.sparkContext"
      ],
      "execution_count": 5,
      "outputs": []
    },
    {
      "cell_type": "code",
      "metadata": {
        "id": "MjoDgjaja2Kv",
        "colab": {
          "base_uri": "https://localhost:8080/",
          "height": 196
        },
        "outputId": "2b9446ce-e1d8-4a3d-d60e-9f2a916d7d98"
      },
      "source": [
        "sc"
      ],
      "execution_count": 6,
      "outputs": [
        {
          "output_type": "execute_result",
          "data": {
            "text/html": [
              "\n",
              "        <div>\n",
              "            <p><b>SparkContext</b></p>\n",
              "\n",
              "            <p><a href=\"http://995cd986ea13:4040\">Spark UI</a></p>\n",
              "\n",
              "            <dl>\n",
              "              <dt>Version</dt>\n",
              "                <dd><code>v2.4.1</code></dd>\n",
              "              <dt>Master</dt>\n",
              "                <dd><code>local[*]</code></dd>\n",
              "              <dt>AppName</dt>\n",
              "                <dd><code>pyspark-shell</code></dd>\n",
              "            </dl>\n",
              "        </div>\n",
              "        "
            ],
            "text/plain": [
              "<SparkContext master=local[*] appName=pyspark-shell>"
            ]
          },
          "metadata": {},
          "execution_count": 6
        }
      ]
    },
    {
      "cell_type": "markdown",
      "source": [
        "**2. Data Understanding using SparkSQL**"
      ],
      "metadata": {
        "id": "TLDou9Hoh7d6"
      }
    },
    {
      "cell_type": "code",
      "metadata": {
        "id": "I7c5vxPNAPVi",
        "colab": {
          "base_uri": "https://localhost:8080/"
        },
        "outputId": "e37305f6-de60-4c4b-eabe-7bfaec19ac0d"
      },
      "source": [
        "! wget https://storage.googleapis.com/class25jan2022/share/2008.csv"
      ],
      "execution_count": 7,
      "outputs": [
        {
          "output_type": "stream",
          "name": "stdout",
          "text": [
            "--2022-01-30 07:54:44--  https://storage.googleapis.com/class25jan2022/share/2008.csv\n",
            "Resolving storage.googleapis.com (storage.googleapis.com)... 142.250.152.128, 173.194.196.128, 173.194.192.128, ...\n",
            "Connecting to storage.googleapis.com (storage.googleapis.com)|142.250.152.128|:443... connected.\n",
            "HTTP request sent, awaiting response... 200 OK\n",
            "Length: 689413344 (657M) [text/csv]\n",
            "Saving to: ‘2008.csv’\n",
            "\n",
            "2008.csv            100%[===================>] 657.48M   185MB/s    in 3.6s    \n",
            "\n",
            "2022-01-30 07:54:48 (184 MB/s) - ‘2008.csv’ saved [689413344/689413344]\n",
            "\n"
          ]
        }
      ]
    },
    {
      "cell_type": "code",
      "source": [
        "! wc -l ./2008.csv"
      ],
      "metadata": {
        "id": "uojN1MQGiAvK",
        "colab": {
          "base_uri": "https://localhost:8080/"
        },
        "outputId": "41ff1495-32ef-4da0-801e-003fc21e1ce9"
      },
      "execution_count": 8,
      "outputs": [
        {
          "output_type": "stream",
          "name": "stdout",
          "text": [
            "7009729 ./2008.csv\n"
          ]
        }
      ]
    },
    {
      "cell_type": "code",
      "source": [
        "! head -3 2008.csv"
      ],
      "metadata": {
        "id": "zqqblQ21lwMY",
        "colab": {
          "base_uri": "https://localhost:8080/"
        },
        "outputId": "a69546cc-ca8b-4dd8-a5f6-9454fe314aa7"
      },
      "execution_count": 9,
      "outputs": [
        {
          "output_type": "stream",
          "name": "stdout",
          "text": [
            "Year,Month,DayofMonth,DayOfWeek,DepTime,CRSDepTime,ArrTime,CRSArrTime,UniqueCarrier,FlightNum,TailNum,ActualElapsedTime,CRSElapsedTime,AirTime,ArrDelay,DepDelay,Origin,Dest,Distance,TaxiIn,TaxiOut,Cancelled,CancellationCode,Diverted,CarrierDelay,WeatherDelay,NASDelay,SecurityDelay,LateAircraftDelay\n",
            "2008,1,3,4,2003,1955,2211,2225,WN,335,N712SW,128,150,116,-14,8,IAD,TPA,810,4,8,0,,0,NA,NA,NA,NA,NA\n",
            "2008,1,3,4,754,735,1002,1000,WN,3231,N772SW,128,145,113,2,19,IAD,TPA,810,5,10,0,,0,NA,NA,NA,NA,NA\n"
          ]
        }
      ]
    },
    {
      "cell_type": "code",
      "source": [
        "raw_df = spark.read.format('csv').\\\n",
        "option('header','true').option('mode','DROPMALFORMED')\\\n",
        ".load('2008.csv')"
      ],
      "metadata": {
        "id": "cDq69I8Mlx7a"
      },
      "execution_count": 10,
      "outputs": []
    },
    {
      "cell_type": "markdown",
      "source": [
        "1"
      ],
      "metadata": {
        "id": "FZaBLEjR7V6i"
      }
    },
    {
      "cell_type": "code",
      "source": [
        "raw_df.count()"
      ],
      "metadata": {
        "id": "zP6EyO_M78Xy",
        "colab": {
          "base_uri": "https://localhost:8080/"
        },
        "outputId": "0d765744-ff29-4e4c-f223-5a4a378c90a8"
      },
      "execution_count": 11,
      "outputs": [
        {
          "output_type": "execute_result",
          "data": {
            "text/plain": [
              "7009728"
            ]
          },
          "metadata": {},
          "execution_count": 11
        }
      ]
    },
    {
      "cell_type": "markdown",
      "source": [
        "2"
      ],
      "metadata": {
        "id": "ZCIMeGJ47h--"
      }
    },
    {
      "cell_type": "code",
      "source": [
        "raw_df.printSchema()"
      ],
      "metadata": {
        "id": "SN0Jgkft7jv8",
        "colab": {
          "base_uri": "https://localhost:8080/"
        },
        "outputId": "53afced4-5ff2-40ce-de92-96b3a0392a81"
      },
      "execution_count": 12,
      "outputs": [
        {
          "output_type": "stream",
          "name": "stdout",
          "text": [
            "root\n",
            " |-- Year: string (nullable = true)\n",
            " |-- Month: string (nullable = true)\n",
            " |-- DayofMonth: string (nullable = true)\n",
            " |-- DayOfWeek: string (nullable = true)\n",
            " |-- DepTime: string (nullable = true)\n",
            " |-- CRSDepTime: string (nullable = true)\n",
            " |-- ArrTime: string (nullable = true)\n",
            " |-- CRSArrTime: string (nullable = true)\n",
            " |-- UniqueCarrier: string (nullable = true)\n",
            " |-- FlightNum: string (nullable = true)\n",
            " |-- TailNum: string (nullable = true)\n",
            " |-- ActualElapsedTime: string (nullable = true)\n",
            " |-- CRSElapsedTime: string (nullable = true)\n",
            " |-- AirTime: string (nullable = true)\n",
            " |-- ArrDelay: string (nullable = true)\n",
            " |-- DepDelay: string (nullable = true)\n",
            " |-- Origin: string (nullable = true)\n",
            " |-- Dest: string (nullable = true)\n",
            " |-- Distance: string (nullable = true)\n",
            " |-- TaxiIn: string (nullable = true)\n",
            " |-- TaxiOut: string (nullable = true)\n",
            " |-- Cancelled: string (nullable = true)\n",
            " |-- CancellationCode: string (nullable = true)\n",
            " |-- Diverted: string (nullable = true)\n",
            " |-- CarrierDelay: string (nullable = true)\n",
            " |-- WeatherDelay: string (nullable = true)\n",
            " |-- NASDelay: string (nullable = true)\n",
            " |-- SecurityDelay: string (nullable = true)\n",
            " |-- LateAircraftDelay: string (nullable = true)\n",
            "\n"
          ]
        }
      ]
    },
    {
      "cell_type": "markdown",
      "source": [
        "3"
      ],
      "metadata": {
        "id": "2PoDp9DB72Ik"
      }
    },
    {
      "cell_type": "code",
      "source": [
        "raw_df.describe().show()"
      ],
      "metadata": {
        "id": "gr6MRZay73GL",
        "outputId": "84206fe2-5375-48e6-8a9a-7e0f90f76acd",
        "colab": {
          "base_uri": "https://localhost:8080/"
        }
      },
      "execution_count": 19,
      "outputs": [
        {
          "output_type": "stream",
          "name": "stdout",
          "text": [
            "+-------+--------------------+------------------+-----------------+------------------+------------------+------------------+------------------+------------------+-------------+-----------------+-------+------------------+------------------+-----------------+-----------------+------------------+-------+-------+-----------------+-----------------+------------------+--------------------+----------------+--------------------+------------------+-----------------+------------------+-------------------+------------------+\n",
            "|summary|                Year|             Month|       DayofMonth|         DayOfWeek|           DepTime|        CRSDepTime|           ArrTime|        CRSArrTime|UniqueCarrier|        FlightNum|TailNum| ActualElapsedTime|    CRSElapsedTime|          AirTime|         ArrDelay|          DepDelay| Origin|   Dest|         Distance|           TaxiIn|           TaxiOut|           Cancelled|CancellationCode|            Diverted|      CarrierDelay|     WeatherDelay|          NASDelay|      SecurityDelay| LateAircraftDelay|\n",
            "+-------+--------------------+------------------+-----------------+------------------+------------------+------------------+------------------+------------------+-------------+-----------------+-------+------------------+------------------+-----------------+-----------------+------------------+-------+-------+-----------------+-----------------+------------------+--------------------+----------------+--------------------+------------------+-----------------+------------------+-------------------+------------------+\n",
            "|  count|             7009728|           7009728|          7009728|           7009728|           7009728|           7009728|           7009728|           7009728|      7009728|          7009728|6926363|           7009728|           7009728|          7009728|          7009728|           7009728|7009728|7009728|          7009728|          7009728|           7009728|             7009728|          137434|             7009728|           7009728|          7009728|           7009728|            7009728|           7009728|\n",
            "|   mean|              2008.0| 6.375129676928976|15.72801483880687|3.9241815088973495|1333.8300461105448|1326.0856632382884| 1481.258226684178|1494.8011536253618|         null|2224.200105196664|   null|127.32242372716439|128.86679391469454|104.0185891263188| 8.16845238729114| 9.972570088930182|   null|   null|726.3870294253928|6.860851704974527|16.453045177492882|0.019606181580797428|            null|0.002463005697225...|15.772063342154539|3.039031044738922| 17.16462270492905|0.07497433980331009|20.770981186894772|\n",
            "| stddev|1.692871967309801...|3.4067366032507986|8.797067919493633|1.9882589459851212|478.06889486629836| 464.2509106889191|505.22512933801556|482.67282151078666|         null|1961.715998533819|   null|  70.1873078604597| 69.40973572391974|67.43979594730754|38.50193694882867|35.311270777552785|   null|   null|562.1018034840403|4.933649371300466|11.332798654232155| 0.13864264122836248|            null| 0.04956752617051835| 40.09911594635346|19.50287413039825|31.894954751426276| 1.8379400064440026| 39.25963608638892|\n",
            "|    min|                2008|                 1|                1|                 1|                 1|                 0|                 1|                 0|           9E|                1| 80009E|               100|               -10|                0|               -1|                -1|    ABE|    ABE|              100|                0|                 0|                   0|               A|                   0|                 0|                0|                 0|                  0|                 0|\n",
            "|    max|                2008|                 9|                9|                 7|                NA|               959|                NA|               959|           YV|              999| Unknow|                NA|                NA|               NA|               NA|                NA|    YUM|    YUM|              999|               NA|                NA|                   1|               D|                   1|                NA|               NA|                NA|                 NA|                NA|\n",
            "+-------+--------------------+------------------+-----------------+------------------+------------------+------------------+------------------+------------------+-------------+-----------------+-------+------------------+------------------+-----------------+-----------------+------------------+-------+-------+-----------------+-----------------+------------------+--------------------+----------------+--------------------+------------------+-----------------+------------------+-------------------+------------------+\n",
            "\n"
          ]
        }
      ]
    },
    {
      "cell_type": "markdown",
      "source": [
        "4"
      ],
      "metadata": {
        "id": "GweiyUAc8hk8"
      }
    },
    {
      "cell_type": "code",
      "source": [
        "raw_df.groupBy('Month').count().sort(\"count\", 'Month',ascending=False).show()"
      ],
      "metadata": {
        "id": "BN9_rhf68j_p",
        "colab": {
          "base_uri": "https://localhost:8080/"
        },
        "outputId": "4ece0265-5cbe-425c-dd76-8c42d4bf4f20"
      },
      "execution_count": 16,
      "outputs": [
        {
          "output_type": "stream",
          "name": "stdout",
          "text": [
            "+-----+------+\n",
            "|Month| count|\n",
            "+-----+------+\n",
            "|    7|627931|\n",
            "|    3|616090|\n",
            "|    8|612279|\n",
            "|    6|608665|\n",
            "|    5|606293|\n",
            "|    1|605765|\n",
            "|    4|598126|\n",
            "|    2|569236|\n",
            "|   10|556205|\n",
            "|   12|544958|\n",
            "|    9|540908|\n",
            "|   11|523272|\n",
            "+-----+------+\n",
            "\n"
          ]
        }
      ]
    },
    {
      "cell_type": "markdown",
      "source": [
        "5"
      ],
      "metadata": {
        "id": "KeOuY5JAD0Sm"
      }
    },
    {
      "cell_type": "code",
      "source": [
        "raw_df.groupBy('Month').count().sort(\"count\", 'Month',ascending=False)\n",
        "\n",
        "\n",
        "\n"
      ],
      "metadata": {
        "colab": {
          "base_uri": "https://localhost:8080/"
        },
        "id": "1DEcp1ASlOeb",
        "outputId": "14aaa26c-16b5-4341-9614-519aee5423ee"
      },
      "execution_count": 98,
      "outputs": [
        {
          "output_type": "stream",
          "name": "stdout",
          "text": [
            "+-----+------+\n",
            "|Month| count|\n",
            "+-----+------+\n",
            "|    7|627931|\n",
            "|    3|616090|\n",
            "|    8|612279|\n",
            "|    6|608665|\n",
            "|    5|606293|\n",
            "|    1|605765|\n",
            "|    4|598126|\n",
            "|    2|569236|\n",
            "|   10|556205|\n",
            "|   12|544958|\n",
            "|    9|540908|\n",
            "|   11|523272|\n",
            "+-----+------+\n",
            "\n"
          ]
        }
      ]
    }
  ]
}